{
 "cells": [
  {
   "cell_type": "code",
   "execution_count": 19,
   "metadata": {},
   "outputs": [],
   "source": [
    "import os\n",
    "import json\n",
    "import sys\n",
    "sys.path.append(\"../\")\n",
    "sys.path.append(\"../src\")\n",
    "sys.path.append(\"../prompts\")\n",
    "sys.path.append(\"../src/llmperf\")\n",
    "\n",
    "import numpy as np\n",
    "import pandas as pd\n",
    "import matplotlib.pyplot as plt\n",
    "import seaborn as sns\n",
    "\n",
    "from src.performance_evaluation import SyntheticPerformanceEvaluator\n",
    "from src.llmperf import utils"
   ]
  },
  {
   "cell_type": "markdown",
   "metadata": {},
   "source": [
    "# Run multiple models through the benchmarking process"
   ]
  },
  {
   "cell_type": "markdown",
   "metadata": {},
   "source": [
    "__Note:__ This analysis will work if a COE endpoint is used. Users will be able to test and compare performance metrics for different experts."
   ]
  },
  {
   "cell_type": "code",
   "execution_count": null,
   "metadata": {},
   "outputs": [],
   "source": [
    "model_names = [\"llama3-8b\", \"llama3-70b\", \"llama3-405b\"]\n",
    "results_dir = \"../data/results/multiple_models\"\n",
    "num_workers = 1\n",
    "timeout = 600\n",
    "num_input_tokens = 1000\n",
    "num_output_tokens = 1000\n",
    "num_requests = 1 \n",
    "sampling_params={}\n",
    "user_metadata={}\n",
    "llm_api=\"sncloud\""
   ]
  },
  {
   "cell_type": "code",
   "execution_count": null,
   "metadata": {},
   "outputs": [],
   "source": [
    "df_all_summary_results = pd.DataFrame()\n",
    "for model_idx, model_name in enumerate(model_names):\n",
    "    user_metadata[\"model_idx\"] = model_idx\n",
    "    # Instantiate evaluator\n",
    "    evaluator = SyntheticPerformanceEvaluator(\n",
    "        model_name=model_name,\n",
    "        results_dir=results_dir,\n",
    "        num_workers=num_workers,\n",
    "        timeout=timeout,\n",
    "        user_metadata=user_metadata,\n",
    "        llm_api=llm_api,\n",
    "    )\n",
    "\n",
    "    # Run performance evaluation\n",
    "    model_results_summary, model_results_per_request = evaluator.run_benchmark(\n",
    "        num_input_tokens=num_input_tokens,\n",
    "        num_output_tokens=num_output_tokens,\n",
    "        num_requests=num_requests,\n",
    "        sampling_params=sampling_params\n",
    "    )\n",
    "    \n",
    "    flatten_model_results_summary = utils.flatten_dict(model_results_summary)\n",
    "    filtered_flatten_model_results_summary = {key: value for key, value in flatten_model_results_summary.items() if key not in [\"model\"]}\n",
    "    df_model_results_summary = pd.DataFrame.from_dict(filtered_flatten_model_results_summary, orient='index', columns=[flatten_model_results_summary[\"model\"]])\n",
    "    \n",
    "    df_all_summary_results = pd.concat([df_all_summary_results, df_model_results_summary], axis=1)"
   ]
  },
  {
   "cell_type": "markdown",
   "metadata": {},
   "source": [
    "# Analyze collected results"
   ]
  },
  {
   "cell_type": "code",
   "execution_count": null,
   "metadata": {},
   "outputs": [],
   "source": [
    "df_all_summary_results"
   ]
  },
  {
   "cell_type": "markdown",
   "metadata": {},
   "source": [
    "# Analyze switching time"
   ]
  },
  {
   "cell_type": "code",
   "execution_count": null,
   "metadata": {},
   "outputs": [],
   "source": [
    "# post processing individual request json files\n",
    "def read_json_files_to_df(directory):\n",
    "    data = []\n",
    "    \n",
    "    # Iterate through all files in the directory\n",
    "    for filename in os.listdir(directory):\n",
    "        if filename.endswith('individual_responses.json'):\n",
    "            model_name = '_'.join(filename.split('_')[:2])\n",
    "            file_path = os.path.join(directory, filename)\n",
    "            # Read the JSON file\n",
    "            with open(file_path, 'r') as file:\n",
    "                json_data = json.load(file)\n",
    "                \n",
    "                # Extract relevant fields from each JSON object and append to the data list\n",
    "                for item in json_data:\n",
    "                    data.append({\n",
    "                        'start_time': item['start_time'],\n",
    "                        'end_time': item['end_time'],\n",
    "                        'server_ttft_s': item['server_ttft_s'],\n",
    "                        'model_name': model_name\n",
    "                    })\n",
    "    \n",
    "    # Create a DataFrame from the data list\n",
    "    df = pd.DataFrame(data)\n",
    "    return df\n",
    "\n",
    "# Get the DataFrame\n",
    "df = read_json_files_to_df(results_dir)\n",
    "\n",
    "# transforming str to date time for sorting\n",
    "df['start_time'] = pd.to_datetime(df['start_time'])\n",
    "df = df.sort_values(by=['start_time'])\n",
    "\n",
    "# transforming back to str for plotting\n",
    "df['start_time'] = df['start_time'].dt.strftime(date_format=\"%H:%M:%S\")\n",
    "df"
   ]
  },
  {
   "cell_type": "code",
   "execution_count": null,
   "metadata": {},
   "outputs": [],
   "source": [
    "# Initialize a column for the switching time\n",
    "df['server_switching_time'] = None\n",
    "\n",
    "# Group by model_name\n",
    "grouped = df.groupby('model_name')\n",
    "\n",
    "# Iterate through each group to calculate switching time\n",
    "for name, group in grouped:\n",
    "    if len(group) > 1:\n",
    "        first_ttft = group['server_ttft_s'].iloc[0]\n",
    "        mean_ttft = group['server_ttft_s'].iloc[1:].mean()\n",
    "        std_ttft = group['server_ttft_s'].iloc[1:].std()\n",
    "        std_ttft = 1e-16 if np.isnan(std_ttft) else std_ttft\n",
    "        switching_time = first_ttft - mean_ttft\n",
    "        if switching_time > (mean_ttft + 3*std_ttft):\n",
    "            df.loc[group.index[0], 'server_switching_time'] = switching_time\n",
    "        else:\n",
    "            None\n",
    "    else:\n",
    "        df.loc[group.index[0], 'server_switching_time'] = None\n",
    "\n",
    "with pd.option_context('display.max_rows', None,):\n",
    "    display(df)"
   ]
  },
  {
   "cell_type": "code",
   "execution_count": null,
   "metadata": {},
   "outputs": [],
   "source": [
    "# Create a scatter plot\n",
    "plt.figure(figsize=(40, 12))\n",
    "sns.scatterplot(x='start_time', y='server_ttft_s', hue='model_name', data=df, s=100, alpha=0.7)\n",
    "\n",
    "# Identify and plot the first datapoint for each model_name with a red color and bold marker\n",
    "first_points = df.groupby('model_name').first().reset_index()\n",
    "plt.scatter(first_points['start_time'], first_points['server_ttft_s'], color='red', s=150, edgecolor='black', linewidth=2, label='First Point')\n",
    "\n",
    "# Customize the plot\n",
    "plt.title('Scatter Plot of server_ttft_s Over Time by Model Name')\n",
    "plt.xlabel('Start Time')\n",
    "plt.ylabel('Server TTFT (s)')\n",
    "plt.legend(title='Model Name', loc='upper left')\n",
    "plt.xticks(rotation='vertical')\n",
    "plt.grid(True)\n",
    "plt.tight_layout()\n",
    "\n",
    "# Show the plot\n",
    "plt.show()"
   ]
  },
  {
   "cell_type": "code",
   "execution_count": null,
   "metadata": {},
   "outputs": [],
   "source": []
  }
 ],
 "metadata": {
  "kernelspec": {
   "display_name": "benchmark_venv",
   "language": "python",
   "name": "benchmark_venv"
  },
  "language_info": {
   "codemirror_mode": {
    "name": "ipython",
    "version": 3
   },
   "file_extension": ".py",
   "mimetype": "text/x-python",
   "name": "python",
   "nbconvert_exporter": "python",
   "pygments_lexer": "ipython3",
   "version": "3.11.9"
  }
 },
 "nbformat": 4,
 "nbformat_minor": 2
}
