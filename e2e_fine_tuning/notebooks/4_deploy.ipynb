{
 "cells": [
  {
   "cell_type": "markdown",
   "metadata": {
    "vscode": {
     "languageId": "plaintext"
    }
   },
   "source": [
    "#  DeploymenT and inference"
   ]
  },
  {
   "cell_type": "code",
   "execution_count": 3,
   "metadata": {},
   "outputs": [],
   "source": [
    "import os\n",
    "import sys\n",
    "\n",
    "current_dir = os.getcwd()\n",
    "kit_dir =  os.path.abspath(os.path.join(current_dir, '..'))\n",
    "repo_dir = os.path.abspath(os.path.join(kit_dir, '..'))\n",
    "sys.path.append(repo_dir)\n",
    "\n",
    "from utils.fine_tuning.src.snsdk_wrapper import SnsdkWrapper"
   ]
  },
  {
   "cell_type": "markdown",
   "metadata": {},
   "source": [
    "## Step by Step / Manual setting"
   ]
  },
  {
   "cell_type": "code",
   "execution_count": 4,
   "metadata": {},
   "outputs": [
    {
     "name": "stderr",
     "output_type": "stream",
     "text": [
      "2024-11-25 11:41:55,648 [INFO] Using variables from Snapi config to set up Snsdk.\n"
     ]
    }
   ],
   "source": [
    "sambastudio_client = SnsdkWrapper()"
   ]
  },
  {
   "cell_type": "markdown",
   "metadata": {},
   "source": [
    "### Create Project"
   ]
  },
  {
   "cell_type": "code",
   "execution_count": null,
   "metadata": {},
   "outputs": [],
   "source": [
    "project = {\n",
    "    'project_name': 'byoc fine-tuning project',\n",
    "    'project_description': 'this project will be used to test the BYOC and Fine-tuning e2e pipeline implementation'\n",
    "}"
   ]
  },
  {
   "cell_type": "code",
   "execution_count": null,
   "metadata": {},
   "outputs": [
    {
     "name": "stderr",
     "output_type": "stream",
     "text": [
      "2024-11-22 18:57:48,601 [INFO] Project with name 'byoc fine-tuning project' found with id 08b2e9e9-cebe-4f57-9271-a7e6c6f1561d\n",
      "2024-11-22 18:57:48,601 [INFO] Project with name 'byoc fine-tuning project' already exists with id '08b2e9e9-cebe-4f57-9271-a7e6c6f1561d', using it\n"
     ]
    },
    {
     "data": {
      "text/plain": [
       "'08b2e9e9-cebe-4f57-9271-a7e6c6f1561d'"
      ]
     },
     "metadata": {},
     "output_type": "display_data"
    }
   ],
   "source": [
    "sambastudio_client.create_project(\n",
    "    project_name = project['project_name'],\n",
    "    project_description = project['project_description']\n",
    ")"
   ]
  },
  {
   "cell_type": "markdown",
   "metadata": {},
   "source": [
    "### Create a Bundle model"
   ]
  },
  {
   "cell_type": "markdown",
   "metadata": {},
   "source": [
    "#### Set bundle model config "
   ]
  },
  {
   "cell_type": "code",
   "execution_count": null,
   "metadata": {},
   "outputs": [],
   "source": [
    "composite_model= {\n",
    "    'model_name':  'Suzume-Llama-3-8B-Multilingual-Bundle',\n",
    "    'description': 'Bundle including base and public health fine-tuned Suzume-Llama-3-8B-Multilingual',\n",
    "    'rdu_required': 8,\n",
    "    'model_version': '1',\n",
    "    'model_list':\n",
    "        - 'Suzume-Llama-3-8B-Multilingual'\n",
    "        - 'Suzume-Llama-3-8B-Multilingual-Publichealth'\n",
    "}"
   ]
  },
  {
   "cell_type": "code",
   "execution_count": null,
   "metadata": {},
   "outputs": [],
   "source": [
    "sambastudio_client.create_composite_model(       \n",
    "        model_name = composite_model['model_name'],\n",
    "        description = composite_model['description'],\n",
    "        model_list = composite_model['model_list'],\n",
    "        rdu_required = composite_model['rdu_required']\n",
    ")"
   ]
  },
  {
   "cell_type": "markdown",
   "metadata": {},
   "source": [
    "### Create Endpoint"
   ]
  },
  {
   "cell_type": "markdown",
   "metadata": {},
   "source": [
    "#### Set endpoint config "
   ]
  },
  {
   "cell_type": "code",
   "execution_count": null,
   "metadata": {},
   "outputs": [],
   "source": [
    "endpoint = {\n",
    "  'endpoint_name': 'suzume-multilingual-endpoint',\n",
    "  'endpoint_description': 'endpoint for suzume multilingual bundle',\n",
    "  'endpoint_instances': 1,\n",
    "  'hyperparams': {}\n",
    "}"
   ]
  },
  {
   "cell_type": "code",
   "execution_count": null,
   "metadata": {},
   "outputs": [],
   "source": [
    "sambastudio_client.create_endpoint(\n",
    "    project_name=project['project_name'],\n",
    "    endpoint_name=endpoint['endpoint_name'],\n",
    "    endpoint_description=endpoint['endpoint_description'],\n",
    "    model_name=composite_model['model_name'],\n",
    "    model_version=composite_model['model_version'],\n",
    "    instances=endpoint['endpoint_instances'],\n",
    "    hyperparams=endpoint['hyperparams'],\n",
    "    rdu_arch=\"SN40L-8\",\n",
    ")"
   ]
  },
  {
   "cell_type": "code",
   "execution_count": null,
   "metadata": {},
   "outputs": [],
   "source": [
    "sambastudio_client.get_endpoint_details(\n",
    "    project_name=\"example project\",\n",
    "    endpoint_name=\"test-endpoint-sql\"\n",
    ")"
   ]
  },
  {
   "cell_type": "markdown",
   "metadata": {},
   "source": [
    "### Inference"
   ]
  },
  {
   "cell_type": "markdown",
   "metadata": {},
   "source": [
    "#### Get endpoint details"
   ]
  },
  {
   "cell_type": "code",
   "execution_count": null,
   "metadata": {},
   "outputs": [],
   "source": [
    "endpoint_env = sambastudio_client.get_endpoint_details(\n",
    "    project_name=project['project_name'],\n",
    "    endpoint_name=endpoint['endpoint_name'][\"langchain_wrapper_env\"]\n",
    ")"
   ]
  },
  {
   "cell_type": "code",
   "execution_count": null,
   "metadata": {},
   "outputs": [],
   "source": [
    "from langchain_community.chat_models import ChatSambaStudio\n",
    "\n",
    "multilingual_llm = ChatSambaStudio(\n",
    "    sambastudio_url=endpoint_env.get(\"SAMBASTUDIO_URL\"),\n",
    "    sambastudio_api_key=endpoint_env.get(\"SAMBASTUDIO_API_KEY\"),\n",
    "    temperature = 0.01,\n",
    "    max_tokens = 1024,\n",
    "    process_prompt = False,\n",
    "    model = \"Suzume-Llama-3-8B-Multilingual\"\n",
    ")\n",
    "\n",
    "multilingual_health_llm = ChatSambaStudio(\n",
    "    sambastudio_url=endpoint_env.get(\"SAMBASTUDIO_URL\"),\n",
    "    sambastudio_api_key=endpoint_env.get(\"SAMBASTUDIO_API_KEY\"),\n",
    "    temperature = 0.01,\n",
    "    max_tokens = 1024,\n",
    "    process_prompt = False,\n",
    "    model = \"Suzume-Llama-3-8B-Multilingual-Publichealth\"\n",
    ")"
   ]
  },
  {
   "cell_type": "code",
   "execution_count": null,
   "metadata": {},
   "outputs": [],
   "source": [
    "multilingual_llm.invoke(\"which are the best habits to improve my mental capabilities\")"
   ]
  },
  {
   "cell_type": "code",
   "execution_count": null,
   "metadata": {},
   "outputs": [],
   "source": [
    "multilingual_health_llm.invoke(\"Why im felling mental fatigue, can be covid related\")"
   ]
  },
  {
   "cell_type": "markdown",
   "metadata": {},
   "source": [
    "## Streamlined Execution"
   ]
  },
  {
   "cell_type": "code",
   "execution_count": null,
   "metadata": {},
   "outputs": [],
   "source": [
    "config_file = os.path.join(repo_dir, 'finetune_config.yaml')\n",
    "sambastudio_client = SnsdkWrapper(config_file)\n",
    "sambastudio_client.create_project()\n",
    "sambastudio_client.create_composite_model()\n",
    "sambastudio_client.create_endpoint()\n",
    "endpoint_env = sambastudio_client.get_endpoint_details(\n",
    "    project_name=project['project_name'],\n",
    "    endpoint_name=endpoint['endpoint_name'][\"langchain_wrapper_env\"]\n",
    ")"
   ]
  }
 ],
 "metadata": {
  "kernelspec": {
   "display_name": "finetuning_env",
   "language": "python",
   "name": "python3"
  },
  "language_info": {
   "codemirror_mode": {
    "name": "ipython",
    "version": 3
   },
   "file_extension": ".py",
   "mimetype": "text/x-python",
   "name": "python",
   "nbconvert_exporter": "python",
   "pygments_lexer": "ipython3",
   "version": "3.11.3"
  }
 },
 "nbformat": 4,
 "nbformat_minor": 2
}
