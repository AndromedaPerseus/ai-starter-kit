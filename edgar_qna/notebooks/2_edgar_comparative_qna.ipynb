{
 "cells": [
  {
   "cell_type": "markdown",
   "metadata": {},
   "source": [
    "# Edgar: Comparative Q&A"
   ]
  },
  {
   "cell_type": "code",
   "execution_count": 2,
   "metadata": {},
   "outputs": [],
   "source": [
    "import os\n",
    "import sys\n",
    "import nest_asyncio\n",
    "nest_asyncio.apply()\n",
    "from typing import List, Any\n",
    "import logging\n",
    "\n",
    "\n",
    "current_dir = os.getcwd()\n",
    "kit_dir = os.path.abspath(os.path.join(current_dir, \"..\"))\n",
    "repo_dir = os.path.abspath(os.path.join(kit_dir, \"..\"))\n",
    "\n",
    "sys.path.append(kit_dir)\n",
    "sys.path.append(repo_dir)\n",
    "\n",
    "# Langchain imports\n",
    "from langchain.vectorstores import Chroma\n",
    "from langchain.embeddings.huggingface import HuggingFaceInstructEmbeddings\n",
    "from langchain.chains import LLMChain\n",
    "from langchain.chains.combine_documents.stuff import StuffDocumentsChain\n",
    "from langchain.prompts import (\n",
    "    PromptTemplate,\n",
    "    load_prompt\n",
    ")\n",
    "from langchain_community.document_loaders import PyPDFLoader\n",
    "from langchain.text_splitter import RecursiveCharacterTextSplitter\n",
    "from langchain_core.output_parsers import BaseOutputParser\n",
    "from langchain_core.documents.base import Document\n",
    "from langchain.retrievers.multi_query import MultiQueryRetriever\n",
    "\n",
    "# Llama index imports\n",
    "from llama_index import SimpleDirectoryReader, ServiceContext, VectorStoreIndex\n",
    "from llama_index.tools import QueryEngineTool, ToolMetadata\n",
    "from llama_index.query_engine import SubQuestionQueryEngine\n",
    "from llama_index.llms import (\n",
    "    CustomLLM,\n",
    "    CompletionResponse,\n",
    "    CompletionResponseGen,\n",
    "    LLMMetadata,\n",
    ")\n",
    "from llama_index.llms.base import llm_completion_callback\n",
    "\n",
    "\n",
    "#from utils.sambanova_endpoint import SambaNovaEndpoint\n",
    "from langchain_community.llms.sambanova import SambaStudio, Sambaverse\n",
    "from utils.model_wrappers.langchain_llms import SambaNovaFastAPI\n",
    "\n",
    "\n",
    "from dotenv import load_dotenv\n",
    "load_dotenv(os.path.join(repo_dir,'.env'))\n",
    "\n",
    "logging.basicConfig()\n",
    "logging.getLogger(\"langchain.retrievers.multi_query\").setLevel(logging.INFO)"
   ]
  },
  {
   "cell_type": "markdown",
   "metadata": {},
   "source": [
    "## Get the data"
   ]
  },
  {
   "cell_type": "code",
   "execution_count": 9,
   "metadata": {},
   "outputs": [
    {
     "name": "stdout",
     "output_type": "stream",
     "text": [
      "Directory created: /Users/rodrigom/ai-starter-kit-snova/edgar_qna/data/sec-edgar-filings/reports\n"
     ]
    }
   ],
   "source": [
    "# Define the directory path\n",
    "dir_path = f'{kit_dir}/data/sec-edgar-filings/reports'\n",
    "\n",
    "# Check if the directory exists and create it if it doesn't\n",
    "if not os.path.exists(dir_path):\n",
    "    os.makedirs(dir_path)\n",
    "    print(\"Directory created:\", dir_path)\n",
    "else:\n",
    "    print(\"Directory already exists:\", dir_path)"
   ]
  },
  {
   "cell_type": "code",
   "execution_count": 10,
   "metadata": {},
   "outputs": [
    {
     "name": "stdout",
     "output_type": "stream",
     "text": [
      "--2024-08-09 16:20:23--  https://raw.githubusercontent.com/run-llama/llama_index/main/docs/docs/examples/data/10k/uber_2021.pdf\n",
      "Resolving raw.githubusercontent.com (raw.githubusercontent.com)... 2606:50c0:8002::154, 2606:50c0:8001::154, 2606:50c0:8000::154, ...\n",
      "Connecting to raw.githubusercontent.com (raw.githubusercontent.com)|2606:50c0:8002::154|:443... connected.\n",
      "HTTP request sent, awaiting response... 200 OK\n",
      "Length: 1880483 (1.8M) [application/octet-stream]\n",
      "Saving to: ‘/Users/rodrigom/ai-starter-kit-snova/edgar_qna/data/sec-edgar-filings/reports/uber_2021.pdf’\n",
      "\n",
      "/Users/rodrigom/ai- 100%[===================>]   1.79M  --.-KB/s    in 0.1s    \n",
      "\n",
      "2024-08-09 16:20:23 (16.8 MB/s) - ‘/Users/rodrigom/ai-starter-kit-snova/edgar_qna/data/sec-edgar-filings/reports/uber_2021.pdf’ saved [1880483/1880483]\n",
      "\n",
      "--2024-08-09 16:20:24--  https://raw.githubusercontent.com/run-llama/llama_index/main/docs/docs/examples/data/10k/lyft_2021.pdf\n",
      "Resolving raw.githubusercontent.com (raw.githubusercontent.com)... 2606:50c0:8002::154, 2606:50c0:8001::154, 2606:50c0:8000::154, ...\n",
      "Connecting to raw.githubusercontent.com (raw.githubusercontent.com)|2606:50c0:8002::154|:443... connected.\n",
      "HTTP request sent, awaiting response... 200 OK\n",
      "Length: 1440303 (1.4M) [application/octet-stream]\n",
      "Saving to: ‘/Users/rodrigom/ai-starter-kit-snova/edgar_qna/data/sec-edgar-filings/reports/lyft_2021.pdf’\n",
      "\n",
      "/Users/rodrigom/ai- 100%[===================>]   1.37M  --.-KB/s    in 0.1s    \n",
      "\n",
      "2024-08-09 16:20:24 (13.8 MB/s) - ‘/Users/rodrigom/ai-starter-kit-snova/edgar_qna/data/sec-edgar-filings/reports/lyft_2021.pdf’ saved [1440303/1440303]\n",
      "\n"
     ]
    }
   ],
   "source": [
    "!wget 'https://raw.githubusercontent.com/run-llama/llama_index/main/docs/docs/examples/data/10k/uber_2021.pdf' -O '{dir_path}/uber_2021.pdf'\n",
    "!wget 'https://raw.githubusercontent.com/run-llama/llama_index/main/docs/docs/examples/data/10k/lyft_2021.pdf' -O '{dir_path}/lyft_2021.pdf'"
   ]
  },
  {
   "cell_type": "markdown",
   "metadata": {},
   "source": [
    "## Llama index"
   ]
  },
  {
   "cell_type": "markdown",
   "metadata": {},
   "source": [
    "### Uber vs Lift 2021"
   ]
  },
  {
   "cell_type": "code",
   "execution_count": 70,
   "metadata": {},
   "outputs": [],
   "source": [
    "class SambaNovaLLMWrapper(CustomLLM):\n",
    "    context_window: int = 3900\n",
    "    num_output: int = 256\n",
    "    model_name: str = \"sambanova_llama7b\"\n",
    "    \n",
    "    def _get_sambanova_llm(self):\n",
    "\n",
    "        # Using Sambaverse\n",
    "        llm = Sambaverse(\n",
    "           sambaverse_model_name='Meta/llama-2-7b-chat-hf',\n",
    "           model_kwargs={\n",
    "               'do_sample': False,\n",
    "               'max_tokens_to_generate': 512,\n",
    "               'select_expert': 'llama-2-7b-chat-hf',\n",
    "               'process_prompt': False,\n",
    "               'temperature': 0.01,\n",
    "           },\n",
    "        )\n",
    "\n",
    "        # Using SambaStudio\n",
    "        # llm = SambaStudio(\n",
    "        #     streaming=True,\n",
    "        #     model_kwargs={\n",
    "        #         'max_tokens_to_generate': 512,\n",
    "        #         'select_expert': 'Meta-Llama-3-70B-Instruct',\n",
    "        #         'process_prompt': False,\n",
    "        #     },\n",
    "        # )\n",
    "\n",
    "        # Using SambaNovaFastAPI \n",
    "        #llm = SambaNovaFastAPI(\n",
    "        #        max_tokens = 512,\n",
    "        #        model= 'llama3-8b',\n",
    "        #)\n",
    "\n",
    "        return llm\n",
    "\n",
    "    @property\n",
    "    def metadata(self) -> LLMMetadata:\n",
    "        \"\"\"Get LLM metadata.\"\"\"\n",
    "        return LLMMetadata(\n",
    "            context_window=self.context_window,\n",
    "            num_output=self.num_output,\n",
    "            model_name=self.model_name,\n",
    "        )\n",
    "\n",
    "    @llm_completion_callback()\n",
    "    def complete(self, prompt: str, **kwargs: Any) -> CompletionResponse:\n",
    "        llm = self._get_sambanova_llm()\n",
    "        response = llm(prompt)\n",
    "        return CompletionResponse(text=response)\n",
    "\n",
    "    @llm_completion_callback()\n",
    "    def stream_complete(\n",
    "        self, prompt: str, **kwargs: Any\n",
    "    ) -> CompletionResponseGen:\n",
    "        llm = self._get_sambanova_llm()\n",
    "        llm_response = llm(prompt)\n",
    "        for token in llm_response:\n",
    "            response += token\n",
    "            yield CompletionResponse(text=response, delta=token)"
   ]
  },
  {
   "cell_type": "code",
   "execution_count": 40,
   "metadata": {},
   "outputs": [],
   "source": [
    "# Instantiate LLM \n",
    "llm = SambaNovaLLMWrapper()"
   ]
  },
  {
   "cell_type": "code",
   "execution_count": 41,
   "metadata": {},
   "outputs": [
    {
     "name": "stdout",
     "output_type": "stream",
     "text": [
      "load INSTRUCTOR_Transformer\n",
      "max_seq_length  512\n"
     ]
    }
   ],
   "source": [
    "# Instatiate embedding model\n",
    "embedding_model = HuggingFaceInstructEmbeddings(\n",
    "    query_instruction=\"Represent the query for retrieval: \"\n",
    ")"
   ]
  },
  {
   "cell_type": "code",
   "execution_count": 71,
   "metadata": {},
   "outputs": [],
   "source": [
    "# Declare service context\n",
    "service_context = ServiceContext.from_defaults(llm=llm, embed_model=embedding_model)"
   ]
  },
  {
   "cell_type": "code",
   "execution_count": 43,
   "metadata": {},
   "outputs": [
    {
     "name": "stderr",
     "output_type": "stream",
     "text": [
      "Parsing nodes: 100%|██████████| 238/238 [00:00<00:00, 645.67it/s]\n",
      "Generating embeddings: 100%|██████████| 350/350 [03:14<00:00,  1.80it/s]\n",
      "Parsing nodes: 100%|██████████| 307/307 [00:00<00:00, 678.65it/s]\n",
      "Generating embeddings: 100%|██████████| 419/419 [03:38<00:00,  1.91it/s]\n"
     ]
    }
   ],
   "source": [
    "## Load data \n",
    "lyft_docs = SimpleDirectoryReader(\n",
    "    input_files=[os.path.join(kit_dir,\"data/sec-edgar-filings/reports/lyft_2021.pdf\")]\n",
    ").load_data()\n",
    "uber_docs = SimpleDirectoryReader(\n",
    "    input_files=[os.path.join(kit_dir,\"data/sec-edgar-filings/reports/uber_2021.pdf\")]\n",
    ").load_data()\n",
    "\n",
    "## Build indices\n",
    "lyft_index = VectorStoreIndex.from_documents(lyft_docs, show_progress=True, service_context=service_context)\n",
    "\n",
    "uber_index = VectorStoreIndex.from_documents(uber_docs, show_progress=True, service_context=service_context)\n",
    "\n",
    "## Build query engines\n",
    "lyft_engine = lyft_index.as_query_engine(similarity_top_k=3)\n",
    "\n",
    "uber_engine = uber_index.as_query_engine(similarity_top_k=3)"
   ]
  },
  {
   "cell_type": "code",
   "execution_count": 44,
   "metadata": {},
   "outputs": [],
   "source": [
    "# Instantiate query engine tools\n",
    "query_engine_tools = [\n",
    "    QueryEngineTool(\n",
    "        query_engine=lyft_engine,\n",
    "        metadata=ToolMetadata(\n",
    "            name=\"lyft_10k\",\n",
    "            description=(\n",
    "                \"Provides information about Lyft financials for year 2021\"\n",
    "            ),\n",
    "        ),\n",
    "    ),\n",
    "    QueryEngineTool(\n",
    "        query_engine=uber_engine,\n",
    "        metadata=ToolMetadata(\n",
    "            name=\"uber_10k\",\n",
    "            description=(\n",
    "                \"Provides information about Uber financials for year 2021\"\n",
    "            ),\n",
    "        ),\n",
    "    ),\n",
    "]\n",
    "\n",
    "# Instantiate Sub query engine\n",
    "s_engine = SubQuestionQueryEngine.from_defaults(\n",
    "    query_engine_tools=query_engine_tools,\n",
    "    service_context=service_context\n",
    ")"
   ]
  },
  {
   "cell_type": "code",
   "execution_count": 45,
   "metadata": {},
   "outputs": [
    {
     "name": "stderr",
     "output_type": "stream",
     "text": [
      "/Users/rodrigom/ai-starter-kit-snova/edgar_qna/.venv/lib/python3.11/site-packages/langchain_core/_api/deprecation.py:139: LangChainDeprecationWarning: The method `BaseLLM.__call__` was deprecated in langchain-core 0.1.7 and will be removed in 0.3.0. Use invoke instead.\n",
      "  warn_deprecated(\n"
     ]
    },
    {
     "name": "stdout",
     "output_type": "stream",
     "text": [
      "stream true, handleling requests\n",
      "Generated 4 sub questions.\n",
      "\u001b[1;3;38;2;237;90;200m[uber_10k] Q: What are the customer segments that grew the fastest for Uber\n",
      "\u001b[0m\u001b[1;3;38;2;90;149;237m[uber_10k] Q: What are the geographies that grew the fastest for Uber\n",
      "\u001b[0m\u001b[1;3;38;2;11;159;203m[lyft_10k] Q: What are the customer segments that grew the fastest for Lyft\n",
      "\u001b[0m\u001b[1;3;38;2;155;135;227m[lyft_10k] Q: What are the geographies that grew the fastest for Lyft\n",
      "\u001b[0mstream true, handleling requests\n",
      "\u001b[1;3;38;2;237;90;200m[uber_10k] A:  The customer segments that grew the fastest for Uber are not explicitly mentioned in the provided context. However, it can be inferred that the active advertising merchants grew to over 170,000 during the fourth quarter of 2021, indicating a significant growth in this segment. Additionally, Uber One, Uber Pass, Eats Pass, and Rides Pass membership programs had over 6 million members, suggesting growth in these segments as well.\n",
      "\u001b[0mstream true, handleling requests\n",
      "\u001b[1;3;38;2;90;149;237m[uber_10k] A:  The geographies that grew the fastest for Uber are Asia Pacific (APAC) and Europe, Middle East and Africa (EMEA). APAC grew from $821 million in 2019 to $2,731 million in 2021, and EMEA grew from $1,852 million in 2019 to $3,213 million in 2021.\n",
      "\u001b[0mstream true, handleling requests\n",
      "\u001b[1;3;38;2;155;135;227m[lyft_10k] A:  Not mentioned in the given context.\n",
      "\u001b[0mstream true, handleling requests\n",
      "\u001b[1;3;38;2;11;159;203m[lyft_10k] A:  The customer segments that grew the fastest for Lyft are not explicitly mentioned in the provided context. However, it can be inferred that Lyft's business segment, which includes corporate, healthcare, auto, education, and government sectors, is a growing area for the company.\n",
      "\u001b[0mstream true, handleling requests\n",
      " Based on the provided context, Uber's customer segments that grew the fastest include active advertising merchants and membership programs such as Uber One, Uber Pass, Eats Pass, and Rides Pass. On the other hand, Lyft's fastest-growing customer segments are not explicitly mentioned, but its business segment appears to be a growing area.\n",
      "\n",
      "In terms of geographies, Uber's fastest-growing regions are Asia Pacific (APAC) and Europe, Middle East and Africa (EMEA). Lyft's fastest-growing geographies are not mentioned in the provided context. Overall, Uber provides more information about its growing customer segments and geographies compared to Lyft.\n",
      "stream true, handleling requests\n",
      "Generated 4 sub questions.\n",
      "\u001b[1;3;38;2;237;90;200m[uber_10k] Q: What is the revenue of Uber in 2020\n",
      "\u001b[0m\u001b[1;3;38;2;90;149;237m[uber_10k] Q: What is the revenue of Uber in 2021\n",
      "\u001b[0m\u001b[1;3;38;2;11;159;203m[lyft_10k] Q: What is the revenue of Lyft in 2020\n",
      "\u001b[0m\u001b[1;3;38;2;155;135;227m[lyft_10k] Q: What is the revenue of Lyft in 2021\n",
      "\u001b[0mstream true, handleling requests\n",
      "\u001b[1;3;38;2;237;90;200m[uber_10k] A: 11,139 million dollars.\n",
      "\u001b[0mstream true, handleling requests\n",
      "\u001b[1;3;38;2;155;135;227m[lyft_10k] A: 3,208,323 (in thousands)\n",
      "\u001b[0mstream true, handleling requests\n",
      "\u001b[1;3;38;2;11;159;203m[lyft_10k] A: 2,364,681 (in thousands)\n",
      "\u001b[0mstream true, handleling requests\n",
      "\u001b[1;3;38;2;90;149;237m[uber_10k] A: 17,455 million dollars.\n",
      "\u001b[0mstream true, handleling requests\n",
      " To compare the revenue growth of Uber and Lyft from 2020 to 2021, we need to calculate the growth rate for each company. \n",
      "\n",
      "For Uber, the revenue in 2020 was 11,139 million dollars and in 2021 was 17,455 million dollars. The growth rate is (17,455 - 11,139) / 11,139 = 56.5%.\n",
      "\n",
      "For Lyft, the revenue in 2020 was 2,364,681 (in thousands) and in 2021 was 3,208,323 (in thousands). First, we need to convert both values to millions: 2,364,681 / 1,000 = 2,365 million and 3,208,323 / 1,000 = 3,208 million. The growth rate is (3,208 - 2,365) / 2,365 = 35.4%.\n",
      "\n",
      "Therefore, Uber's revenue growth from 2020 to 2021 was 56.5%, while Lyft's revenue growth was 35.4%. Uber's revenue growth was higher than Lyft's.\n"
     ]
    }
   ],
   "source": [
    "## Run queries\n",
    "response = s_engine.query(\n",
    "    \"Compare and contrast the customer segments and geographies that grew the fastest\"\n",
    ")\n",
    "\n",
    "print(response)\n",
    "\n",
    "response = s_engine.query(\n",
    "    \"Compare revenue growth of Uber and Lyft from 2020 to 2021\"\n",
    ")\n",
    "\n",
    "print(response)"
   ]
  },
  {
   "cell_type": "markdown",
   "metadata": {},
   "source": [
    "## Langchain"
   ]
  },
  {
   "cell_type": "markdown",
   "metadata": {},
   "source": [
    "### Uber vs Lift 2021"
   ]
  },
  {
   "cell_type": "code",
   "execution_count": 46,
   "metadata": {},
   "outputs": [],
   "source": [
    "chunk_size = 1000\n",
    "chunk_overlap = 0"
   ]
  },
  {
   "cell_type": "code",
   "execution_count": 48,
   "metadata": {},
   "outputs": [],
   "source": [
    "# Load uber data\n",
    "loader = PyPDFLoader(os.path.join(kit_dir,\"data/sec-edgar-filings/reports/uber_2021.pdf\"))\n",
    "data = loader.load()\n",
    "for document in data:\n",
    "    document.metadata['company'] = 'Uber'\n",
    "    document.metadata['year'] = 2021\n",
    "\n",
    "# Split\n",
    "text_splitter = RecursiveCharacterTextSplitter(chunk_size=chunk_size, chunk_overlap=chunk_overlap)\n",
    "uber_splits = text_splitter.split_documents(data)"
   ]
  },
  {
   "cell_type": "code",
   "execution_count": 55,
   "metadata": {},
   "outputs": [
    {
     "data": {
      "text/plain": [
       "[Document(metadata={'source': '/Users/rodrigom/ai-starter-kit-snova/edgar_qna/data/sec-edgar-filings/reports/uber_2021.pdf', 'page': 0, 'company': 'Uber', 'year': 2021}, page_content='UNITED STATESSECURITIES AND EXCHANGE COMMISSION\\nWashington, D.C. 20549\\n____________________________________________ \\nFORM\\n 10-K____________________________________________ \\n(Mark One)\\n☒\\n ANNUAL REPORT PURSUANT TO SECTION 13 OR 15(d) OF THE SECURITIES EXCHANGE ACT OF 1934For the fiscal year ended\\n December 31, 2021OR\\n☐\\n TRANSITION REPORT PURSUANT TO SECTION 13 OR 15(d) OF THE SECURITIES EXCHANGE ACT OF 1934For the transition period from_____ to _____            \\nCommission File Number: 001-38902\\n____________________________________________ \\nUBER TECHNOLOGIES, INC.\\n(Exact name of registrant as specif\\nied in its charter)____________________________________________ \\nDelaware\\n45-2647441 (State or other jurisdiction of inco\\nrporation or organization)(I.R.S. Employer Identification No.) 1515 3rd Street\\nSan Francisco, California 94158\\n(Address of principal executive offic\\nes, including zip code)(415) 612-8582\\n(Registrant’s telephone number, including area code)'),\n",
       " Document(metadata={'source': '/Users/rodrigom/ai-starter-kit-snova/edgar_qna/data/sec-edgar-filings/reports/uber_2021.pdf', 'page': 0, 'company': 'Uber', 'year': 2021}, page_content='____________________________________________\\nSecurities registered pursuant to Sect\\nion 12(b) of the Act:Title of each class\\nTrading Symbol(s) Name of each exchange on which registered Common Stock, par value $0.00001 per share\\nUBER New York Stock Exchange Securities register\\ned pursuant to Section 12(g) of the Act: NoneIndicate by check mark whe\\nther the registrant is a well-known seasoned issuer, as defined in Rule 405 of the Securities Act. Yes  ☒  No ☐Indicate by check mark whe\\nther the registrant is not required to file reports pursuant to Section 13 or Section 15(d) of the Act. Yes  ☐  No  ☒Indicate by\\n check mark whether the registrant (1) has filed all reports required to be filed by Section 13 or 15(d) of the Securities Exchange Act of 1934 during thepreceding\\n 12 months (or for such shorter period that the registrant was required to file such reports), and (2) has been subject to such filing requirements for thepast 90 days. Yes  \\n☒  No ☐Indicate'),\n",
       " Document(metadata={'source': '/Users/rodrigom/ai-starter-kit-snova/edgar_qna/data/sec-edgar-filings/reports/uber_2021.pdf', 'page': 0, 'company': 'Uber', 'year': 2021}, page_content='by check mark whether the registrant has submitted electronically every Interactive Data File required to be submitted pursuant to Rule 405 of RegulationS-T (§232.405 of this chapter) during \\nthe preceding 12 months (or for such shorter period that the registrant was required to submit such files). Yes  ☒  No ☐Indicate\\n by check mark whether the registrant is a large accelerated filer, an accelerated filer, a non-accelerated filer, a smaller reporting company, or an emerginggrowth\\n company. See the definitions of “large accelerated filer,” “accelerated filer,” “smaller reporting company,” and “emerging growth company” in Rule 12b-2of the Exchange Act.')]"
      ]
     },
     "execution_count": 55,
     "metadata": {},
     "output_type": "execute_result"
    }
   ],
   "source": [
    "# check uber splits\n",
    "uber_splits[:3]"
   ]
  },
  {
   "cell_type": "code",
   "execution_count": 49,
   "metadata": {},
   "outputs": [],
   "source": [
    "# Load lyft data\n",
    "loader = PyPDFLoader(os.path.join(kit_dir,\"data/sec-edgar-filings/reports/lyft_2021.pdf\"))\n",
    "data = loader.load()\n",
    "for document in data:\n",
    "    document.metadata['company'] = 'Lyft'\n",
    "    document.metadata['year'] = 2021\n",
    "\n",
    "# Split\n",
    "text_splitter = RecursiveCharacterTextSplitter(chunk_size=chunk_size, chunk_overlap=chunk_overlap)\n",
    "lyft_splits = text_splitter.split_documents(data)"
   ]
  },
  {
   "cell_type": "code",
   "execution_count": 54,
   "metadata": {},
   "outputs": [
    {
     "data": {
      "text/plain": [
       "[Document(metadata={'source': '/Users/rodrigom/ai-starter-kit-snova/edgar_qna/data/sec-edgar-filings/reports/lyft_2021.pdf', 'page': 0, 'company': 'Lyft', 'year': 2021}, page_content='UNITED STATESSECURITIES AND EXCHANGE COMMISSION\\nWashington, D.C. 20549\\nFORM 10-K\\n \\n(Mark One)\\n☒\\nANNUAL REPORT PURS UANT TO SECTION 13 OR 15(d) OF THE SECURITIES EXCHANGE ACT OF 1934For the fiscal year ended December 31, 2021\\nOR\\n☐\\nTRANSITION REPORT PURS UANT TO SECTION 13 OR 15(d) OF THE SECURITIES EXCHANGE ACT OF 1934 FOR THE TRANSITION PERIODFROM                      TO\\nCommission File Number 001-38846\\nLyft, Inc.\\n(Exact name of Registrant as specified in i\\nts Charter)Delaware\\n20-8809830 (State or other jurisdiction of\\nincorporation or organization)\\n(I.R.S. EmployerIdentification No.)\\n185 Berry Street, Suite 5000\\nSan Francisco, California\\n94107 (Address of principal executive offices)\\n(Zip Code) Registrant’s telephone number, including area code: (844) 250\\n-2773Securities registered pursuant to Section 12(b) of the Act: \\nTitle of each class\\nTradingSymbol(s)\\nName of each exchange on which registered Class A common stock, par value of $0.00001 per share'),\n",
       " Document(metadata={'source': '/Users/rodrigom/ai-starter-kit-snova/edgar_qna/data/sec-edgar-filings/reports/lyft_2021.pdf', 'page': 0, 'company': 'Lyft', 'year': 2021}, page_content='LYFT Nasdaq Global Select Market Securities registered pursuant to Section 12(g) of the Act: \\nNone Indicate by check mark if the Registrant is a well-known seasoned issuer, as defined in Rule 405 of the Securities Act. Yes \\n☒ \\xa0No ☐Indicate by check mark if the Registrant is not required to file reports pursuant to Section 13 or 15(d) of the Act.  Yes \\n☐ \\xa0No ☒Indicate by check mark whether the Registrant: (1) has filed all reports required to be filed by Section 13 or 15(d) of the Securities Exchange Act of 1934 during the preceding 12 months (or for such\\nshorter period that the Registrant was required to file such reports), and (2) has been subject to such filing requirements for the past 90 days.  Yes \\n☒ \\xa0No ☐Indicate by check mark whether the Registrant has submitted electronically every Interactive Data F'),\n",
       " Document(metadata={'source': '/Users/rodrigom/ai-starter-kit-snova/edgar_qna/data/sec-edgar-filings/reports/lyft_2021.pdf', 'page': 0, 'company': 'Lyft', 'year': 2021}, page_content='ile required to be submitted pursuant to Rule 405 of Regulation S-T (§232.405 of this chapter) duringthe preceding 12 months (or for such shorter period that the Registrant was required to submit such files).  Yes \\n☒ \\xa0No ☐Indicate by check mark whether the registrant is a large accelerated filer, an accelerated filer, a non-accelerated filer, smaller reporting company, or an emerging growth company. See the definitions of\\n“large accelerated filer,” “accelerated filer,” “smaller reporting company,” and “emerging growth company” in Rule 12b-2 of the Exchange Act.\\nLarge accelerated filer\\n☒ Accelerated filer ☐ Non-accelerated filer\\n☐ Smaller reporting company ☐ Emerging growth company\\n☐ If an emerging growth company, indicate by check mark if the registrant has elected not to use the extended transit\\nion period for complying with any new or revised financial accounting standardsprovided pursuant to Section 13(a) of the Exchange Act.')]"
      ]
     },
     "execution_count": 54,
     "metadata": {},
     "output_type": "execute_result"
    }
   ],
   "source": [
    "# check lyft splits\n",
    "lyft_splits[:3]"
   ]
  },
  {
   "cell_type": "code",
   "execution_count": 50,
   "metadata": {},
   "outputs": [
    {
     "name": "stdout",
     "output_type": "stream",
     "text": [
      "1499 uber split docs\n",
      "1043 lyft split docs\n",
      "2542 all docs\n"
     ]
    }
   ],
   "source": [
    "splits = [*uber_splits,*lyft_splits]\n",
    "\n",
    "print(f\"{len(uber_splits)} uber split docs\")\n",
    "print(f\"{len(lyft_splits)} lyft split docs\")\n",
    "print(f\"{len(splits)} all docs\")"
   ]
  },
  {
   "cell_type": "code",
   "execution_count": 51,
   "metadata": {},
   "outputs": [
    {
     "name": "stdout",
     "output_type": "stream",
     "text": [
      "load INSTRUCTOR_Transformer\n",
      "max_seq_length  512\n"
     ]
    }
   ],
   "source": [
    "# Load embeddings and create vector store\n",
    "embedding = HuggingFaceInstructEmbeddings(\n",
    "    query_instruction=\"Represent the query for retrieval: \"\n",
    ")\n",
    "\n",
    "vectordb = Chroma.from_documents(documents=splits, embedding=embedding)"
   ]
  },
  {
   "cell_type": "code",
   "execution_count": 74,
   "metadata": {},
   "outputs": [],
   "source": [
    "# create llm object from Sambanova endpoint class\n",
    "# Using Sambaverse\n",
    "llm = Sambaverse(\n",
    "           sambaverse_model_name='Meta/llama-2-7b-chat-hf',\n",
    "           model_kwargs={\n",
    "               'do_sample': False,\n",
    "               'max_tokens_to_generate': 512,\n",
    "               'select_expert': 'llama-2-7b-chat-hf',\n",
    "               'process_prompt': False,\n",
    "               'temperature': 0.01,\n",
    "           },\n",
    "       )\n",
    "\n",
    "# Using SambaStudio\n",
    "# llm = SambaStudio(\n",
    "#             streaming=True,\n",
    "#             model_kwargs={\n",
    "#                 'max_tokens_to_generate': 512,\n",
    "#                 'select_expert': 'Meta-Llama-3-70B-Instruct',\n",
    "#                 'process_prompt': False,\n",
    "#             },\n",
    "#         )\n",
    "\n",
    "# Using SambaNovaFastAPI \n",
    "#llm = SambaNovaFastAPI(\n",
    "#        max_tokens = 512,\n",
    "#        model= 'llama3-8b',\n",
    "#)"
   ]
  },
  {
   "cell_type": "code",
   "execution_count": 60,
   "metadata": {},
   "outputs": [
    {
     "data": {
      "text/plain": [
       "['1. What are the revenue breakdowns for Document 1?',\n",
       " '2. What are the revenue breakdowns for Document 2?']"
      ]
     },
     "execution_count": 60,
     "metadata": {},
     "output_type": "execute_result"
    }
   ],
   "source": [
    "# Output parser will split the LLM result into a list of queries\n",
    "class LineListOutputParser(BaseOutputParser[List[str]]):\n",
    "    \"\"\"Output parser for a list of lines.\"\"\"\n",
    "\n",
    "    def parse(self, text: str) -> List[str]:\n",
    "        lines = text.strip().split(\"\\n\")\n",
    "        questions = [question.strip() for question in lines if '?' in question]\n",
    "        return list(filter(None, questions))  # Remove empty lines\n",
    "\n",
    "output_parser = LineListOutputParser()\n",
    "\n",
    "# Testing parser\n",
    "parsing = output_parser.parse(\"  1. What are the revenue breakdowns for Document 1?\\n                       2. What are the revenue breakdowns for Document 2?\")\n",
    "parsing"
   ]
  },
  {
   "cell_type": "code",
   "execution_count": 61,
   "metadata": {},
   "outputs": [],
   "source": [
    "# Saving and Loading a prompt template\n",
    "query_decomposition_prompt = PromptTemplate(\n",
    "    input_variables=[\"question\"],\n",
    "    \n",
    "    template=\"\"\"Given the following complex query, decompose the query into a list of questions directly and concisely.\n",
    "    Complex query: {question}\n",
    "    List of decomposed questions: \"\"\",\n",
    ")\n",
    "\n",
    "\n",
    "query_decomposition_prompt.save(os.path.join(kit_dir,'prompts/edgar_comparative_qna-query_decomposition_prompt.yaml'))\n",
    "query_decomposition_prompt = load_prompt(os.path.join(kit_dir,'prompts/edgar_comparative_qna-query_decomposition_prompt.yaml'))"
   ]
  },
  {
   "cell_type": "code",
   "execution_count": 79,
   "metadata": {},
   "outputs": [
    {
     "data": {
      "text/plain": [
       "{'question': \"What are the key risks mentioned in the risk factors section of both Microsoft and Apple's 10-K reports, and how do they differ in terms of potential impact and mitigation strategies?\",\n",
       " 'text': [\"1. What are the key risks mentioned in Microsoft's 10-K report?\",\n",
       "  \"2. What are the key risks mentioned in Apple's 10-K report?\",\n",
       "  \"3. How do the key risks in Microsoft's report differ from the key risks in Apple's report?\",\n",
       "  \"4. How do the potential impacts of the key risks in Microsoft's report differ from the potential impacts of the key risks in Apple's report?\",\n",
       "  \"5. What are the mitigation strategies mentioned in Microsoft's report to address the key risks?\",\n",
       "  \"6. What are the mitigation strategies mentioned in Apple's report to address the key risks?\",\n",
       "  \"7. How do the mitigation strategies in Microsoft's report differ from the mitigation strategies in Apple's report?\"]}"
      ]
     },
     "execution_count": 79,
     "metadata": {},
     "output_type": "execute_result"
    }
   ],
   "source": [
    "# Testing a Chain including the parser\n",
    "llm_chain = LLMChain(llm=llm, prompt=query_decomposition_prompt, output_parser=output_parser)\n",
    "llm_chain.invoke(\"What are the key risks mentioned in the risk factors section of both Microsoft and Apple's 10-K reports, and how do they differ in terms of potential impact and mitigation strategies?\")"
   ]
  },
  {
   "cell_type": "code",
   "execution_count": 114,
   "metadata": {},
   "outputs": [
    {
     "name": "stderr",
     "output_type": "stream",
     "text": [
      "INFO:langchain.retrievers.multi_query:Generated queries: [\"1. What are the key risks mentioned in Uber's 10-K report?\", \"2. What are the key risks mentioned in Lyft's 10-K report?\", \"3. How do the key risks mentioned in Uber's 10-K report differ from the key risks mentioned in Lyft's 10-K report?\", \"4. How do the key risks mentioned in both Uber and Lyft's 10-K reports differ in terms of potential impact?\", \"5. What are the mitigation strategies mentioned in Uber's 10-K report for the key risks mentioned?\", \"6. What are the mitigation strategies mentioned in Lyft's 10-K report for the key risks mentioned?\", \"7. How do the mitigation strategies mentioned in Uber's 10-K report differ from the mitigation strategies mentioned in Lyft's 10-K report?\"]\n"
     ]
    },
    {
     "data": {
      "text/plain": [
       "[Document(metadata={'company': 'Uber', 'page': 11, 'source': '/Users/rodrigom/ai-starter-kit-snova/edgar_qna/data/sec-edgar-filings/reports/uber_2021.pdf', 'year': 2021}, page_content='additional discussion, see the risk factor titled “—If we are unable to attract or maintain a critical mass of Drivers, consumers, merchants, shippers, andcarriers, whether\\n as a result of competition or other factors, our platform will become less appealing to platform users, and our financial results would be adverselyimpacted.”\\n included  in  Part  I,  Item  1A  of  this  Annual  Report  on  Form  10-K  as  well  our  2021  ESG  Report  and  our  2021  People  and  Culture  Report.  Theinformation in these r\\neports is not a part of this Form 10-K.Additional Information\\nWe\\n were  founded  in  2009  and  incorporated  as  Ubercab,  Inc.,  a  Delaware  corporation,  in  July  2010.  In  February  2011,  we  changed  our  name  to  UberTechnologies, Inc. Our principa\\nl executive offices are located at 1515 3rd Street, San Francisco, California 94158, and our telephone number is (415) 612-8582.10'),\n",
       " Document(metadata={'company': 'Uber', 'source': '/Users/rodrigom/ai-starter-kit-snova/edgar_qna/data/sec-edgar-filings/pdfs/uber_10k_2021.html', 'year': 2021}, page_content='For additional discussion, see the risk factor titled “—If we are unable to attract or maintain a critical mass of Drivers, consumers, merchants, shippers, and carriers, whether as a result of competition or other factors, our platform will become less appealing to platform users, and our financial results would be adversely impacted.” included in Part I, Item 1A of this Annual Report on Form 10-K as well our 2021 ESG Report and our 2021 People and Culture Report. The information in these reports is not a part of this Form 10-K.\\n\\nAdditional Information\\n\\nWe were founded in 2009 and incorporated as Ubercab, Inc., a Delaware corporation, in July 2010. In February 2011, we changed our name to Uber Technologies, Inc. Our principal executive offices are located at 1515 3rd Street, San Francisco, California 94158, and our telephone number is (415) 612-8582.\\n\\n10'),\n",
       " Document(metadata={'company': 'Uber', 'source': '/Users/rodrigom/ai-starter-kit-snova/edgar_qna/data/sec-edgar-filings/pdfs/uber_10k_2021.html', 'year': 2021}, page_content='For a discussion of risk factors related to how misclassification challenges may impact our business, result of operations, financial position and operating condition and cash flows, see the risk factor titled “-Our business would be adversely affected if Drivers were classified as employees, workers or quasi-employees” included in Part I, Item 1A, “Risk Factors”, and Note 15 – Commitments and Contingencies to our consolidated financial statements included in Part II, Item 8, “Financial Statements and Supplementary Data,” of this Annual Report on Form 10-K.'),\n",
       " Document(metadata={'company': 'Lyft', 'page': 22, 'source': '/Users/rodrigom/ai-starter-kit-snova/edgar_qna/data/sec-edgar-filings/reports/lyft_2021.pdf', 'year': 2021}, page_content='igate the risks facing our business, which could adversely affect our business, financial condition and results of operations.From the\\n time a driver becomes available to accept rides in the Lyft Driver App until the driver logs off and is no longer available to accept rides, we, through ourwholly-owned\\n insurance  subsidiary  and  deductibles,  often  bear  substantial  financial  risk  with  respect  to  auto-related  incidents,  including  auto  liability,  uninsured  andunderinsured\\n motorist, auto physical damage, first party injury coverages including personal injury protection under state law and general business liabilities up to certainlimits.\\n To comply with certain United States and Canadian province insurance regulatory requirements for auto-related risks, we procure a number of third-party insurancepolicies'),\n",
       " Document(metadata={'company': 'Lyft', 'source': '/Users/rodrigom/ai-starter-kit-snova/edgar_qna/data/sec-edgar-filings/reports/lyft_10k_2021.html', 'year': 2021}, page_content='31\\n\\nLyft’s Express Drive program which could increase prices, and in turn adversely affect our ability to attract and retain qualified drivers.\\n\\nAny negative publicity related to any of our third-party and affiliate vehicle rental partners, including publicity related to quality standards or safety concerns, could adversely affect our reputation and brand and could potentially lead to increased regulatory or litigation exposure. Any of the foregoing risks could adversely affect our business, financial condition and results of operations.\\n\\nOur Express Drive program, Lyft Rentals program, and potential future fleet businesses expose us to certain risks, including with respect to decreases in the residual value related to the used car market values, or reductions in the utilization of vehicles in the fleets.'),\n",
       " Document(metadata={'company': 'Lyft', 'page': 18, 'source': '/Users/rodrigom/ai-starter-kit-snova/edgar_qna/data/sec-edgar-filings/reports/lyft_2021.pdf', 'year': 2021}, page_content='Risks Related to Operational FactorsOur limited operating history and our evolving business make \\nit difficult to evaluate our future prospects and the risks and challenges we may encounter.While\\n we have primarily focused on ridesharing since our ridesharing marketplace launched in 2012, our business continues to evolve. We regularly expand ourplatform\\n features, offerings and services and change our pricing methodologies. In recent periods, we have also reevaluated and changed our cost structure and focused ourbusiness\\n model. Our evolving business, industry and markets make it difficult to evaluate our future prospects and the risks and challenges we may encounter. Risks andchallenges we have faced o\\nr expect to face include our ability to:•\\nforecast our revenue and budget for and manage our expenses;•\\nattract new qualified drivers and new riders and retain existing qualified drivers and existing riders in a cost-effective manner;•')]"
      ]
     },
     "execution_count": 114,
     "metadata": {},
     "output_type": "execute_result"
    }
   ],
   "source": [
    "# Setting up the Chain and MultiqueryRetriever\n",
    "llm_chain = LLMChain(llm=llm, prompt=query_decomposition_prompt, output_parser=output_parser)\n",
    "\n",
    "multiquery_retriever = MultiQueryRetriever(\n",
    "    retriever=vectordb.as_retriever(search_kwargs={\n",
    "        'k': 3,\n",
    "        'filter': {'$or': [{'company': {'$eq': 'Uber'}}, {'company': {'$eq': 'Lyft'}}]},\n",
    "    }), \n",
    "    llm_chain=llm_chain, \n",
    "    parser_key=\"decomposed_questions\", \n",
    "    verbose = True\n",
    ")  \n",
    "\n",
    "question = \"What are the key risks mentioned in the risk factors section of both Uber and Lyft's 10-K reports, and how do they differ in terms of potential impact and mitigation strategies?\"\n",
    "\n",
    "# Testing multiquery results\n",
    "multiquery_retrieved_docs = multiquery_retriever.get_relevant_documents(\n",
    "    query=question\n",
    ")[:6]\n",
    "multiquery_retrieved_docs"
   ]
  },
  {
   "cell_type": "code",
   "execution_count": 115,
   "metadata": {},
   "outputs": [],
   "source": [
    "# Define prompt for answering and summarization\n",
    "summarization_prompt_template = \"\"\"You're a helpful assistant. Follow these rules:\n",
    "1. Use only the information provided in the context section.\n",
    "2. Provide relevant information to answer the question.\n",
    "Write an answer to the following question based on the following context information and metadata:\n",
    "Question:\n",
    "{original_question}\n",
    "Context:\n",
    "{context}\n",
    "Answer: \"\"\"\n",
    "summarization_prompt = PromptTemplate.from_template(summarization_prompt_template)\n",
    "\n",
    "summarization_prompt.save(os.path.join(kit_dir,'prompts/edgar_comparative_qna-answering_and_summarization_prompt.yaml'))\n",
    "summarization_prompt = load_prompt(os.path.join(kit_dir,'prompts/edgar_comparative_qna-answering_and_summarization_prompt.yaml'))"
   ]
  },
  {
   "cell_type": "code",
   "execution_count": 116,
   "metadata": {},
   "outputs": [
    {
     "data": {
      "text/plain": [
       "[Document(page_content='Metadata: \"company: Uber, page: 11, year: 2021\", Information: \"additional discussion, see the risk factor titled “—If we are unable to attract or maintain a critical mass of Drivers, consumers, merchants, shippers, andcarriers, whether\\n as a result of competition or other factors, our platform will become less appealing to platform users, and our financial results would be adverselyimpacted.”\\n included  in  Part  I,  Item  1A  of  this  Annual  Report  on  Form  10-K  as  well  our  2021  ESG  Report  and  our  2021  People  and  Culture  Report.  Theinformation in these r\\neports is not a part of this Form 10-K.Additional Information\\nWe\\n were  founded  in  2009  and  incorporated  as  Ubercab,  Inc.,  a  Delaware  corporation,  in  July  2010.  In  February  2011,  we  changed  our  name  to  UberTechnologies, Inc. Our principa\\nl executive offices are located at 1515 3rd Street, San Francisco, California 94158, and our telephone number is (415) 612-8582.10\"'),\n",
       " Document(page_content='Metadata: \"company: Uber, year: 2021\", Information: \"For additional discussion, see the risk factor titled “—If we are unable to attract or maintain a critical mass of Drivers, consumers, merchants, shippers, and carriers, whether as a result of competition or other factors, our platform will become less appealing to platform users, and our financial results would be adversely impacted.” included in Part I, Item 1A of this Annual Report on Form 10-K as well our 2021 ESG Report and our 2021 People and Culture Report. The information in these reports is not a part of this Form 10-K.\\n\\nAdditional Information\\n\\nWe were founded in 2009 and incorporated as Ubercab, Inc., a Delaware corporation, in July 2010. In February 2011, we changed our name to Uber Technologies, Inc. Our principal executive offices are located at 1515 3rd Street, San Francisco, California 94158, and our telephone number is (415) 612-8582.\\n\\n10\"'),\n",
       " Document(page_content='Metadata: \"company: Uber, year: 2021\", Information: \"For a discussion of risk factors related to how misclassification challenges may impact our business, result of operations, financial position and operating condition and cash flows, see the risk factor titled “-Our business would be adversely affected if Drivers were classified as employees, workers or quasi-employees” included in Part I, Item 1A, “Risk Factors”, and Note 15 – Commitments and Contingencies to our consolidated financial statements included in Part II, Item 8, “Financial Statements and Supplementary Data,” of this Annual Report on Form 10-K.\"'),\n",
       " Document(page_content='Metadata: \"company: Lyft, page: 22, year: 2021\", Information: \"igate the risks facing our business, which could adversely affect our business, financial condition and results of operations.From the\\n time a driver becomes available to accept rides in the Lyft Driver App until the driver logs off and is no longer available to accept rides, we, through ourwholly-owned\\n insurance  subsidiary  and  deductibles,  often  bear  substantial  financial  risk  with  respect  to  auto-related  incidents,  including  auto  liability,  uninsured  andunderinsured\\n motorist, auto physical damage, first party injury coverages including personal injury protection under state law and general business liabilities up to certainlimits.\\n To comply with certain United States and Canadian province insurance regulatory requirements for auto-related risks, we procure a number of third-party insurancepolicies\"'),\n",
       " Document(page_content='Metadata: \"company: Lyft, year: 2021\", Information: \"31\\n\\nLyft’s Express Drive program which could increase prices, and in turn adversely affect our ability to attract and retain qualified drivers.\\n\\nAny negative publicity related to any of our third-party and affiliate vehicle rental partners, including publicity related to quality standards or safety concerns, could adversely affect our reputation and brand and could potentially lead to increased regulatory or litigation exposure. Any of the foregoing risks could adversely affect our business, financial condition and results of operations.\\n\\nOur Express Drive program, Lyft Rentals program, and potential future fleet businesses expose us to certain risks, including with respect to decreases in the residual value related to the used car market values, or reductions in the utilization of vehicles in the fleets.\"'),\n",
       " Document(page_content='Metadata: \"company: Lyft, page: 18, year: 2021\", Information: \"Risks Related to Operational FactorsOur limited operating history and our evolving business make \\nit difficult to evaluate our future prospects and the risks and challenges we may encounter.While\\n we have primarily focused on ridesharing since our ridesharing marketplace launched in 2012, our business continues to evolve. We regularly expand ourplatform\\n features, offerings and services and change our pricing methodologies. In recent periods, we have also reevaluated and changed our cost structure and focused ourbusiness\\n model. Our evolving business, industry and markets make it difficult to evaluate our future prospects and the risks and challenges we may encounter. Risks andchallenges we have faced o\\nr expect to face include our ability to:•\\nforecast our revenue and budget for and manage our expenses;•\\nattract new qualified drivers and new riders and retain existing qualified drivers and existing riders in a cost-effective manner;•\"')]"
      ]
     },
     "execution_count": 116,
     "metadata": {},
     "output_type": "execute_result"
    }
   ],
   "source": [
    "# Transform the retrieved docs to include metadata in page_content\n",
    "docs_for_summary = []\n",
    "for doc in multiquery_retrieved_docs:\n",
    "    metadata_str = \", \".join([f\"{key}: {value}\" for key, value in doc.metadata.items() if key in (\"company\", \"year\", \"page\")])\n",
    "    extended_page_content = f\"Metadata: \\\"{metadata_str}\\\", Information: \\\"{doc.page_content}\\\"\"\n",
    "    extended_doc = Document(page_content=extended_page_content)\n",
    "    docs_for_summary.append(extended_doc)\n",
    "docs_for_summary"
   ]
  },
  {
   "cell_type": "code",
   "execution_count": 118,
   "metadata": {},
   "outputs": [
    {
     "name": "stdout",
     "output_type": "stream",
     "text": [
      "\n",
      "\n",
      "\u001b[1m> Entering new StuffDocumentsChain chain...\u001b[0m\n",
      "\n",
      "\u001b[1m> Finished chain.\u001b[0m\n",
      "\n",
      "Both Uber and Lyft face similar risks related to driver attraction and retention, as well as potential impacts on their financial results. However, there are some differences in the potential impact and mitigation strategies for these risks.\n",
      "\n",
      "For Uber, the risk of being unable to attract or maintain a critical mass of drivers is a significant concern, as it could lead to a decrease in the appeal of their platform to users. To mitigate this risk, Uber has implemented various strategies, such as offering incentives to drivers, improving the driver experience, and investing in technology to improve the efficiency and safety of the platform.\n",
      "\n",
      "For Lyft, the risk of being unable to attract or retain qualified drivers is also a concern, particularly given the competitive nature of the ride-hailing industry. To mitigate this risk, Lyft has implemented strategies such as offering competitive compensation and benefits to drivers, investing in driver support and development programs, and focusing on creating a positive driver experience.\n",
      "\n",
      "In terms of potential impact, both companies face the risk of decreased demand for their services if they are unable to attract or maintain a critical mass of drivers. However, Uber may be more susceptible to this risk given its larger market size and greater dependence on drivers.\n",
      "\n",
      "In terms of mitigation strategies, both companies are focused on improving the driver experience and offering incentives to attract and retain drivers. However, Lyft has also emphasized the importance of creating a positive brand reputation and fostering a sense of community among drivers, which may help to differentiate it from competitors and reduce turnover.\n",
      "\n",
      "Overall, while there are some differences in the potential impact and mitigation strategies for these risks, both Uber and Lyft recognize the importance of driver attraction and retention in maintaining the success of their platforms.\n"
     ]
    }
   ],
   "source": [
    "# Define StuffDocumentsChain for question answering \n",
    "llm_chain = LLMChain(llm=llm, prompt=summarization_prompt)\n",
    "stuff_chain = StuffDocumentsChain(llm_chain=llm_chain, document_variable_name=\"context\", verbose=True)\n",
    "\n",
    "response = stuff_chain.invoke({\"input_documents\": docs_for_summary, 'original_question': question})\n",
    "print(response['output_text'])"
   ]
  },
  {
   "cell_type": "code",
   "execution_count": null,
   "metadata": {},
   "outputs": [],
   "source": [
    "# other questions to try\n",
    "questions = [\n",
    "    \"What are the revenue breakdowns for Uber and Lyft in their respective 10-K reports, and how do they compare in terms of total revenue and revenue from different segments?\",\n",
    "    \"What are the key risks mentioned in the risk factors section of both Uber and Lyft's 10-K reports, and how do they differ in terms of potential impact and mitigation strategies?\",\n",
    "    \"How do the corporate governance structures of Uber and Lyft, as outlined in their 10-K filings, compare in terms of board composition, executive compensation, and shareholder rights?\",\n",
    "    \"What are the major investments and acquisitions disclosed in the investment section of Uber and Lyft's 10-K reports, and how do they reflect each company's strategic priorities and growth strategies?\",\n",
    "    \"How do the research and development expenditures disclosed in Uber and Lyft's 10-K reports compare in terms of absolute spending and percentage of revenue, and what insights can be drawn regarding their innovation efforts?\",\n",
    "    \"What are the legal proceedings and regulatory issues disclosed in the legal proceedings section of both Uber and Lyft's 10-K filings, and how do they differ in terms of nature, severity, and potential impact on the companies?\",\n",
    "    \"How do the financial performance metrics such as net income, operating margins, and cash flow ratios disclosed in Uber and Lyft's 10-K reports compare, and what factors contribute to any observed differences?\",\n",
    "    \"What are the geographical revenue breakdowns provided in the geographic segments section of both Uber and Lyft's 10-K reports, and how do they reflect each company's international presence and market diversification?\",\n",
    "    \"How do the sustainability initiatives and environmental disclosures in Uber and Lyft's 10-K filings compare, including information on energy consumption, carbon footprint, and supply chain sustainability efforts?\",\n",
    "    \"What are the forward-looking statements and risk factors outlined in the Management's Discussion and Analysis (MD&A) sections of Uber and Lyft's 10-K reports, and how do they reflect each company's outlook, challenges, and opportunities in the market?\",\n",
    "]"
   ]
  }
 ],
 "metadata": {
  "kernelspec": {
   "display_name": "edgar_fastapi",
   "language": "python",
   "name": "python3"
  },
  "language_info": {
   "codemirror_mode": {
    "name": "ipython",
    "version": 3
   },
   "file_extension": ".py",
   "mimetype": "text/x-python",
   "name": "python",
   "nbconvert_exporter": "python",
   "pygments_lexer": "ipython3",
   "version": "3.10.11"
  }
 },
 "nbformat": 4,
 "nbformat_minor": 2
}
