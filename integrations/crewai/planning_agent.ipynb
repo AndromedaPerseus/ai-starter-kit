{
 "cells": [
  {
   "cell_type": "markdown",
   "id": "bae53a09-c04c-4916-a146-00e0bb188954",
   "metadata": {},
   "source": [
    "## Automated Project: Planning, Estimation, and Allocation using Sambanova and CrewAI"
   ]
  },
  {
   "cell_type": "markdown",
   "id": "30ada5b1-06ec-41e8-8f60-5e0e0d389ffb",
   "metadata": {},
   "source": [
    "# Initial Imports & Sambanova Setup\n",
    "\n",
    "Sign up for a free API key at https://cloud.sambanova.ai/"
   ]
  },
  {
   "cell_type": "code",
   "execution_count": 1,
   "id": "04586537",
   "metadata": {},
   "outputs": [],
   "source": [
    "SAMBANOVA_BASE_URL = \"https://api.sambanova.ai/v1\"\n",
    "SAMBANOVA_API_KEY=\"INSERT_YOUR_API_KEY_HERE\""
   ]
  },
  {
   "cell_type": "code",
   "execution_count": 2,
   "id": "5eecc037",
   "metadata": {},
   "outputs": [],
   "source": [
    "import os\n",
    "import sys\n"
   ]
  },
  {
   "cell_type": "code",
   "execution_count": 3,
   "id": "9ca4d93c",
   "metadata": {},
   "outputs": [],
   "source": [
    "from crewai import LLM\n",
    "# # # Set Up Sambanova\n",
    "\n",
    "from utils import get_sambanova_api_key, update_task_output_format\n",
    "llm = LLM(model=\"sambanova/Meta-Llama-3.1-405B-Instruct\", api_key=get_sambanova_api_key(), base_url=os.getenv(\"SAMBANOVA_BASE_URL\"))\n"
   ]
  },
  {
   "cell_type": "code",
   "execution_count": 4,
   "id": "4193708e-9802-4161-844a-735f6361e24d",
   "metadata": {
    "height": 200
   },
   "outputs": [],
   "source": [
    "# Warning control\n",
    "import warnings\n",
    "warnings.filterwarnings('ignore')\n",
    "from dotenv import load_dotenv\n",
    "load_dotenv()\n",
    "\n",
    "import os\n",
    "import yaml\n",
    "from crewai import Agent, Task, Crew"
   ]
  },
  {
   "cell_type": "markdown",
   "id": "96b83836-9ccb-47d7-a97b-9a68aebfaa42",
   "metadata": {},
   "source": [
    "## Loading Tasks and Agents YAML files"
   ]
  },
  {
   "cell_type": "code",
   "execution_count": 5,
   "id": "5a4e362d-c010-43dd-88c4-e7db87834fb4",
   "metadata": {
    "height": 283
   },
   "outputs": [],
   "source": [
    "# Define file paths for YAML configurations\n",
    "files = {\n",
    "    'agents': 'config/agents.yaml',\n",
    "    'tasks': 'config/tasks.yaml'\n",
    "}\n",
    "\n",
    "# Load configurations from YAML files\n",
    "configs = {}\n",
    "for config_type, file_path in files.items():\n",
    "    with open(file_path, 'r') as file:\n",
    "        configs[config_type] = yaml.safe_load(file)\n",
    "\n",
    "# Assign loaded configurations to specific variables\n",
    "agents_config = configs['agents']\n",
    "tasks_config = configs['tasks']"
   ]
  },
  {
   "cell_type": "markdown",
   "id": "c5f50c89-a326-4e4c-93a1-79be3fcda14b",
   "metadata": {},
   "source": [
    "## Create Pydantic Models for Structured Output"
   ]
  },
  {
   "cell_type": "code",
   "execution_count": 6,
   "id": "0e8626d2-e48a-4b7e-a061-a8eb492c9036",
   "metadata": {
    "height": 283
   },
   "outputs": [],
   "source": [
    "from typing import List\n",
    "from pydantic import BaseModel, Field\n",
    "\n",
    "class TaskEstimate(BaseModel):\n",
    "    task_name: str = Field(..., description=\"Name of the task\")\n",
    "    estimated_time_hours: float = Field(..., description=\"Estimated time to complete the task in hours\")\n",
    "    required_resources: List[str] = Field(..., description=\"List of resources required to complete the task\")\n",
    "\n",
    "class Milestone(BaseModel):\n",
    "    milestone_name: str = Field(..., description=\"Name of the milestone\")\n",
    "    tasks: List[str] = Field(..., description=\"List of task IDs associated with this milestone\")\n",
    "\n",
    "class ProjectPlan(BaseModel):\n",
    "    tasks: List[TaskEstimate] = Field(..., description=\"List of tasks with their estimates\")\n",
    "    milestones: List[Milestone] = Field(..., description=\"List of project milestones\")\n",
    "\n",
    "\n"
   ]
  },
  {
   "cell_type": "code",
   "execution_count": 7,
   "id": "bac49205",
   "metadata": {},
   "outputs": [],
   "source": [
    "from typing import List\n",
    "\n",
    "from langchain.output_parsers import PydanticOutputParser\n",
    "from langchain_core.prompts import PromptTemplate\n",
    "\n",
    "parser = PydanticOutputParser(pydantic_object=ProjectPlan)  \n",
    "format_instructions = parser.get_format_instructions()\n",
    "\n",
    "#Helper Function for Structured Output\n",
    "tasks_config = update_task_output_format(tasks_config, 'resource_allocation', format_instructions)\n",
    "\n"
   ]
  },
  {
   "cell_type": "code",
   "execution_count": 8,
   "id": "2eb0c86c",
   "metadata": {},
   "outputs": [
    {
     "data": {
      "text/plain": [
       "{'task_breakdown': {'description': \"Carefully analyze the project_requirements for the {project_type} project and break them down into individual tasks. Define each task's scope in detail, set achievable timelines, and ensure that all dependencies are accounted for:\\n{project_requirements}\\n\\nTeam members:\\n{team_members}\\n\",\n",
       "  'expected_output': 'A comprehensive list of tasks with detailed descriptions, timelines, dependencies, and deliverables. Your final output MUST include a Gantt chart or similar timeline visualization specific to the {project_type} project.\\n'},\n",
       " 'time_resource_estimation': {'description': 'Thoroughly evaluate each task in the {project_type} project to estimate the time, resources, and effort required. Use historical data, task complexity, and available resources to provide a realistic estimation for each task.\\n',\n",
       "  'expected_output': 'A detailed estimation report outlining the time, resources, and effort required for each task in the {project_type} project. Your final report MUST include a summary of any risks or uncertainties associated with the estimations.\\n'},\n",
       " 'resource_allocation': {'description': 'Strategically allocate tasks for the {project_type} project to team members based on their skills, availability, and current workload. Ensure that each task is assigned to the most suitable team member and that the workload is evenly distributed.\\n\\nTeam members:\\n{team_members}\\n',\n",
       "  'expected_output': 'A resource allocation chart showing which team members are responsible for each task in the {project_type} project, along with start and end dates. Your final output MUST also include a summary explaining the rationale behind each allocation decision.\\n\\n\\nYou MUST structure your output as follows:\\n\\n\\nPlease provide your output in the following format:\\nThe output should be formatted as a JSON instance that conforms to the JSON schema below.\\n\\nAs an example, for the schema {{\"properties\": {{\"foo\": {{\"title\": \"Foo\", \"description\": \"a list of strings\", \"type\": \"array\", \"items\": {{\"type\": \"string\"}}}}}}, \"required\": [\"foo\"]}}\\nthe object {{\"foo\": [\"bar\", \"baz\"]}} is a well-formatted instance of the schema. The object {{\"properties\": {{\"foo\": [\"bar\", \"baz\"]}}}} is not well-formatted.\\n\\nHere is the output schema:\\n```\\n{{\"$defs\": {{\"Milestone\": {{\"properties\": {{\"milestone_name\": {{\"description\": \"Name of the milestone\", \"title\": \"Milestone Name\", \"type\": \"string\"}}, \"tasks\": {{\"description\": \"List of task IDs associated with this milestone\", \"items\": {{\"type\": \"string\"}}, \"title\": \"Tasks\", \"type\": \"array\"}}}}, \"required\": [\"milestone_name\", \"tasks\"], \"title\": \"Milestone\", \"type\": \"object\"}}, \"TaskEstimate\": {{\"properties\": {{\"task_name\": {{\"description\": \"Name of the task\", \"title\": \"Task Name\", \"type\": \"string\"}}, \"estimated_time_hours\": {{\"description\": \"Estimated time to complete the task in hours\", \"title\": \"Estimated Time Hours\", \"type\": \"number\"}}, \"required_resources\": {{\"description\": \"List of resources required to complete the task\", \"items\": {{\"type\": \"string\"}}, \"title\": \"Required Resources\", \"type\": \"array\"}}}}, \"required\": [\"task_name\", \"estimated_time_hours\", \"required_resources\"], \"title\": \"TaskEstimate\", \"type\": \"object\"}}}}, \"properties\": {{\"tasks\": {{\"description\": \"List of tasks with their estimates\", \"items\": {{\"$ref\": \"#/$defs/TaskEstimate\"}}, \"title\": \"Tasks\", \"type\": \"array\"}}, \"milestones\": {{\"description\": \"List of project milestones\", \"items\": {{\"$ref\": \"#/$defs/Milestone\"}}, \"title\": \"Milestones\", \"type\": \"array\"}}}}, \"required\": [\"tasks\", \"milestones\"]}}\\n```\\n\\nExample output:\\n{{\\n        \"tasks\": [\\n            {{\\n                \"task_name\": \"Example Task\",\\n                \"estimated_time_hours\": 2.5,\\n                \"required_resources\": [\"Developer\", \"Designer\"]\\n            }}\\n        ],\\n        \"milestones\": [\\n            {{\\n                \"milestone_name\": \"Example Milestone\",\\n                \"tasks\": [\"Example Task\"]\\n            }}\\n        ]\\n    }}\\n'}}"
      ]
     },
     "execution_count": 8,
     "metadata": {},
     "output_type": "execute_result"
    }
   ],
   "source": [
    "tasks_config"
   ]
  },
  {
   "cell_type": "markdown",
   "id": "92d6524c-48e7-460e-8345-3b7a872b714a",
   "metadata": {},
   "source": [
    "## Create Crew, Agents and Tasks"
   ]
  },
  {
   "cell_type": "code",
   "execution_count": 9,
   "id": "a655927f-c10c-4c06-852a-d9c96fdfbfb9",
   "metadata": {
    "height": 776
   },
   "outputs": [],
   "source": [
    "from chromadb.utils.embedding_functions import OpenAIEmbeddingFunction\n",
    "\n",
    "\n",
    "# Creating Agents\n",
    "project_planning_agent = Agent(\n",
    "  config=agents_config['project_planning_agent'],\n",
    "  llm=llm\n",
    ")\n",
    "\n",
    "estimation_agent = Agent(\n",
    "  config=agents_config['estimation_agent'],\n",
    "  llm=llm\n",
    ")\n",
    "\n",
    "resource_allocation_agent = Agent(\n",
    "  config=agents_config['resource_allocation_agent'],\n",
    "  llm=llm,\n",
    ")\n",
    "\n",
    "# Creating Tasks\n",
    "task_breakdown = Task(\n",
    "  config=tasks_config['task_breakdown'],\n",
    "  agent=project_planning_agent\n",
    ")\n",
    "\n",
    "time_resource_estimation = Task(\n",
    "  config=tasks_config['time_resource_estimation'],\n",
    "  agent=estimation_agent\n",
    ")\n",
    "\n",
    "resource_allocation = Task(\n",
    "  config=tasks_config['resource_allocation'],\n",
    "  agent=resource_allocation_agent,  \n",
    "  #output_format=ProjectPlan # This is the structured output we want\n",
    "  \n",
    ")\n",
    "\n",
    "# Creating Crew\n",
    "crew = Crew(\n",
    "  agents=[\n",
    "    project_planning_agent,\n",
    "    estimation_agent,\n",
    "    resource_allocation_agent\n",
    "  ],\n",
    "  tasks=[\n",
    "    task_breakdown,\n",
    "    time_resource_estimation,\n",
    "    resource_allocation\n",
    "  ],\n",
    "  verbose=True,\n",
    ")"
   ]
  },
  {
   "cell_type": "markdown",
   "id": "51b901cf-3630-4662-81a7-762da6773d3b",
   "metadata": {},
   "source": [
    "## Crew's Inputs"
   ]
  },
  {
   "cell_type": "code",
   "execution_count": 10,
   "id": "9e861574-0f9b-4f2c-b2d1-a230fc3a53a3",
   "metadata": {
    "height": 708
   },
   "outputs": [
    {
     "data": {
      "text/markdown": [
       "\n",
       "**Project Type:** Website\n",
       "\n",
       "**Project Objectives:** Create a website for a small business\n",
       "\n",
       "**Industry:** Technology\n",
       "\n",
       "**Team Members:**\n",
       "\n",
       "- John Doe (Project Manager)\n",
       "- Jane Doe (Software Engineer)\n",
       "- Bob Smith (Designer)\n",
       "- Alice Johnson (QA Engineer)\n",
       "- Tom Brown (QA Engineer)\n",
       "\n",
       "**Project Requirements:**\n",
       "\n",
       "- Create a responsive design that works well on desktop and mobile devices\n",
       "- Implement a modern, visually appealing user interface with a clean look\n",
       "- Develop a user-friendly navigation system with intuitive menu structure\n",
       "- Include an \"About Us\" page highlighting the company's history and values\n",
       "- Design a \"Services\" page showcasing the business's offerings with descriptions\n",
       "- Create a \"Contact Us\" page with a form and integrated map for communication\n",
       "- Implement a blog section for sharing industry news and company updates\n",
       "- Ensure fast loading times and optimize for search engines (SEO)\n",
       "- Integrate social media links and sharing capabilities\n",
       "- Include a testimonials section to showcase customer feedback and build trust\n",
       "\n"
      ],
      "text/plain": [
       "<IPython.core.display.Markdown object>"
      ]
     },
     "metadata": {},
     "output_type": "display_data"
    }
   ],
   "source": [
    "from IPython.display import display, Markdown\n",
    "\n",
    "project = 'Website'\n",
    "industry = 'Technology'\n",
    "project_objectives = 'Create a website for a small business'\n",
    "team_members = \"\"\"\n",
    "- John Doe (Project Manager)\n",
    "- Jane Doe (Software Engineer)\n",
    "- Bob Smith (Designer)\n",
    "- Alice Johnson (QA Engineer)\n",
    "- Tom Brown (QA Engineer)\n",
    "\"\"\"\n",
    "project_requirements = \"\"\"\n",
    "- Create a responsive design that works well on desktop and mobile devices\n",
    "- Implement a modern, visually appealing user interface with a clean look\n",
    "- Develop a user-friendly navigation system with intuitive menu structure\n",
    "- Include an \"About Us\" page highlighting the company's history and values\n",
    "- Design a \"Services\" page showcasing the business's offerings with descriptions\n",
    "- Create a \"Contact Us\" page with a form and integrated map for communication\n",
    "- Implement a blog section for sharing industry news and company updates\n",
    "- Ensure fast loading times and optimize for search engines (SEO)\n",
    "- Integrate social media links and sharing capabilities\n",
    "- Include a testimonials section to showcase customer feedback and build trust\n",
    "\"\"\"\n",
    "\n",
    "# Format the dictionary as Markdown for a better display in Jupyter Lab\n",
    "formatted_output = f\"\"\"\n",
    "**Project Type:** {project}\n",
    "\n",
    "**Project Objectives:** {project_objectives}\n",
    "\n",
    "**Industry:** {industry}\n",
    "\n",
    "**Team Members:**\n",
    "{team_members}\n",
    "**Project Requirements:**\n",
    "{project_requirements}\n",
    "\"\"\"\n",
    "# Display the formatted output as Markdown\n",
    "display(Markdown(formatted_output))"
   ]
  },
  {
   "cell_type": "markdown",
   "id": "15198e13-e9ec-44d8-b15e-c97b7b7320bb",
   "metadata": {},
   "source": [
    "## Kicking off the crew"
   ]
  },
  {
   "cell_type": "code",
   "execution_count": 11,
   "id": "fa40b53e-0a49-4198-a263-c79a6a3af603",
   "metadata": {
    "height": 234
   },
   "outputs": [
    {
     "name": "stdout",
     "output_type": "stream",
     "text": [
      "\u001b[1m\u001b[95m# Agent:\u001b[00m \u001b[1m\u001b[92mThe Ultimate Project Planner\u001b[00m\n",
      "\u001b[95m## Task:\u001b[00m \u001b[92mCarefully analyze the project_requirements for the Website project and break them down into individual tasks. Define each task's scope in detail, set achievable timelines, and ensure that all dependencies are accounted for:\n",
      "\n",
      "- Create a responsive design that works well on desktop and mobile devices\n",
      "- Implement a modern, visually appealing user interface with a clean look\n",
      "- Develop a user-friendly navigation system with intuitive menu structure\n",
      "- Include an \"About Us\" page highlighting the company's history and values\n",
      "- Design a \"Services\" page showcasing the business's offerings with descriptions\n",
      "- Create a \"Contact Us\" page with a form and integrated map for communication\n",
      "- Implement a blog section for sharing industry news and company updates\n",
      "- Ensure fast loading times and optimize for search engines (SEO)\n",
      "- Integrate social media links and sharing capabilities\n",
      "- Include a testimonials section to showcase customer feedback and build trust\n",
      "\n",
      "\n",
      "Team members:\n",
      "\n",
      "- John Doe (Project Manager)\n",
      "- Jane Doe (Software Engineer)\n",
      "- Bob Smith (Designer)\n",
      "- Alice Johnson (QA Engineer)\n",
      "- Tom Brown (QA Engineer)\n",
      "\n",
      "\u001b[00m\n",
      "\n",
      "\n",
      "\u001b[1m\u001b[95m# Agent:\u001b[00m \u001b[1m\u001b[92mThe Ultimate Project Planner\u001b[00m\n",
      "\u001b[95m## Final Answer:\u001b[00m \u001b[92m\n",
      "**Website Project Breakdown**\n",
      "\n",
      "The following is a comprehensive list of tasks with detailed descriptions, timelines, dependencies, and deliverables for the Website project.\n",
      "\n",
      "**Task 1: Project Planning and Requirements Gathering**\n",
      "\n",
      "* Description: Define project scope, goals, and deliverables. Identify target audience, key stakeholders, and technical requirements.\n",
      "* Timeline: 2 days\n",
      "* Dependencies: None\n",
      "* Deliverables: Project plan document, requirements document\n",
      "* Assigned to: John Doe (Project Manager)\n",
      "\n",
      "**Task 2: Responsive Design Creation**\n",
      "\n",
      "* Description: Design a responsive layout that works well on desktop and mobile devices.\n",
      "* Timeline: 5 days\n",
      "* Dependencies: Task 1\n",
      "* Deliverables: Design concept document, wireframes, and mockups\n",
      "* Assigned to: Bob Smith (Designer)\n",
      "\n",
      "**Task 3: User Interface Design**\n",
      "\n",
      "* Description: Implement a modern, visually appealing user interface with a clean look.\n",
      "* Timeline: 5 days\n",
      "* Dependencies: Task 2\n",
      "* Deliverables: UI design concept document, high-fidelity mockups\n",
      "* Assigned to: Bob Smith (Designer)\n",
      "\n",
      "**Task 4: Navigation System Development**\n",
      "\n",
      "* Description: Develop a user-friendly navigation system with intuitive menu structure.\n",
      "* Timeline: 3 days\n",
      "* Dependencies: Task 3\n",
      "* Deliverables: Navigation system design document, working prototype\n",
      "* Assigned to: Jane Doe (Software Engineer)\n",
      "\n",
      "**Task 5: \"About Us\" Page Development**\n",
      "\n",
      "* Description: Create an \"About Us\" page highlighting the company's history and values.\n",
      "* Timeline: 2 days\n",
      "* Dependencies: Task 4\n",
      "* Deliverables: \"About Us\" page content, working prototype\n",
      "* Assigned to: Jane Doe (Software Engineer)\n",
      "\n",
      "**Task 6: \"Services\" Page Development**\n",
      "\n",
      "* Description: Design a \"Services\" page showcasing the business's offerings with descriptions.\n",
      "* Timeline: 3 days\n",
      "* Dependencies: Task 5\n",
      "* Deliverables: \"Services\" page content, working prototype\n",
      "* Assigned to: Jane Doe (Software Engineer)\n",
      "\n",
      "**Task 7: \"Contact Us\" Page Development**\n",
      "\n",
      "* Description: Create a \"Contact Us\" page with a form and integrated map for communication.\n",
      "* Timeline: 3 days\n",
      "* Dependencies: Task 6\n",
      "* Deliverables: \"Contact Us\" page content, working prototype\n",
      "* Assigned to: Jane Doe (Software Engineer)\n",
      "\n",
      "**Task 8: Blog Section Development**\n",
      "\n",
      "* Description: Implement a blog section for sharing industry news and company updates.\n",
      "* Timeline: 5 days\n",
      "* Dependencies: Task 7\n",
      "* Deliverables: Blog section design document, working prototype\n",
      "* Assigned to: Jane Doe (Software Engineer)\n",
      "\n",
      "**Task 9: SEO Optimization**\n",
      "\n",
      "* Description: Ensure fast loading times and optimize for search engines (SEO).\n",
      "* Timeline: 3 days\n",
      "* Dependencies: Task 8\n",
      "* Deliverables: SEO optimization report, optimized website\n",
      "* Assigned to: Jane Doe (Software Engineer)\n",
      "\n",
      "**Task 10: Social Media Integration**\n",
      "\n",
      "* Description: Integrate social media links and sharing capabilities.\n",
      "* Timeline: 2 days\n",
      "* Dependencies: Task 9\n",
      "* Deliverables: Social media integration report, working prototype\n",
      "* Assigned to: Jane Doe (Software Engineer)\n",
      "\n",
      "**Task 11: Testimonials Section Development**\n",
      "\n",
      "* Description: Include a testimonials section to showcase customer feedback and build trust.\n",
      "* Timeline: 2 days\n",
      "* Dependencies: Task 10\n",
      "* Deliverables: Testimonials section content, working prototype\n",
      "* Assigned to: Jane Doe (Software Engineer)\n",
      "\n",
      "**Task 12: QA and Testing**\n",
      "\n",
      "* Description: Perform thorough QA and testing of the website.\n",
      "* Timeline: 5 days\n",
      "* Dependencies: Task 11\n",
      "* Deliverables: QA report, test results\n",
      "* Assigned to: Alice Johnson (QA Engineer), Tom Brown (QA Engineer)\n",
      "\n",
      "**Task 13: Launch and Deployment**\n",
      "\n",
      "* Description: Launch and deploy the website.\n",
      "* Timeline: 2 days\n",
      "* Dependencies: Task 12\n",
      "* Deliverables: Live website, deployment report\n",
      "* Assigned to: John Doe (Project Manager)\n",
      "\n",
      "**Gantt Chart:**\n",
      "\n",
      "| Task ID | Task Name | Start Date | End Date | Duration | Dependencies |\n",
      "| --- | --- | --- | --- | --- | --- |\n",
      "| 1 | Project Planning and Requirements Gathering | 2023-02-01 | 2023-02-03 | 2 days | - |\n",
      "| 2 | Responsive Design Creation | 2023-02-04 | 2023-02-10 | 5 days | 1 |\n",
      "| 3 | User Interface Design | 2023-02-11 | 2023-02-17 | 5 days | 2 |\n",
      "| 4 | Navigation System Development | 2023-02-18 | 2023-02-22 | 3 days | 3 |\n",
      "| 5 | \"About Us\" Page Development | 2023-02-23 | 2023-02-25 | 2 days | 4 |\n",
      "| 6 | \"Services\" Page Development | 2023-02-26 | 2023-03-01 | 3 days | 5 |\n",
      "| 7 | \"Contact Us\" Page Development | 2023-03-02 | 2023-03-05 | 3 days | 6 |\n",
      "| 8 | Blog Section Development | 2023-03-06 | 2023-03-12 | 5 days | 7 |\n",
      "| 9 | SEO Optimization | 2023-03-13 | 2023-03-16 | 3 days | 8 |\n",
      "| 10 | Social Media Integration | 2023-03-17 | 2023-03-19 | 2 days | 9 |\n",
      "| 11 | Testimonials Section Development | 2023-03-20 | 2023-03-22 | 2 days | 10 |\n",
      "| 12 | QA and Testing | 2023-03-23 | 2023-03-29 | 5 days | 11 |\n",
      "| 13 | Launch and Deployment | 2023-03-30 | 2023-04-01 | 2 days | 12 |\n",
      "\n",
      "Note: The Gantt chart is a simplified representation of the project timeline and dependencies. The actual project timeline may vary based on the team's progress and any unforeseen delays.\u001b[00m\n",
      "\n",
      "\n",
      "\u001b[1m\u001b[95m# Agent:\u001b[00m \u001b[1m\u001b[92mExpert Estimation Analyst\u001b[00m\n",
      "\u001b[95m## Task:\u001b[00m \u001b[92mThoroughly evaluate each task in the Website project to estimate the time, resources, and effort required. Use historical data, task complexity, and available resources to provide a realistic estimation for each task.\n",
      "\u001b[00m\n",
      "\n",
      "\n",
      "\u001b[1m\u001b[95m# Agent:\u001b[00m \u001b[1m\u001b[92mExpert Estimation Analyst\u001b[00m\n",
      "\u001b[95m## Final Answer:\u001b[00m \u001b[92m\n",
      "The above detailed estimation report outlines the time, resources, and effort required for each task in the Website project. The total estimated time is 43 days, and the total estimated effort is 432 hours. The project requires 1 Project Manager, 1 Designer, 1 Software Engineer, and 2 QA Engineers. Regular review and update of the project plan, adequate resource allocation, and risk mitigation are recommended to ensure the project's successful completion.\u001b[00m\n",
      "\n",
      "\n",
      "\u001b[1m\u001b[95m# Agent:\u001b[00m \u001b[1m\u001b[92mResource Allocation Strategist\u001b[00m\n",
      "\u001b[95m## Task:\u001b[00m \u001b[92mStrategically allocate tasks for the Website project to team members based on their skills, availability, and current workload. Ensure that each task is assigned to the most suitable team member and that the workload is evenly distributed.\n",
      "\n",
      "Team members:\n",
      "\n",
      "- John Doe (Project Manager)\n",
      "- Jane Doe (Software Engineer)\n",
      "- Bob Smith (Designer)\n",
      "- Alice Johnson (QA Engineer)\n",
      "- Tom Brown (QA Engineer)\n",
      "\n",
      "\u001b[00m\n",
      "\n",
      "\n",
      "\u001b[1m\u001b[95m# Agent:\u001b[00m \u001b[1m\u001b[92mResource Allocation Strategist\u001b[00m\n",
      "\u001b[95m## Final Answer:\u001b[00m \u001b[92m\n",
      "```\n",
      "{\n",
      "    \"tasks\": [\n",
      "        {\n",
      "            \"task_name\": \"Project Planning\",\n",
      "            \"estimated_time_hours\": 8,\n",
      "            \"required_resources\": [\"Project Manager\"],\n",
      "            \"start_date\": \"2024-03-01\",\n",
      "            \"end_date\": \"2024-03-02\",\n",
      "            \"assigned_to\": \"John Doe\"\n",
      "        },\n",
      "        {\n",
      "            \"task_name\": \"Design Website Layout\",\n",
      "            \"estimated_time_hours\": 16,\n",
      "            \"required_resources\": [\"Designer\"],\n",
      "            \"start_date\": \"2024-03-03\",\n",
      "            \"end_date\": \"2024-03-06\",\n",
      "            \"assigned_to\": \"Bob Smith\"\n",
      "        },\n",
      "        {\n",
      "            \"task_name\": \"Develop Website\",\n",
      "            \"estimated_time_hours\": 120,\n",
      "            \"required_resources\": [\"Software Engineer\"],\n",
      "            \"start_date\": \"2024-03-07\",\n",
      "            \"end_date\": \"2024-04-04\",\n",
      "            \"assigned_to\": \"Jane Doe\"\n",
      "        },\n",
      "        {\n",
      "            \"task_name\": \"Test Website\",\n",
      "            \"estimated_time_hours\": 40,\n",
      "            \"required_resources\": [\"QA Engineer\"],\n",
      "            \"start_date\": \"2024-04-05\",\n",
      "            \"end_date\": \"2024-04-19\",\n",
      "            \"assigned_to\": \"Alice Johnson\"\n",
      "        },\n",
      "        {\n",
      "            \"task_name\": \"Test Website\",\n",
      "            \"estimated_time_hours\": 40,\n",
      "            \"required_resources\": [\"QA Engineer\"],\n",
      "            \"start_date\": \"2024-04-05\",\n",
      "            \"end_date\": \"2024-04-19\",\n",
      "            \"assigned_to\": \"Tom Brown\"\n",
      "        },\n",
      "        {\n",
      "            \"task_name\": \"Deploy Website\",\n",
      "            \"estimated_time_hours\": 8,\n",
      "            \"required_resources\": [\"Software Engineer\"],\n",
      "            \"start_date\": \"2024-04-20\",\n",
      "            \"end_date\": \"2024-04-21\",\n",
      "            \"assigned_to\": \"Jane Doe\"\n",
      "        },\n",
      "        {\n",
      "            \"task_name\": \"Project Review and Update\",\n",
      "            \"estimated_time_hours\": 8,\n",
      "            \"required_resources\": [\"Project Manager\"],\n",
      "            \"start_date\": \"2024-04-22\",\n",
      "            \"end_date\": \"2024-04-23\",\n",
      "            \"assigned_to\": \"John Doe\"\n",
      "        }\n",
      "    ],\n",
      "    \"milestones\": [\n",
      "        {\n",
      "            \"milestone_name\": \"Project Planning Completion\",\n",
      "            \"tasks\": [\"Project Planning\"]\n",
      "        },\n",
      "        {\n",
      "            \"milestone_name\": \"Design Completion\",\n",
      "            \"tasks\": [\"Design Website Layout\"]\n",
      "        },\n",
      "        {\n",
      "            \"milestone_name\": \"Development Completion\",\n",
      "            \"tasks\": [\"Develop Website\"]\n",
      "        },\n",
      "        {\n",
      "            \"milestone_name\": \"Testing Completion\",\n",
      "            \"tasks\": [\"Test Website\"]\n",
      "        },\n",
      "        {\n",
      "            \"milestone_name\": \"Deployment Completion\",\n",
      "            \"tasks\": [\"Deploy Website\"]\n",
      "        },\n",
      "        {\n",
      "            \"milestone_name\": \"Project Completion\",\n",
      "            \"tasks\": [\"Project Review and Update\"]\n",
      "        }\n",
      "    ]\n",
      "}\n",
      "```\u001b[00m\n",
      "\n",
      "\n"
     ]
    }
   ],
   "source": [
    "# The given Python dictionary\n",
    "inputs = {\n",
    "  'project_type': project,\n",
    "  'project_objectives': project_objectives,\n",
    "  'industry': industry,\n",
    "  'team_members': team_members,\n",
    "  'project_requirements': project_requirements\n",
    "}\n",
    "\n",
    "# Run the crew\n",
    "result = crew.kickoff(\n",
    "  inputs=inputs\n",
    ")"
   ]
  },
  {
   "cell_type": "markdown",
   "id": "7879258f-52df-4503-b08e-acd516d0a946",
   "metadata": {},
   "source": [
    "## Usage Metrics and Costs"
   ]
  },
  {
   "cell_type": "markdown",
   "id": "d94dad33-91c9-4aac-8e16-24117dbbef46",
   "metadata": {},
   "source": [
    "Let’s see how much it would cost each time if this crew runs at scale."
   ]
  },
  {
   "cell_type": "code",
   "execution_count": 12,
   "id": "66b3b165-2a4b-46cc-93f7-696dffff1e10",
   "metadata": {
    "height": 164
   },
   "outputs": [
    {
     "name": "stdout",
     "output_type": "stream",
     "text": [
      "Total costs: $0.0018\n"
     ]
    },
    {
     "data": {
      "text/html": [
       "<div>\n",
       "<style scoped>\n",
       "    .dataframe tbody tr th:only-of-type {\n",
       "        vertical-align: middle;\n",
       "    }\n",
       "\n",
       "    .dataframe tbody tr th {\n",
       "        vertical-align: top;\n",
       "    }\n",
       "\n",
       "    .dataframe thead th {\n",
       "        text-align: right;\n",
       "    }\n",
       "</style>\n",
       "<table border=\"1\" class=\"dataframe\">\n",
       "  <thead>\n",
       "    <tr style=\"text-align: right;\">\n",
       "      <th></th>\n",
       "      <th>total_tokens</th>\n",
       "      <th>prompt_tokens</th>\n",
       "      <th>completion_tokens</th>\n",
       "      <th>successful_requests</th>\n",
       "    </tr>\n",
       "  </thead>\n",
       "  <tbody>\n",
       "    <tr>\n",
       "      <th>0</th>\n",
       "      <td>12069</td>\n",
       "      <td>6858</td>\n",
       "      <td>5211</td>\n",
       "      <td>6</td>\n",
       "    </tr>\n",
       "  </tbody>\n",
       "</table>\n",
       "</div>"
      ],
      "text/plain": [
       "   total_tokens  prompt_tokens  completion_tokens  successful_requests\n",
       "0         12069           6858               5211                    6"
      ]
     },
     "execution_count": 12,
     "metadata": {},
     "output_type": "execute_result"
    }
   ],
   "source": [
    "import pandas as pd\n",
    "\n",
    "costs = 0.150 * (crew.usage_metrics.prompt_tokens + crew.usage_metrics.completion_tokens) / 1_000_000\n",
    "print(f\"Total costs: ${costs:.4f}\")\n",
    "\n",
    "# Convert UsageMetrics instance to a DataFrame\n",
    "df_usage_metrics = pd.DataFrame([crew.usage_metrics.dict()])\n",
    "df_usage_metrics"
   ]
  },
  {
   "cell_type": "markdown",
   "id": "4982e83a-9e54-4510-9f06-751b34848287",
   "metadata": {},
   "source": [
    "## Result"
   ]
  },
  {
   "cell_type": "code",
   "execution_count": 13,
   "id": "f21f81bb",
   "metadata": {},
   "outputs": [
    {
     "name": "stdout",
     "output_type": "stream",
     "text": [
      "```\n",
      "{\n",
      "    \"tasks\": [\n",
      "        {\n",
      "            \"task_name\": \"Project Planning\",\n",
      "            \"estimated_time_hours\": 8,\n",
      "            \"required_resources\": [\"Project Manager\"],\n",
      "            \"start_date\": \"2024-03-01\",\n",
      "            \"end_date\": \"2024-03-02\",\n",
      "            \"assigned_to\": \"John Doe\"\n",
      "        },\n",
      "        {\n",
      "            \"task_name\": \"Design Website Layout\",\n",
      "            \"estimated_time_hours\": 16,\n",
      "            \"required_resources\": [\"Designer\"],\n",
      "            \"start_date\": \"2024-03-03\",\n",
      "            \"end_date\": \"2024-03-06\",\n",
      "            \"assigned_to\": \"Bob Smith\"\n",
      "        },\n",
      "        {\n",
      "            \"task_name\": \"Develop Website\",\n",
      "            \"estimated_time_hours\": 120,\n",
      "            \"required_resources\": [\"Software Engineer\"],\n",
      "            \"start_date\": \"2024-03-07\",\n",
      "            \"end_date\": \"2024-04-04\",\n",
      "            \"assigned_to\": \"Jane Doe\"\n",
      "        },\n",
      "        {\n",
      "            \"task_name\": \"Test Website\",\n",
      "            \"estimated_time_hours\": 40,\n",
      "            \"required_resources\": [\"QA Engineer\"],\n",
      "            \"start_date\": \"2024-04-05\",\n",
      "            \"end_date\": \"2024-04-19\",\n",
      "            \"assigned_to\": \"Alice Johnson\"\n",
      "        },\n",
      "        {\n",
      "            \"task_name\": \"Test Website\",\n",
      "            \"estimated_time_hours\": 40,\n",
      "            \"required_resources\": [\"QA Engineer\"],\n",
      "            \"start_date\": \"2024-04-05\",\n",
      "            \"end_date\": \"2024-04-19\",\n",
      "            \"assigned_to\": \"Tom Brown\"\n",
      "        },\n",
      "        {\n",
      "            \"task_name\": \"Deploy Website\",\n",
      "            \"estimated_time_hours\": 8,\n",
      "            \"required_resources\": [\"Software Engineer\"],\n",
      "            \"start_date\": \"2024-04-20\",\n",
      "            \"end_date\": \"2024-04-21\",\n",
      "            \"assigned_to\": \"Jane Doe\"\n",
      "        },\n",
      "        {\n",
      "            \"task_name\": \"Project Review and Update\",\n",
      "            \"estimated_time_hours\": 8,\n",
      "            \"required_resources\": [\"Project Manager\"],\n",
      "            \"start_date\": \"2024-04-22\",\n",
      "            \"end_date\": \"2024-04-23\",\n",
      "            \"assigned_to\": \"John Doe\"\n",
      "        }\n",
      "    ],\n",
      "    \"milestones\": [\n",
      "        {\n",
      "            \"milestone_name\": \"Project Planning Completion\",\n",
      "            \"tasks\": [\"Project Planning\"]\n",
      "        },\n",
      "        {\n",
      "            \"milestone_name\": \"Design Completion\",\n",
      "            \"tasks\": [\"Design Website Layout\"]\n",
      "        },\n",
      "        {\n",
      "            \"milestone_name\": \"Development Completion\",\n",
      "            \"tasks\": [\"Develop Website\"]\n",
      "        },\n",
      "        {\n",
      "            \"milestone_name\": \"Testing Completion\",\n",
      "            \"tasks\": [\"Test Website\"]\n",
      "        },\n",
      "        {\n",
      "            \"milestone_name\": \"Deployment Completion\",\n",
      "            \"tasks\": [\"Deploy Website\"]\n",
      "        },\n",
      "        {\n",
      "            \"milestone_name\": \"Project Completion\",\n",
      "            \"tasks\": [\"Project Review and Update\"]\n",
      "        }\n",
      "    ]\n",
      "}\n",
      "```\n"
     ]
    }
   ],
   "source": [
    "print(result)\n",
    "\n",
    "\n"
   ]
  },
  {
   "cell_type": "code",
   "execution_count": 22,
   "id": "6396b0f6-e3ae-4a89-a3e9-ca53aa042c40",
   "metadata": {
    "height": 30
   },
   "outputs": [
    {
     "ename": "AttributeError",
     "evalue": "'NoneType' object has no attribute 'dict'",
     "output_type": "error",
     "traceback": [
      "\u001b[0;31m---------------------------------------------------------------------------\u001b[0m",
      "\u001b[0;31mAttributeError\u001b[0m                            Traceback (most recent call last)",
      "Cell \u001b[0;32mIn[22], line 1\u001b[0m\n\u001b[0;32m----> 1\u001b[0m \u001b[43mresult\u001b[49m\u001b[38;5;241;43m.\u001b[39;49m\u001b[43mpydantic\u001b[49m\u001b[38;5;241;43m.\u001b[39;49m\u001b[43mdict\u001b[49m()\n",
      "\u001b[0;31mAttributeError\u001b[0m: 'NoneType' object has no attribute 'dict'"
     ]
    }
   ],
   "source": [
    "result.pydantic.dict()"
   ]
  },
  {
   "cell_type": "markdown",
   "id": "18ffcc83-350e-4f99-b03b-458690cc0ed2",
   "metadata": {},
   "source": [
    "## Inspect further"
   ]
  },
  {
   "cell_type": "code",
   "execution_count": null,
   "id": "da1bbf90-4bfc-4529-84dd-d0bd00198353",
   "metadata": {
    "height": 147
   },
   "outputs": [],
   "source": [
    "tasks = result.pydantic.dict()['tasks']\n",
    "df_tasks = pd.DataFrame(tasks)\n",
    "\n",
    "# Display the DataFrame as an HTML table\n",
    "df_tasks.style.set_table_attributes('border=\"1\"').set_caption(\"Task Details\").set_table_styles(\n",
    "    [{'selector': 'th, td', 'props': [('font-size', '120%')]}]\n",
    ")"
   ]
  },
  {
   "cell_type": "markdown",
   "id": "1210cae8-e028-4f7e-90ed-950ef86d41e5",
   "metadata": {},
   "source": [
    "### Inspecting Milestones"
   ]
  },
  {
   "cell_type": "code",
   "execution_count": null,
   "id": "91c2f18c-2d5b-41a9-837b-265e7aa245d0",
   "metadata": {
    "height": 147
   },
   "outputs": [],
   "source": [
    "milestones = result.pydantic.dict()['milestones']\n",
    "df_milestones = pd.DataFrame(milestones)\n",
    "\n",
    "# Display the DataFrame as an HTML table\n",
    "df_milestones.style.set_table_attributes('border=\"1\"').set_caption(\"Task Details\").set_table_styles(\n",
    "    [{'selector': 'th, td', 'props': [('font-size', '120%')]}]\n",
    ")"
   ]
  }
 ],
 "metadata": {
  "kernelspec": {
   "display_name": "practical-advanced-multi-ai-agents",
   "language": "python",
   "name": "python3"
  },
  "language_info": {
   "codemirror_mode": {
    "name": "ipython",
    "version": 3
   },
   "file_extension": ".py",
   "mimetype": "text/x-python",
   "name": "python",
   "nbconvert_exporter": "python",
   "pygments_lexer": "ipython3",
   "version": "3.11.3"
  }
 },
 "nbformat": 4,
 "nbformat_minor": 5
}
