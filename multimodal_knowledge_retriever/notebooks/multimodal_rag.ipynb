{
 "cells": [
  {
   "cell_type": "markdown",
   "metadata": {},
   "source": [
    "# Multimodal RAG"
   ]
  },
  {
   "cell_type": "code",
   "execution_count": 1,
   "metadata": {},
   "outputs": [],
   "source": [
    "import os\n",
    "import sys\n",
    "import glob\n",
    "\n",
    "current_dir = os.getcwd()\n",
    "kit_dir = os.path.abspath(os.path.join(current_dir, \"..\"))\n",
    "repo_dir = os.path.abspath(os.path.join(kit_dir, \"..\"))\n",
    "\n",
    "sys.path.append(kit_dir)\n",
    "sys.path.append(repo_dir)\n",
    "\n",
    "from utils.sambanova_endpoint import SambaNovaEndpoint\n",
    "from dotenv import load_dotenv\n",
    "load_dotenv(os.path.join(repo_dir,'.env'))\n",
    "\n",
    "import requests\n",
    "import json\n",
    "import base64\n",
    "from pprint import pprint"
   ]
  },
  {
   "cell_type": "markdown",
   "metadata": {},
   "source": [
    "## utils"
   ]
  },
  {
   "cell_type": "code",
   "execution_count": 2,
   "metadata": {},
   "outputs": [],
   "source": [
    "def image_to_base64(image_path):\n",
    "    with open(image_path, \"rb\") as image_file:\n",
    "        image_binary = image_file.read()\n",
    "        base64_image = base64.b64encode(image_binary).decode()\n",
    "        return base64_image"
   ]
  },
  {
   "cell_type": "markdown",
   "metadata": {},
   "source": [
    "## Multimodal call"
   ]
  },
  {
   "cell_type": "markdown",
   "metadata": {},
   "source": [
    "### sambastudio llava call method"
   ]
  },
  {
   "cell_type": "code",
   "execution_count": 3,
   "metadata": {},
   "outputs": [],
   "source": [
    "# sambastudio call\n",
    "def llava_call(prompt, image_path):\n",
    "    image=image_to_base64(image_path)\n",
    "    endpoint_url = f\"{os.environ.get('LVLM_BASE_URL')}/api/predict/generic/{os.environ.get('LVLM_PROJECT_ID')}/{os.environ.get('LVLM_ENDPOINT_ID')}\"\n",
    "    endpoint_key = os.environ.get('LVLM_API_KEY')\n",
    "    # Define the data payload\n",
    "    data = {\n",
    "        \"instances\": [{\n",
    "            \"prompt\": prompt,\n",
    "            \"image_content\": f\"{image}\"\n",
    "        }],\n",
    "        \"params\": {\n",
    "            \"do_sample\": {\"type\": \"bool\", \"value\": \"false\"},\n",
    "            \"max_tokens_to_generate\": {\"type\": \"int\", \"value\": \"512\"},\n",
    "            \"temperature\": {\"type\": \"float\", \"value\": \"1\"},\n",
    "            \"top_k\": {\"type\": \"int\", \"value\": \"50\"},\n",
    "            \"top_logprobs\": {\"type\": \"int\", \"value\": \"0\"},\n",
    "            \"top_p\": {\"type\": \"float\", \"value\": \"1\"}\n",
    "        }\n",
    "    }\n",
    "    # Define headers\n",
    "    headers = {\n",
    "        \"Content-Type\": \"application/json\",\n",
    "        \"key\": endpoint_key\n",
    "    }\n",
    "    response = requests.post(endpoint_url, headers=headers, data=json.dumps(data))\n",
    "    return response.json()[\"predictions\"][0]['completion']"
   ]
  },
  {
   "cell_type": "markdown",
   "metadata": {},
   "source": [
    "### QA Llava Call"
   ]
  },
  {
   "cell_type": "code",
   "execution_count": 4,
   "metadata": {},
   "outputs": [
    {
     "data": {
      "text/plain": [
       "'At 4 pm, you could find approximately 10 birds on the tree.'"
      ]
     },
     "execution_count": 4,
     "metadata": {},
     "output_type": "execute_result"
    }
   ],
   "source": [
    "prompt = \"A chat between a curious human and an artificial intelligence assistant. The assistant gives helpful, detailed, and polite answers to the humans question. USER: <image>\\nhow many birds could you find at 4pm?. ASSISTANT:\"\n",
    "image_path = os.path.join(kit_dir,\"data\",\"sample_docs\",\"sample.png\")\n",
    "llava_call(prompt, image_path)"
   ]
  },
  {
   "cell_type": "markdown",
   "metadata": {},
   "source": [
    "### Summary Llava call"
   ]
  },
  {
   "cell_type": "code",
   "execution_count": 5,
   "metadata": {},
   "outputs": [
    {
     "data": {
      "text/plain": [
       "'The image displays a graph showing the number of birds on a tree at different times of the day. The graph is a combination of a bar plot and a scatter plot, with the bar plot showing the number of birds at various times of the day, and the scatter plot showing the number of birds on a tree at a specific time.\\n\\nThe graph is divided into two main sections. The first section, which is the bar plot, shows the number of birds on a tree at different times of the day, with the bars extending from 10 am to 11 pm. The second section, which is the scatter plot, shows the number of birds on a tree at a specific time, with the x-axis representing the time and the y-axis representing the number of birds.\\n\\nThe graph is labeled with the time of the day, and the number of birds is represented by the number of orange dots on the graph. The dots are scattered throughout the graph, with some appearing closer to the bars and others appearing closer to the scatter plot.'"
      ]
     },
     "execution_count": 5,
     "metadata": {},
     "output_type": "execute_result"
    }
   ],
   "source": [
    "prompt = \"A chat between a curious human and an artificial intelligence assistant. The assistant gives helpful, detailed, and polite answers to the humans question. USER: <image>\\nDescribe the image in detail. Be specific about graphs, such as bar plots, scatter plots, or others. ASSISTANT:\"\n",
    "llava_call(prompt, image_path)"
   ]
  },
  {
   "cell_type": "markdown",
   "metadata": {},
   "source": [
    "## Doc Extraction"
   ]
  },
  {
   "cell_type": "markdown",
   "metadata": {},
   "source": [
    "### Unstructured PDF extraction"
   ]
  },
  {
   "cell_type": "code",
   "execution_count": 6,
   "metadata": {},
   "outputs": [
    {
     "name": "stderr",
     "output_type": "stream",
     "text": [
      "Some weights of the model checkpoint at microsoft/table-transformer-structure-recognition were not used when initializing TableTransformerForObjectDetection: ['model.backbone.conv_encoder.model.layer2.0.downsample.1.num_batches_tracked', 'model.backbone.conv_encoder.model.layer3.0.downsample.1.num_batches_tracked', 'model.backbone.conv_encoder.model.layer4.0.downsample.1.num_batches_tracked']\n",
      "- This IS expected if you are initializing TableTransformerForObjectDetection from the checkpoint of a model trained on another task or with another architecture (e.g. initializing a BertForSequenceClassification model from a BertForPreTraining model).\n",
      "- This IS NOT expected if you are initializing TableTransformerForObjectDetection from the checkpoint of a model that you expect to be exactly identical (initializing a BertForSequenceClassification model from a BertForSequenceClassification model).\n"
     ]
    }
   ],
   "source": [
    "from unstructured.partition.pdf import partition_pdf\n",
    "\n",
    "# Path to save images\n",
    "file_path=os.path.join(kit_dir, \"data\", \"sample_docs\", \"invoicesample.pdf\")\n",
    "output_path=os.path.splitext(file_path)[0]\n",
    "\n",
    "# Get elements\n",
    "raw_pdf_elements = partition_pdf(\n",
    "    filename=file_path,\n",
    "    extract_images_in_pdf=True,\n",
    "    strategy='hi_res',\n",
    "     hi_res_model_name=\"yolox\",\n",
    "    # Use layout model (YOLOX) to get bounding boxes (for tables) and find titles\n",
    "    # Titles are any sub-section of the document\n",
    "    infer_table_structure=True,\n",
    "    chunking_strategy=\"by_title\",\n",
    "    max_characters=1000,\n",
    "    new_after_n_chars=800,\n",
    "    combine_text_under_n_chars=500,\n",
    "    extract_image_block_output_dir=output_path,\n",
    ")"
   ]
  },
  {
   "cell_type": "markdown",
   "metadata": {},
   "source": [
    "### View Elements"
   ]
  },
  {
   "cell_type": "code",
   "execution_count": 7,
   "metadata": {},
   "outputs": [
    {
     "name": "stdout",
     "output_type": "stream",
     "text": [
      "\u001b[95m ELEMENT 0\u001b[00m\n",
      "TYPE: <class 'unstructured.documents.elements.CompositeElement'>\n",
      "META: {'filetype': 'application/pdf', 'languages': ['eng'], 'last_modified': '2024-05-08T08:57:57', 'page_number': 1, 'orig_elements': 'eJy9VsuO2zYU/RVB7aIFTIlvUrMrmqKYRSYpxulmMDD4uPIwI0uGRI8zCfrvpSQnyMMJEAM24M05utciz+G51N2HHBrYQBtXwedXWe6N5YIbgRSxFHGhJbJOSYQdtVYCgQrbfJHlG4jGm2hSz4fcdV3vQ2siDBNuzHO3i6sHCOuHmBjKWJV6DvQ++PiQWCIFS+y2C20c++7uqooWYpERzgt+v8g+YkpkIUZMBFYFPULMHYnJh+chwmbcyevwDprbrXGQ/5ceeIjgYujalWvMMKy2fWdTGS6oZEKmgjo0EJ+3MPW+fplPC27XO7OednWXQ7vO7yd2iKtN50MdYNKMYsoRFgjrJdZXQqXf2L1Nnat2t7HQj7sdFxHh3ahH/sdy+dfN8vrVTbZ8NZZ+fO8yxGZa7te2EMVqq6lAjgqNuNIV0opaRCxn2nrOHK/PZgtRolBJdYELMqk+YylEwUasCR9t+hrP9aeZopn8jidhM8q6NdNa8/LNAP1Qvu36NWzLF53bjaINpRkeV9udbYJbdfu2NAEN0fQRevQYYrnZNTEkB02zemy7fQM+/WUPsQ/wBH05ClgOZrNtYOU7N5ShfeqCg5kq67De9YAIIsXb7fqs5+Tzs3E9bvzY2fCKqpoRj5ikNeLGK6SxwkhSX6fYMl0pdb6zgcl0GBhls/mfCCkLPRGMy6I6Rkwtp4aWYnHh0L6Atn3O/t61Zm/az525MX1vYniC5Vh5xCGqCWjlDGKeEMQlrpFN5iAnKVO2cr5S+JwO6YIssvTagh4cmgjB+MEyRsUY2G+IueU0h5im1aXHKqUk+2cH0Ga3MXsJje12fQvZv9d/Zgxj/FOeVVwZSpRFuFIeceIcqkaogBDPObMMzjdxJS3wIlO0mq+5GabxX6jpWkw8/RbP5SfmqRL0wmYRyrLbbgP7B+ghGbY44lj2G2a/Z6mSZ0Iq/VMGCmExIbUbr0yeQsck0tR45CzWVHpFCJbnCx0RapxxUuvD0DsQqmIFngiuZMGOEHPLD228pE2/sqqQX0TnTeuSPuuuD+/Bf099zJL2zKTPFEoZ4rWtkbFaI+lwpUET4jA7m/rpwyPVpbgW1ajsAQoyzz+uWMGP4Kn8tPhwlS6kCxtzPX+UZDfT06vsF4oJwwzzH6Tk/n/Ws3sk', 'file_directory': '/Users/jorgep/Documents/ask_public_own/ai-starter-kit/multimodal_knowledge_retriever/data/sample_docs', 'filename': 'invoicesample.pdf'}\n",
      "TEXT: ATTENTION TO\n",
      "\n",
      "Denny Gunawan\n",
      "\n",
      "221 Queen St Melbourne VIC 3000\n",
      "\n",
      "123 Somewhere St, Melbourne VIC 3000 (03) 1234 5678\n",
      "\n",
      "$39.60\n",
      "\n",
      "Invoice Number: #20130304\n",
      "\n",
      "\n",
      "##########\n",
      "\n",
      "\u001b[95m ELEMENT 1\u001b[00m\n",
      "TYPE: <class 'unstructured.documents.elements.Table'>\n",
      "META: {'last_modified': '2024-05-08T08:57:57', 'text_as_html': '<table><tr><td>Apple</td><td>$5.00</td><td>1</td><td>$5.00</td></tr><tr><td>Orange</td><td>$1.99</td><td>2</td><td>$3.98</td></tr><tr><td>Watermelon</td><td>$1.69</td><td>3</td><td>$5.07</td></tr><tr><td>Mango</td><td>$9.56</td><td>2</td><td>$19.12</td></tr><tr><td>Peach</td><td>$2.99</td><td>1</td><td>$2.99</td></tr></table>', 'table_as_cells': [{'x': 0, 'y': 0, 'w': 1, 'h': 1, 'content': 'Apple'}, {'x': 0, 'y': 1, 'w': 1, 'h': 1, 'content': 'Orange'}, {'x': 0, 'y': 2, 'w': 1, 'h': 1, 'content': 'Watermelon'}, {'x': 0, 'y': 3, 'w': 1, 'h': 1, 'content': 'Mango'}, {'x': 0, 'y': 4, 'w': 1, 'h': 1, 'content': 'Peach'}, {'x': 1, 'y': 0, 'w': 1, 'h': 1, 'content': '$5.00'}, {'x': 1, 'y': 1, 'w': 1, 'h': 1, 'content': '$1.99'}, {'x': 1, 'y': 2, 'w': 1, 'h': 1, 'content': '$1.69'}, {'x': 1, 'y': 3, 'w': 1, 'h': 1, 'content': '$9.56'}, {'x': 1, 'y': 4, 'w': 1, 'h': 1, 'content': '$2.99'}, {'x': 2, 'y': 0, 'w': 1, 'h': 1, 'content': '1'}, {'x': 2, 'y': 1, 'w': 1, 'h': 1, 'content': '2'}, {'x': 2, 'y': 2, 'w': 1, 'h': 1, 'content': '3'}, {'x': 2, 'y': 3, 'w': 1, 'h': 1, 'content': '2'}, {'x': 2, 'y': 4, 'w': 1, 'h': 1, 'content': '1'}, {'x': 3, 'y': 0, 'w': 1, 'h': 1, 'content': '$5.00'}, {'x': 3, 'y': 1, 'w': 1, 'h': 1, 'content': '$3.98'}, {'x': 3, 'y': 2, 'w': 1, 'h': 1, 'content': '$5.07'}, {'x': 3, 'y': 3, 'w': 1, 'h': 1, 'content': '$19.12'}, {'x': 3, 'y': 4, 'w': 1, 'h': 1, 'content': '$2.99'}], 'filetype': 'application/pdf', 'languages': ['eng'], 'page_number': 1, 'orig_elements': 'eJyVldtq4zAQhl9FmFzsQuNYUmzHJRT2ci/KZmlhL0Iwij1xRH3CVmhC6buvNDm4jeNqFxKUGc8nzfwZj5ZvDuRQQKlimTr3xBEpAxEGwTjkM2885XQzjtIQxhsQ4AeMz1gYOnfEKUCJVCihmTcnqaomlaVQ0KKdi0O1U/EWZLZV2sM4jzRzcr/KVG21lwY+1966kqUy3HJJvcj170gUhe5sdUfONp1GzPXQ4XPuTm95joz2OO2hVVCYWhZyD/lTLRJw3vWDFBQkSlZlnOSibeO6qdY6zHMD7jP9fCNzUIcaEF08Ophxme1EhmUtHSgzZ4XeVsVFlcqNBBSNeWw69vyxN3v2Zvd+qD+GrjUZl7tiDY0pV3uUWOcQizZOIM9xUyNeqbT+Zp8fdZ2DIben+NfTujd56vVgVl3LJ+pXo7O0YvQa+6P/rqaAvCptKLtGH/WBlY3i19QCRLK1UdNrauS7njdE0SFNRtSNIhvVk0RTgZXqqTHSTRrYqJ4aI/YPGfbUoEMEG1KC2YieCtxG9BSwntGr3lrH//UBH+wD7kYzG9XvA31WaKP6fUAjlw5KwYek+LIR+EUOM3gU7JWZHltV5Aad4zx5mKtGf9MHHB/zif5lLBTsYtFb/gmCR/g4Rboo8wJdLNb5jaB9uhsmH3cIuh34p/PD/g44U7og807dOh417tM4W7oo9jF5esuP8OSoH94ORtvjNM1EKRPyU18iLVk0MoHJS0ZQW4LakaNUBCUiXeUEKyZYCMECCKZF8FjyeydKJdXh20v2nTzt1qpSIif0tCcjqCzhaIfGxlJNwLlBzpfTs8naeV/9BY7MBX4=', 'file_directory': '/Users/jorgep/Documents/ask_public_own/ai-starter-kit/multimodal_knowledge_retriever/data/sample_docs', 'filename': 'invoicesample.pdf'}\n",
      "TEXT: Organic Items Price/kg Apple $5.00 Orange $1.99 Watermelon $1.69 Mango $9.56 Peach $2.99 Quantity(kg) Subtotal 1 $5.00 2 $3.98 3 $5.07 2 $19.12 1 $2.99\n",
      "\n",
      "\n",
      "##########\n",
      "\n",
      "\u001b[95m ELEMENT 2\u001b[00m\n",
      "TYPE: <class 'unstructured.documents.elements.CompositeElement'>\n",
      "META: {'filetype': 'application/pdf', 'languages': ['eng'], 'last_modified': '2024-05-08T08:57:57', 'page_number': 1, 'orig_elements': 'eJzNVluL3DYY/SvCtNCWkdH9krc8tdB2G9jJQ1mWQZY+zwo89sSW22zT/PfKl0mWZtpsCrNdGDA6oyNL53zfkW/eFdDAAdq0i6F4gQpfOS00MAy2ElhIIbDhgWJwEipmqOc0FBtUHCC54JLLnHeF77o+xNYlGOZx4+67Me3uIO7vUkYY5zZzVvj3GNJdRqmSPKPHLrZp4t3cKF3medRKWorbDVrHjGi9jI3mpTkDrIyMFMP9kOAwneRVfAvN9dF5KN7nPwIk8Cl27c43bhh2x76r8jRSKsuJzhPq2EC6P8LMffVzMW+43Y9uP5/qpoB2X9zO6JB2hy7EOsKsGSNMYCIxMVtiXkidfxP7mJm7djxU0E+nnTaR4O2kR7H94eXVj+jXX15P804v3cbUzHv9uycBPHXEe+yBEyxqQnAFtcM18VyZQHjQ9mKeSFbSLDmlpLST5KexVSWbLVC2FGeBmfHfPLGMCPbEnnyHfup6OKB4HMYDCl3T9WiICbks6wb5rh3yXiGNPXIhHuPgY7tH0MRUopdNfDO6Axq64BoYUHDHWI0DqqGfbBwPJboaW/+AuEEHt28dGiCgwWe7+zi8GQH5sR/GYYOgdwk1+YXjx9XGvnWbmVE7H5s4xCFP6VAYI4K07Lt8WFBXrs/LxN9gOx3xTGHJWnpjnMFKGIdFkIAr4ym2UtcGOGhK2MUKy1Jdkql3p+dUOCvAKLcLQKk155GV9K/F9ZS1cz1WqUuuQX+i7fR8VFvXTtBaC4p9zTgWPlQ49w7HdUWgBmOpuWBbU0LN1Mg0t9rS2B8RxUr1QW1zHmGfbe7/Q//HxalR3jtT46B9vuKy2NgxHrCkMseqFSpfek+gu6Wlfqg7I5wvtxplgpbsHLKyno3u319v0TeUfP3tQ+Fftz7LtO/6+AeEf4qeyoFQpLbYCJmL3+boMTYoTLkHX0MVGFQXN4ERo9fCPiGU2eUao5TNpX4GWVjPxoTHJ46UXpqa5pzxJotulMQVrxXWXOXw55xWtbmc6NywUq/ZwWdBPyCKrhkkrC75eWRmPRvRv+KqJOSLy96Csk6DyB9wFWBBtc5l7xVWmnoiJQ1qWfQyDgjCS7mmCF3UXZCcNKw0D/X+FFlZz8iBUn25AUzmrwkvOCb5fsWC+xpbxy0mzBEn6/wxxC946XIp1txhpxZYEcrFGvUnAz5FFtYzMsB+3oHbvwCjkip3', 'file_directory': '/Users/jorgep/Documents/ask_public_own/ai-starter-kit/multimodal_knowledge_retriever/data/sample_docs', 'filename': 'invoicesample.pdf'}\n",
      "TEXT: THANK YOU\n",
      "\n",
      "* Lorem ipsum dolor sit amet, consectetur adipiscing elit. Aliquam sodales dapibus fermentum. Nunc adipiscing, magna sed scelerisque cursus, erat lectus dapibus urna, sed facilisis leo dui et ipsum.\n",
      "\n",
      "Subtotal | Total\n",
      "\n",
      "Subtotal\n",
      "\n",
      "GST (10%)\n",
      "\n",
      "Total\n",
      "\n",
      "$36.00\n",
      "\n",
      "$3.60\n",
      "\n",
      "$39.60\n",
      "\n",
      "\n",
      "##########\n",
      "\n"
     ]
    }
   ],
   "source": [
    "for i, element in enumerate(raw_pdf_elements):\n",
    "    print(f\"\\033[95m ELEMENT {i}\\033[00m\")\n",
    "    print(f\"TYPE: {type(element)}\")\n",
    "    print(f\"META: {element.metadata.to_dict()}\")\n",
    "    print(f\"TEXT: {element.text}\")\n",
    "    print(\"\\n\\n##########\\n\")"
   ]
  },
  {
   "cell_type": "code",
   "execution_count": 8,
   "metadata": {},
   "outputs": [
    {
     "data": {
      "text/plain": [
       "{\"<class 'unstructured.documents.elements.CompositeElement'>\": 2,\n",
       " \"<class 'unstructured.documents.elements.Table'>\": 1}"
      ]
     },
     "execution_count": 8,
     "metadata": {},
     "output_type": "execute_result"
    }
   ],
   "source": [
    "# Create a dictionary to store counts of each type\n",
    "category_counts = {}\n",
    "\n",
    "for element in raw_pdf_elements:\n",
    "    category = str(type(element))\n",
    "    if category in category_counts:\n",
    "        category_counts[category] += 1\n",
    "    else:\n",
    "        category_counts[category] = 1\n",
    "\n",
    "# Unique_categories will have unique elements\n",
    "# TableChunk if Table > max chars set above\n",
    "unique_categories = set(category_counts.keys())\n",
    "category_counts"
   ]
  },
  {
   "cell_type": "code",
   "execution_count": 9,
   "metadata": {},
   "outputs": [
    {
     "name": "stdout",
     "output_type": "stream",
     "text": [
      "1\n",
      "2\n"
     ]
    }
   ],
   "source": [
    "from langchain.schema import Document\n",
    "\n",
    "\n",
    "# Categorize by type\n",
    "categorized_elements = []\n",
    "for element in raw_pdf_elements:\n",
    "    if \"unstructured.documents.elements.Table\" in str(type(element)):\n",
    "        meta = element.metadata.to_dict()\n",
    "        meta[\"type\"] = \"table\"\n",
    "        categorized_elements.append(Document(page_content=element.metadata.text_as_html, metadata=meta))\n",
    "    elif \"unstructured.documents.elements.CompositeElement\" in str(type(element)):\n",
    "        meta = element.metadata.to_dict()\n",
    "        meta[\"type\"] = \"text\"\n",
    "        categorized_elements.append(Document(page_content=str(element), metadata=meta))\n",
    "\n",
    "# Tables\n",
    "table_docs = [e for e in categorized_elements if e.metadata[\"type\"] == \"table\"]\n",
    "print(len(table_docs))\n",
    "\n",
    "# Text\n",
    "text_docs = [e for e in categorized_elements if e.metadata[\"type\"] == \"text\"]\n",
    "print(len(text_docs))"
   ]
  },
  {
   "cell_type": "markdown",
   "metadata": {},
   "source": [
    "### Text and table summaries"
   ]
  },
  {
   "cell_type": "code",
   "execution_count": 10,
   "metadata": {},
   "outputs": [],
   "source": [
    "from langchain_community.llms.sambanova import Sambaverse\n",
    "from langchain_core.output_parsers import StrOutputParser\n",
    "from langchain_core.prompts import load_prompt"
   ]
  },
  {
   "cell_type": "code",
   "execution_count": 11,
   "metadata": {},
   "outputs": [],
   "source": [
    "text_prompt = load_prompt(os.path.join(kit_dir, \"prompts\", \"llama70b-text_summary.yaml\"))\n",
    "table_prompt = load_prompt(os.path.join(kit_dir, \"prompts\", \"llama70b-table_summary.yaml\"))\n",
    "\n",
    "# Summary chain\n",
    "model = Sambaverse(\n",
    "    sambaverse_model_name=\"Meta/llama-2-70b-chat-hf\",\n",
    "    model_kwargs={\n",
    "            \"do_sample\": True, \n",
    "            \"max_tokens_to_generate\": 256,\n",
    "            \"temperature\": 0.01,\n",
    "            \"process_prompt\": True,\n",
    "            \"select_expert\": \"llama-2-70b-chat-hf\"\n",
    "            #\"stop_sequences\": { \"type\":\"str\", \"value\":\"\"},\n",
    "            # \"repetition_penalty\": {\"type\": \"float\", \"value\": \"1\"},\n",
    "            # \"top_k\": {\"type\": \"int\", \"value\": \"50\"},\n",
    "            # \"top_p\": {\"type\": \"float\", \"value\": \"1\"}\n",
    "        }\n",
    ")\n",
    "text_summarize_chain = {\"element\": lambda x: x} | text_prompt | model | StrOutputParser()\n",
    "table_summarize_chain = {\"element\": lambda x: x} | table_prompt | model | StrOutputParser()"
   ]
  },
  {
   "cell_type": "markdown",
   "metadata": {},
   "source": [
    "### Text Summaries"
   ]
  },
  {
   "cell_type": "code",
   "execution_count": 12,
   "metadata": {},
   "outputs": [],
   "source": [
    "# Apply to text\n",
    "texts = [i.page_content for i in text_docs if i.page_content != \"\"]\n",
    "if texts:\n",
    "    text_summaries = text_summarize_chain.batch(texts, {\"max_concurrency\": 1})"
   ]
  },
  {
   "cell_type": "code",
   "execution_count": 13,
   "metadata": {},
   "outputs": [
    {
     "data": {
      "text/plain": [
       "[\" Sure! Here's a concise summary of the text chunk you provided:\\n\\nDenny Gunawan has an invoice for $39.60 with invoice number #20130304. The address is 221 Queen St Melbourne VIC 3000, and the phone number is (03) 1234 5678.\",\n",
       " ' A fictitious receipt or invoice with a subtotal, a 10% GST charge, and a total that includes the GST. The total amount is $39.60.']"
      ]
     },
     "execution_count": 13,
     "metadata": {},
     "output_type": "execute_result"
    }
   ],
   "source": [
    "text_summaries"
   ]
  },
  {
   "cell_type": "markdown",
   "metadata": {},
   "source": [
    "### Table summaries"
   ]
  },
  {
   "cell_type": "code",
   "execution_count": 14,
   "metadata": {},
   "outputs": [],
   "source": [
    "# Apply to tables\n",
    "tables = [i.page_content for i in table_docs]\n",
    "if tables:\n",
    "    table_summaries = table_summarize_chain.batch(tables, {\"max_concurrency\":1})"
   ]
  },
  {
   "cell_type": "code",
   "execution_count": 15,
   "metadata": {},
   "outputs": [
    {
     "data": {
      "text/plain": [
       "[' The table shows the prices and quantities of various fruits. The fruits included are Apple, Orange, Watermelon, Mango, and Peach. The prices range from $1.69 (Watermelon) to $9.56 (Mango). The quantities range from 1 (Apple, Peach) to 3 (Watermelon). The total cost of each fruit is also shown, which ranges from $5.00 (Apple) to $19.12 (Mango).']"
      ]
     },
     "execution_count": 15,
     "metadata": {},
     "output_type": "execute_result"
    }
   ],
   "source": [
    "table_summaries"
   ]
  },
  {
   "cell_type": "markdown",
   "metadata": {},
   "source": [
    "### Image summary"
   ]
  },
  {
   "cell_type": "code",
   "execution_count": 16,
   "metadata": {},
   "outputs": [],
   "source": [
    "image_prompt = \"A chat between a curious human and an artificial intelligence assistant. The assistant gives helpful, detailed, and polite answers to the humans question. USER: <image>\\n, such as bar plots. ASSISTANT:\"\n",
    "image_prompt = load_prompt(os.path.join(kit_dir, \"prompts\", \"llava.yaml\"))\n",
    "prompt = image_prompt.format(instruction = \"Describe the image in detail. Be specific about graphs include name of axis, labels, legends and important numerical information\")\n",
    "image_paths = []\n",
    "image_paths.extend(glob.glob(os.path.join(output_path, '*.jpg')))\n",
    "image_paths.extend(glob.glob(os.path.join(output_path, '*.png')))\n",
    "\n",
    "image_summaries = []\n",
    "image_docs = []\n",
    "\n",
    "for image_path in image_paths:\n",
    "    result = llava_call(prompt, image_path)\n",
    "    image_summaries.append(result)\n",
    "    image_docs.append(Document(\n",
    "                        page_content=result, \n",
    "                        metadata={\n",
    "                                'type': 'image', \n",
    "                                'file_directory': os.path.dirname(image_path),\n",
    "                                'filename': os.path.basename(image_path),\n",
    "                            }\n",
    "                        )\n",
    "                    )"
   ]
  },
  {
   "cell_type": "code",
   "execution_count": 17,
   "metadata": {},
   "outputs": [
    {
     "data": {
      "text/plain": [
       "[\"The image features a logo for Sunny Farm, a company that specializes in fresh produce. The logo is a gold and yellow color scheme, with a sun in the center, symbolizing the warmth and freshness of the products. The sun is surrounded by trees, which further emphasize the connection to nature and the source of the fresh produce.\\n\\nThe logo is placed on a white background, making it stand out and be easily recognizable. The sun in the logo is positioned at the top left corner, while the trees are located at the bottom right corner. The overall design of the logo is simple yet effective in conveying the company's message.\"]"
      ]
     },
     "execution_count": 17,
     "metadata": {},
     "output_type": "execute_result"
    }
   ],
   "source": [
    "image_summaries"
   ]
  },
  {
   "cell_type": "code",
   "execution_count": 18,
   "metadata": {},
   "outputs": [
    {
     "data": {
      "text/plain": [
       "[Document(page_content=\"The image features a logo for Sunny Farm, a company that specializes in fresh produce. The logo is a gold and yellow color scheme, with a sun in the center, symbolizing the warmth and freshness of the products. The sun is surrounded by trees, which further emphasize the connection to nature and the source of the fresh produce.\\n\\nThe logo is placed on a white background, making it stand out and be easily recognizable. The sun in the logo is positioned at the top left corner, while the trees are located at the bottom right corner. The overall design of the logo is simple yet effective in conveying the company's message.\", metadata={'type': 'image', 'file_directory': '/Users/jorgep/Documents/ask_public_own/ai-starter-kit/multimodal_knowledge_retriever/data/sample_docs/invoicesample', 'filename': 'figure-1-1.jpg'})]"
      ]
     },
     "execution_count": 18,
     "metadata": {},
     "output_type": "execute_result"
    }
   ],
   "source": [
    "image_docs"
   ]
  },
  {
   "cell_type": "markdown",
   "metadata": {},
   "source": [
    "### add to vectorstore"
   ]
  },
  {
   "cell_type": "code",
   "execution_count": 19,
   "metadata": {},
   "outputs": [],
   "source": [
    "import uuid\n",
    "\n",
    "from langchain.retrievers.multi_vector import MultiVectorRetriever\n",
    "from langchain.storage import InMemoryByteStore\n",
    "from utils.sambanova_endpoint import SambaNovaEmbeddingModel\n",
    "from langchain_community.vectorstores import Chroma\n",
    "from langchain_core.documents import Document\n",
    "\n",
    "# The vectorstore to use to index the child chunks\n",
    "vectorstore = Chroma(\n",
    "    collection_name=\"summaries\", embedding_function=SambaNovaEmbeddingModel()\n",
    ")\n",
    "\n",
    "# The storage layer for the parent documents\n",
    "store = InMemoryByteStore()  \n",
    "id_key = \"doc_id\"\n",
    "\n",
    "# The retriever (empty to start)\n",
    "retriever = MultiVectorRetriever(\n",
    "    vectorstore=vectorstore,\n",
    "    docstore=store,\n",
    "    id_key=id_key,\n",
    "    search_kwargs={\"k\":2}\n",
    ")"
   ]
  },
  {
   "cell_type": "code",
   "execution_count": 20,
   "metadata": {},
   "outputs": [],
   "source": [
    "# Add texts\n",
    "if texts:\n",
    "    doc_ids = [str(uuid.uuid4()) for _ in text_docs]\n",
    "    summary_texts = [\n",
    "        Document(page_content=s, metadata={id_key: doc_ids[i]})\n",
    "        for i, s in enumerate(text_summaries)\n",
    "    ]\n",
    "    retriever.vectorstore.add_documents(summary_texts)\n",
    "    retriever.docstore.mset(list(zip(doc_ids, text_docs)))\n",
    "\n",
    "# Add tables\n",
    "if tables:\n",
    "    table_ids = [str(uuid.uuid4()) for _ in table_docs]\n",
    "    summary_tables = [\n",
    "        Document(page_content=s, metadata={id_key: table_ids[i]})\n",
    "        for i, s in enumerate(table_summaries)\n",
    "    ]\n",
    "    retriever.vectorstore.add_documents(summary_tables)\n",
    "    retriever.docstore.mset(list(zip(table_ids, table_docs)))\n",
    "\n",
    "# Add images\n",
    "if image_summaries:\n",
    "    img_ids = [str(uuid.uuid4()) for _ in image_summaries]\n",
    "    summary_img = [\n",
    "        Document(page_content=s, metadata={id_key: img_ids[i]})\n",
    "        for i, s in enumerate(image_summaries)\n",
    "    ]\n",
    "    retriever.vectorstore.add_documents(summary_img)\n",
    "    retriever.docstore.mset(\n",
    "        list(zip(img_ids, image_docs))\n",
    "    )  # Store the image summary as the raw document"
   ]
  },
  {
   "cell_type": "code",
   "execution_count": 21,
   "metadata": {},
   "outputs": [
    {
     "data": {
      "text/plain": [
       "[Document(page_content='THANK YOU\\n\\n* Lorem ipsum dolor sit amet, consectetur adipiscing elit. Aliquam sodales dapibus fermentum. Nunc adipiscing, magna sed scelerisque cursus, erat lectus dapibus urna, sed facilisis leo dui et ipsum.\\n\\nSubtotal | Total\\n\\nSubtotal\\n\\nGST (10%)\\n\\nTotal\\n\\n$36.00\\n\\n$3.60\\n\\n$39.60', metadata={'filetype': 'application/pdf', 'languages': ['eng'], 'last_modified': '2024-05-08T08:57:57', 'page_number': 1, 'orig_elements': 'eJzNV12L3DYU/SvCtNCWkdH3R97y1ELbbWAnD2VZBlm6nhV47Iktt9mm+e+VPZ5kaKZNtjDbAYPRsY4tnXPvsX33roAGdtCmTQzFC1SAYLVlTmPDNGARALDx2mJjHCOWMU85K1ao2EFywSWXOe8K33V9iK1LMMzjxj12Y9o8QNw+pIwwzm3mLPDvMaSHjFIleUb3XWzTxLu7U7rM86iVtBT3K7SMGdH6MDaal+YMsDAyUgyPQ4LdtJNX8S00t3vnoXifLwRI4FPs2o1v3DBs9n1X5WmkVJYTnSfUsYH0uIeZ++rnYl5wux3ddt7VXQHttrif0SFtdl2IdYRZM0aYwERiYtbEvJA6HxN7n5mbdtxV0E+7nRaR4O2kR7H+4eXNj+jXX15P844PXcfUzGv9uyfSGSaodFgq4bCoK4WdrStc1ZK4UFWgGL+YJ5KVNEtOKSntJPlxbFXJZguULcVZYGb8N08sI4I9syffoZ+6HnYo7odxh0LXdD0aYkIuy7pCvmuHvFZIY49ciPs4+NhuETQxlehlE9+MboeGLrgGBhTcPlbjgGroJxvHXYluxtafEFdo57atQwMENPhsdx+HNyMgP/bDOKwQ9C6hJj9w/Hi3sW/dambUzscmDnHIUzoUxoggHdZdnhbUjevzbeJvsJ62eKawAjdCQfCY1FrmwjIhF5a1OFQ5AXRd1dTWFyssS3VJpt6dzlPhLACj3B4ASq05jyykfy2u56yd27FKXXIN+hOtp/MXtTVQRWrqAbNKKCwMI7jK6YqtkMGJyihqLxe1lFAzNXJ+xtLYHxHFSvVBbXMeYZ9t7v9D/y/SPUseqFA2x2kdsLC1w4YIikEHYAyCJNQ/g+6WlvpUd0Y4P7zVaE77kp1DFtbV6P797Rp9Q8nX354K/7r1WaZt18c/IPxT9HiRPzRqybEUrMKCC4+dpxI7IYDpyuWvD3JxExgxeinsI0KZPbzGKGVzqZ9BDqyrMeEJicO5DFJaDJTWWCiVRa9y5WcLnLGWMGnU5UTnhpV6yQ4+C/oBUXTJIGF1yc8jM+tqRP+Kq5KQJ5d9MNIHZR3mRDEs8lsWOybnzKfc0XxVXu5TjgrCS7mkCD2oe0By0rDSnOr9KbKwrsiBUj3dAK1pHVwFuJb510ZQX2GjK4spkVz6/JNjgrlgC0ix5A47tsCCUC6WqD8a8ClyYF2RAfbzDtz/BSExKVI=', 'file_directory': '/Users/jorgep/Documents/ask_public_own/ai-starter-kit/multimodal_knowledge_retriever/data/sample_docs', 'filename': 'invoicesample.pdf', 'type': 'text'}),\n",
       " Document(page_content='ATTENTION TO\\n\\nDenny Gunawan\\n\\n221 Queen St Melbourne VIC 3000\\n\\n123 Somewhere St, Melbourne VIC 3000 (03) 1234 5678\\n\\n$39.60\\n\\nInvoice Number: #20130304', metadata={'filetype': 'application/pdf', 'languages': ['eng'], 'last_modified': '2024-05-08T08:57:57', 'page_number': 1, 'orig_elements': 'eJy9ltuO2zYQhl9FUHvRAqbE82HviqYo9iKbFOv0ZrEQKHHkZVaWBIleZxP03UtJTpCDEyAGbMA382vGIv9vhtTdhxQa2EIbCu/SqyQ1qqTUuhJhRQTinBpkwXJky9rVdSV5xWS6StItBOtssLHmQ1p13eB8awOMc9zY524Xigfwm4cQFcqYiTUHee9deIgqkYJFte98G6a6uztjaCZWCeE84/er5GNMiczEFBOBVUaPCEtFVNLxeQywnXby2r+D5ra3FaT/xQcOAlTBd21RNXYci37oypiGMyqZkDGh9g2E5x7m2tcv03nB7WZnN/Ou7lJoN+n9rI6h2HbO1x5mzyimHGGBsF5jfSVU/E3Vfaws2t22hGHa7bSIAO8mP9I/1uu/btbXr26S9asp9eN71z4083K/xmJVSZQRHAHnDHGHS2Sto0hVXNRQSoHJ+bAQJTIVXRc4I7PrSyyFyNgUa8InTF/HS/5pUDST32Hit5OtvZ3XmuZvRhjG/G03bKDPX3TVbjJtzO34WPS7svFV0e3b3Ho0BjsEGNCjD/l21wQfCdqmeGy7fQMu/uUAYfDwBEM+GZiPdts3ULiuGnPfPnW+gkXKa7/ZDYAIItnbfnPWPvm8N66njR/rDai0AWIM4ix2BI+dgGytCcK1KSVIyqjh5+sNTOZmYJQt8D8JUmZ6FhiXmTkmzCWnDi3F4sJD+wLa9jn5e9favW0/J3Njh8EG/wTrKfMIIScl45RT5LSOmIBSpHVFECtr5mrQNSf6nIR0RlYJl9G2A6FZEIwfkDEqpoH9RlhKTiPENDWXPlYpJck/O4A2uQ3JS2jKbje0kPx7/WfCMMY/xUzHzcezliMDxiFOsETxmAVUY8KYKJ2Q5fmmStIMrxJFzXLNLaGOUNR8LUadfhsv6SfOkxH0wrAIZcltt4X9AwwQga2OEEt+w+z3JGbyREilfwogqQkhVGskTV3GK5NwVCpDEeWkNtoJIVl1vqEjQk1nnNT6cOgdBGVYhmeBK5mxI8JS8kOMl8T0KzOZ/GJ03rRV9GfTDf49uO+5L5Xh2CmMVG2j+1LFT0jDSZwhK7ksiZaEns39+OER8wyJjk/OHkJBlvOPK5bxI/Gcftr4cBUvpAuDuV4+SpKb+elV8guNJxNmmP9gSu7/ByzZesU=', 'file_directory': '/Users/jorgep/Documents/ask_public_own/ai-starter-kit/multimodal_knowledge_retriever/data/sample_docs', 'filename': 'invoicesample.pdf', 'type': 'text'})]"
      ]
     },
     "execution_count": 21,
     "metadata": {},
     "output_type": "execute_result"
    }
   ],
   "source": [
    "retriever.invoke(\"what is the final price in the invoice?\")"
   ]
  },
  {
   "cell_type": "code",
   "execution_count": 22,
   "metadata": {},
   "outputs": [
    {
     "data": {
      "text/plain": [
       "[Document(page_content=\"The image features a logo for Sunny Farm, a company that specializes in fresh produce. The logo is a gold and yellow color scheme, with a sun in the center, symbolizing the warmth and freshness of the products. The sun is surrounded by trees, which further emphasize the connection to nature and the source of the fresh produce.\\n\\nThe logo is placed on a white background, making it stand out and be easily recognizable. The sun in the logo is positioned at the top left corner, while the trees are located at the bottom right corner. The overall design of the logo is simple yet effective in conveying the company's message.\", metadata={'type': 'image', 'file_directory': '/Users/jorgep/Documents/ask_public_own/ai-starter-kit/multimodal_knowledge_retriever/data/sample_docs/invoicesample', 'filename': 'figure-1-1.jpg'}),\n",
       " Document(page_content='ATTENTION TO\\n\\nDenny Gunawan\\n\\n221 Queen St Melbourne VIC 3000\\n\\n123 Somewhere St, Melbourne VIC 3000 (03) 1234 5678\\n\\n$39.60\\n\\nInvoice Number: #20130304', metadata={'filetype': 'application/pdf', 'languages': ['eng'], 'last_modified': '2024-05-08T08:57:57', 'page_number': 1, 'orig_elements': 'eJy9ltuO2zYQhl9FUHvRAqbE82HviqYo9iKbFOv0ZrEQKHHkZVaWBIleZxP03UtJTpCDEyAGbMA382vGIv9vhtTdhxQa2EIbCu/SqyQ1qqTUuhJhRQTinBpkwXJky9rVdSV5xWS6StItBOtssLHmQ1p13eB8awOMc9zY524Xigfwm4cQFcqYiTUHee9deIgqkYJFte98G6a6uztjaCZWCeE84/er5GNMiczEFBOBVUaPCEtFVNLxeQywnXby2r+D5ra3FaT/xQcOAlTBd21RNXYci37oypiGMyqZkDGh9g2E5x7m2tcv03nB7WZnN/Ou7lJoN+n9rI6h2HbO1x5mzyimHGGBsF5jfSVU/E3Vfaws2t22hGHa7bSIAO8mP9I/1uu/btbXr26S9asp9eN71z4083K/xmJVSZQRHAHnDHGHS2Sto0hVXNRQSoHJ+bAQJTIVXRc4I7PrSyyFyNgUa8InTF/HS/5pUDST32Hit5OtvZ3XmuZvRhjG/G03bKDPX3TVbjJtzO34WPS7svFV0e3b3Ho0BjsEGNCjD/l21wQfCdqmeGy7fQMu/uUAYfDwBEM+GZiPdts3ULiuGnPfPnW+gkXKa7/ZDYAIItnbfnPWPvm8N66njR/rDai0AWIM4ix2BI+dgGytCcK1KSVIyqjh5+sNTOZmYJQt8D8JUmZ6FhiXmTkmzCWnDi3F4sJD+wLa9jn5e9favW0/J3Njh8EG/wTrKfMIIScl45RT5LSOmIBSpHVFECtr5mrQNSf6nIR0RlYJl9G2A6FZEIwfkDEqpoH9RlhKTiPENDWXPlYpJck/O4A2uQ3JS2jKbje0kPx7/WfCMMY/xUzHzcezliMDxiFOsETxmAVUY8KYKJ2Q5fmmStIMrxJFzXLNLaGOUNR8LUadfhsv6SfOkxH0wrAIZcltt4X9AwwQga2OEEt+w+z3JGbyREilfwogqQkhVGskTV3GK5NwVCpDEeWkNtoJIVl1vqEjQk1nnNT6cOgdBGVYhmeBK5mxI8JS8kOMl8T0KzOZ/GJ03rRV9GfTDf49uO+5L5Xh2CmMVG2j+1LFT0jDSZwhK7ksiZaEns39+OER8wyJjk/OHkJBlvOPK5bxI/Gcftr4cBUvpAuDuV4+SpKb+elV8guNJxNmmP9gSu7/ByzZesU=', 'file_directory': '/Users/jorgep/Documents/ask_public_own/ai-starter-kit/multimodal_knowledge_retriever/data/sample_docs', 'filename': 'invoicesample.pdf', 'type': 'text'})]"
      ]
     },
     "execution_count": 22,
     "metadata": {},
     "output_type": "execute_result"
    }
   ],
   "source": [
    "retriever.invoke(\"what is the logo of the company\")"
   ]
  },
  {
   "cell_type": "markdown",
   "metadata": {},
   "source": [
    "## Retrieval with raw text, raw tables and image summaries"
   ]
  },
  {
   "cell_type": "code",
   "execution_count": 23,
   "metadata": {},
   "outputs": [],
   "source": [
    "from langchain.chains import RetrievalQA\n",
    "\n",
    "prompt = load_prompt(os.path.join(kit_dir,\"prompts\",\"llama70b-knowledge_retriever_custom_qa_prompt.yaml\"))\n",
    "\n",
    "chain = RetrievalQA.from_llm(\n",
    "    llm = model,\n",
    "    retriever=retriever,\n",
    "    return_source_documents=True,\n",
    "    input_key=\"question\",\n",
    "    output_key=\"answer\"\n",
    ")\n",
    "chain.combine_documents_chain.llm_chain.prompt=prompt\n"
   ]
  },
  {
   "cell_type": "code",
   "execution_count": 24,
   "metadata": {},
   "outputs": [
    {
     "data": {
      "text/plain": [
       "{'question': 'what is the final price in the invoice?',\n",
       " 'answer': ' Sure, I can help you with that! Based on the provided context, the final price in the invoice is $39.60. This can beWiki confirmed by looking at the \"Total\" section of the invoice, which states $39.60.\\n\\nHere\\'s a breakdown of how I arrived at this answer:\\n\\n* I first looked at the \"Subtotal\" section, which states $36.00.\\n* Next, I looked at the \"GST (10%)\" section, which states $3.60.\\n* Finally, I added the subtotal and GST amounts together to get the final total, which is $39.60.\\n\\nI hope that helps! Let me know if you have any other questions.',\n",
       " 'source_documents': [Document(page_content='THANK YOU\\n\\n* Lorem ipsum dolor sit amet, consectetur adipiscing elit. Aliquam sodales dapibus fermentum. Nunc adipiscing, magna sed scelerisque cursus, erat lectus dapibus urna, sed facilisis leo dui et ipsum.\\n\\nSubtotal | Total\\n\\nSubtotal\\n\\nGST (10%)\\n\\nTotal\\n\\n$36.00\\n\\n$3.60\\n\\n$39.60', metadata={'filetype': 'application/pdf', 'languages': ['eng'], 'last_modified': '2024-05-08T08:57:57', 'page_number': 1, 'orig_elements': 'eJzNV12L3DYU/SvCtNCWkdH3R97y1ELbbWAnD2VZBlm6nhV47Iktt9mm+e+VPZ5kaKZNtjDbAYPRsY4tnXPvsX33roAGdtCmTQzFC1SAYLVlTmPDNGARALDx2mJjHCOWMU85K1ao2EFywSWXOe8K33V9iK1LMMzjxj12Y9o8QNw+pIwwzm3mLPDvMaSHjFIleUb3XWzTxLu7U7rM86iVtBT3K7SMGdH6MDaal+YMsDAyUgyPQ4LdtJNX8S00t3vnoXifLwRI4FPs2o1v3DBs9n1X5WmkVJYTnSfUsYH0uIeZ++rnYl5wux3ddt7VXQHttrif0SFtdl2IdYRZM0aYwERiYtbEvJA6HxN7n5mbdtxV0E+7nRaR4O2kR7H+4eXNj+jXX15P844PXcfUzGv9uyfSGSaodFgq4bCoK4WdrStc1ZK4UFWgGL+YJ5KVNEtOKSntJPlxbFXJZguULcVZYGb8N08sI4I9syffoZ+6HnYo7odxh0LXdD0aYkIuy7pCvmuHvFZIY49ciPs4+NhuETQxlehlE9+MboeGLrgGBhTcPlbjgGroJxvHXYluxtafEFdo57atQwMENPhsdx+HNyMgP/bDOKwQ9C6hJj9w/Hi3sW/dambUzscmDnHIUzoUxoggHdZdnhbUjevzbeJvsJ62eKawAjdCQfCY1FrmwjIhF5a1OFQ5AXRd1dTWFyssS3VJpt6dzlPhLACj3B4ASq05jyykfy2u56yd27FKXXIN+hOtp/MXtTVQRWrqAbNKKCwMI7jK6YqtkMGJyihqLxe1lFAzNXJ+xtLYHxHFSvVBbXMeYZ9t7v9D/y/SPUseqFA2x2kdsLC1w4YIikEHYAyCJNQ/g+6WlvpUd0Y4P7zVaE77kp1DFtbV6P797Rp9Q8nX354K/7r1WaZt18c/IPxT9HiRPzRqybEUrMKCC4+dpxI7IYDpyuWvD3JxExgxeinsI0KZPbzGKGVzqZ9BDqyrMeEJicO5DFJaDJTWWCiVRa9y5WcLnLGWMGnU5UTnhpV6yQ4+C/oBUXTJIGF1yc8jM+tqRP+Kq5KQJ5d9MNIHZR3mRDEs8lsWOybnzKfc0XxVXu5TjgrCS7mkCD2oe0By0rDSnOr9KbKwrsiBUj3dAK1pHVwFuJb510ZQX2GjK4spkVz6/JNjgrlgC0ix5A47tsCCUC6WqD8a8ClyYF2RAfbzDtz/BSExKVI=', 'file_directory': '/Users/jorgep/Documents/ask_public_own/ai-starter-kit/multimodal_knowledge_retriever/data/sample_docs', 'filename': 'invoicesample.pdf', 'type': 'text'}),\n",
       "  Document(page_content='ATTENTION TO\\n\\nDenny Gunawan\\n\\n221 Queen St Melbourne VIC 3000\\n\\n123 Somewhere St, Melbourne VIC 3000 (03) 1234 5678\\n\\n$39.60\\n\\nInvoice Number: #20130304', metadata={'filetype': 'application/pdf', 'languages': ['eng'], 'last_modified': '2024-05-08T08:57:57', 'page_number': 1, 'orig_elements': 'eJy9ltuO2zYQhl9FUHvRAqbE82HviqYo9iKbFOv0ZrEQKHHkZVaWBIleZxP03UtJTpCDEyAGbMA382vGIv9vhtTdhxQa2EIbCu/SqyQ1qqTUuhJhRQTinBpkwXJky9rVdSV5xWS6StItBOtssLHmQ1p13eB8awOMc9zY524Xigfwm4cQFcqYiTUHee9deIgqkYJFte98G6a6uztjaCZWCeE84/er5GNMiczEFBOBVUaPCEtFVNLxeQywnXby2r+D5ra3FaT/xQcOAlTBd21RNXYci37oypiGMyqZkDGh9g2E5x7m2tcv03nB7WZnN/Ou7lJoN+n9rI6h2HbO1x5mzyimHGGBsF5jfSVU/E3Vfaws2t22hGHa7bSIAO8mP9I/1uu/btbXr26S9asp9eN71z4083K/xmJVSZQRHAHnDHGHS2Sto0hVXNRQSoHJ+bAQJTIVXRc4I7PrSyyFyNgUa8InTF/HS/5pUDST32Hit5OtvZ3XmuZvRhjG/G03bKDPX3TVbjJtzO34WPS7svFV0e3b3Ho0BjsEGNCjD/l21wQfCdqmeGy7fQMu/uUAYfDwBEM+GZiPdts3ULiuGnPfPnW+gkXKa7/ZDYAIItnbfnPWPvm8N66njR/rDai0AWIM4ix2BI+dgGytCcK1KSVIyqjh5+sNTOZmYJQt8D8JUmZ6FhiXmTkmzCWnDi3F4sJD+wLa9jn5e9favW0/J3Njh8EG/wTrKfMIIScl45RT5LSOmIBSpHVFECtr5mrQNSf6nIR0RlYJl9G2A6FZEIwfkDEqpoH9RlhKTiPENDWXPlYpJck/O4A2uQ3JS2jKbje0kPx7/WfCMMY/xUzHzcezliMDxiFOsETxmAVUY8KYKJ2Q5fmmStIMrxJFzXLNLaGOUNR8LUadfhsv6SfOkxH0wrAIZcltt4X9AwwQga2OEEt+w+z3JGbyREilfwogqQkhVGskTV3GK5NwVCpDEeWkNtoJIVl1vqEjQk1nnNT6cOgdBGVYhmeBK5mxI8JS8kOMl8T0KzOZ/GJ03rRV9GfTDf49uO+5L5Xh2CmMVG2j+1LFT0jDSZwhK7ksiZaEns39+OER8wyJjk/OHkJBlvOPK5bxI/Gcftr4cBUvpAuDuV4+SpKb+elV8guNJxNmmP9gSu7/ByzZesU=', 'file_directory': '/Users/jorgep/Documents/ask_public_own/ai-starter-kit/multimodal_knowledge_retriever/data/sample_docs', 'filename': 'invoicesample.pdf', 'type': 'text'})]}"
      ]
     },
     "execution_count": 24,
     "metadata": {},
     "output_type": "execute_result"
    }
   ],
   "source": [
    "chain.invoke({\"question\": \"what is the final price in the invoice?\"})"
   ]
  },
  {
   "cell_type": "code",
   "execution_count": 25,
   "metadata": {},
   "outputs": [
    {
     "data": {
      "text/plain": [
       "{'question': 'what is the logo of the company',\n",
       " 'answer': ' Based on the provided context, the logo of the company is a gold and yellow logo featuring a sun in the center, surrounded by trees. The sun is positioned at the top left corner, while the trees are located at the bottom right corner. The logo is placed on a white background, making it stand out and easily recognizable.',\n",
       " 'source_documents': [Document(page_content=\"The image features a logo for Sunny Farm, a company that specializes in fresh produce. The logo is a gold and yellow color scheme, with a sun in the center, symbolizing the warmth and freshness of the products. The sun is surrounded by trees, which further emphasize the connection to nature and the source of the fresh produce.\\n\\nThe logo is placed on a white background, making it stand out and be easily recognizable. The sun in the logo is positioned at the top left corner, while the trees are located at the bottom right corner. The overall design of the logo is simple yet effective in conveying the company's message.\", metadata={'type': 'image', 'file_directory': '/Users/jorgep/Documents/ask_public_own/ai-starter-kit/multimodal_knowledge_retriever/data/sample_docs/invoicesample', 'filename': 'figure-1-1.jpg'}),\n",
       "  Document(page_content='ATTENTION TO\\n\\nDenny Gunawan\\n\\n221 Queen St Melbourne VIC 3000\\n\\n123 Somewhere St, Melbourne VIC 3000 (03) 1234 5678\\n\\n$39.60\\n\\nInvoice Number: #20130304', metadata={'filetype': 'application/pdf', 'languages': ['eng'], 'last_modified': '2024-05-08T08:57:57', 'page_number': 1, 'orig_elements': 'eJy9ltuO2zYQhl9FUHvRAqbE82HviqYo9iKbFOv0ZrEQKHHkZVaWBIleZxP03UtJTpCDEyAGbMA382vGIv9vhtTdhxQa2EIbCu/SqyQ1qqTUuhJhRQTinBpkwXJky9rVdSV5xWS6StItBOtssLHmQ1p13eB8awOMc9zY524Xigfwm4cQFcqYiTUHee9deIgqkYJFte98G6a6uztjaCZWCeE84/er5GNMiczEFBOBVUaPCEtFVNLxeQywnXby2r+D5ra3FaT/xQcOAlTBd21RNXYci37oypiGMyqZkDGh9g2E5x7m2tcv03nB7WZnN/Ou7lJoN+n9rI6h2HbO1x5mzyimHGGBsF5jfSVU/E3Vfaws2t22hGHa7bSIAO8mP9I/1uu/btbXr26S9asp9eN71z4083K/xmJVSZQRHAHnDHGHS2Sto0hVXNRQSoHJ+bAQJTIVXRc4I7PrSyyFyNgUa8InTF/HS/5pUDST32Hit5OtvZ3XmuZvRhjG/G03bKDPX3TVbjJtzO34WPS7svFV0e3b3Ho0BjsEGNCjD/l21wQfCdqmeGy7fQMu/uUAYfDwBEM+GZiPdts3ULiuGnPfPnW+gkXKa7/ZDYAIItnbfnPWPvm8N66njR/rDai0AWIM4ix2BI+dgGytCcK1KSVIyqjh5+sNTOZmYJQt8D8JUmZ6FhiXmTkmzCWnDi3F4sJD+wLa9jn5e9favW0/J3Njh8EG/wTrKfMIIScl45RT5LSOmIBSpHVFECtr5mrQNSf6nIR0RlYJl9G2A6FZEIwfkDEqpoH9RlhKTiPENDWXPlYpJck/O4A2uQ3JS2jKbje0kPx7/WfCMMY/xUzHzcezliMDxiFOsETxmAVUY8KYKJ2Q5fmmStIMrxJFzXLNLaGOUNR8LUadfhsv6SfOkxH0wrAIZcltt4X9AwwQga2OEEt+w+z3JGbyREilfwogqQkhVGskTV3GK5NwVCpDEeWkNtoJIVl1vqEjQk1nnNT6cOgdBGVYhmeBK5mxI8JS8kOMl8T0KzOZ/GJ03rRV9GfTDf49uO+5L5Xh2CmMVG2j+1LFT0jDSZwhK7ksiZaEns39+OER8wyJjk/OHkJBlvOPK5bxI/Gcftr4cBUvpAuDuV4+SpKb+elV8guNJxNmmP9gSu7/ByzZesU=', 'file_directory': '/Users/jorgep/Documents/ask_public_own/ai-starter-kit/multimodal_knowledge_retriever/data/sample_docs', 'filename': 'invoicesample.pdf', 'type': 'text'})]}"
      ]
     },
     "execution_count": 25,
     "metadata": {},
     "output_type": "execute_result"
    }
   ],
   "source": [
    "chain.invoke(\"what is the logo of the company\")"
   ]
  },
  {
   "cell_type": "markdown",
   "metadata": {},
   "source": [
    "## Retrieval with raw text, raw tables and raw images"
   ]
  },
  {
   "cell_type": "code",
   "execution_count": 26,
   "metadata": {},
   "outputs": [],
   "source": [
    "query = \"what it says the text in the logo\"#\"what is the logo of the company?\""
   ]
  },
  {
   "cell_type": "code",
   "execution_count": 27,
   "metadata": {},
   "outputs": [
    {
     "data": {
      "text/plain": [
       "[Document(page_content=\"The image features a logo for Sunny Farm, a company that specializes in fresh produce. The logo is a gold and yellow color scheme, with a sun in the center, symbolizing the warmth and freshness of the products. The sun is surrounded by trees, which further emphasize the connection to nature and the source of the fresh produce.\\n\\nThe logo is placed on a white background, making it stand out and be easily recognizable. The sun in the logo is positioned at the top left corner, while the trees are located at the bottom right corner. The overall design of the logo is simple yet effective in conveying the company's message.\", metadata={'type': 'image', 'file_directory': '/Users/jorgep/Documents/ask_public_own/ai-starter-kit/multimodal_knowledge_retriever/data/sample_docs/invoicesample', 'filename': 'figure-1-1.jpg'}),\n",
       " Document(page_content='ATTENTION TO\\n\\nDenny Gunawan\\n\\n221 Queen St Melbourne VIC 3000\\n\\n123 Somewhere St, Melbourne VIC 3000 (03) 1234 5678\\n\\n$39.60\\n\\nInvoice Number: #20130304', metadata={'filetype': 'application/pdf', 'languages': ['eng'], 'last_modified': '2024-05-08T08:57:57', 'page_number': 1, 'orig_elements': 'eJy9ltuO2zYQhl9FUHvRAqbE82HviqYo9iKbFOv0ZrEQKHHkZVaWBIleZxP03UtJTpCDEyAGbMA382vGIv9vhtTdhxQa2EIbCu/SqyQ1qqTUuhJhRQTinBpkwXJky9rVdSV5xWS6StItBOtssLHmQ1p13eB8awOMc9zY524Xigfwm4cQFcqYiTUHee9deIgqkYJFte98G6a6uztjaCZWCeE84/er5GNMiczEFBOBVUaPCEtFVNLxeQywnXby2r+D5ra3FaT/xQcOAlTBd21RNXYci37oypiGMyqZkDGh9g2E5x7m2tcv03nB7WZnN/Ou7lJoN+n9rI6h2HbO1x5mzyimHGGBsF5jfSVU/E3Vfaws2t22hGHa7bSIAO8mP9I/1uu/btbXr26S9asp9eN71z4083K/xmJVSZQRHAHnDHGHS2Sto0hVXNRQSoHJ+bAQJTIVXRc4I7PrSyyFyNgUa8InTF/HS/5pUDST32Hit5OtvZ3XmuZvRhjG/G03bKDPX3TVbjJtzO34WPS7svFV0e3b3Ho0BjsEGNCjD/l21wQfCdqmeGy7fQMu/uUAYfDwBEM+GZiPdts3ULiuGnPfPnW+gkXKa7/ZDYAIItnbfnPWPvm8N66njR/rDai0AWIM4ix2BI+dgGytCcK1KSVIyqjh5+sNTOZmYJQt8D8JUmZ6FhiXmTkmzCWnDi3F4sJD+wLa9jn5e9favW0/J3Njh8EG/wTrKfMIIScl45RT5LSOmIBSpHVFECtr5mrQNSf6nIR0RlYJl9G2A6FZEIwfkDEqpoH9RlhKTiPENDWXPlYpJck/O4A2uQ3JS2jKbje0kPx7/WfCMMY/xUzHzcezliMDxiFOsETxmAVUY8KYKJ2Q5fmmStIMrxJFzXLNLaGOUNR8LUadfhsv6SfOkxH0wrAIZcltt4X9AwwQga2OEEt+w+z3JGbyREilfwogqQkhVGskTV3GK5NwVCpDEeWkNtoJIVl1vqEjQk1nnNT6cOgdBGVYhmeBK5mxI8JS8kOMl8T0KzOZ/GJ03rRV9GfTDf49uO+5L5Xh2CmMVG2j+1LFT0jDSZwhK7ksiZaEns39+OER8wyJjk/OHkJBlvOPK5bxI/Gcftr4cBUvpAuDuV4+SpKb+elV8guNJxNmmP9gSu7/ByzZesU=', 'file_directory': '/Users/jorgep/Documents/ask_public_own/ai-starter-kit/multimodal_knowledge_retriever/data/sample_docs', 'filename': 'invoicesample.pdf', 'type': 'text'})]"
      ]
     },
     "execution_count": 27,
     "metadata": {},
     "output_type": "execute_result"
    }
   ],
   "source": [
    "retriever.invoke(query)"
   ]
  },
  {
   "cell_type": "code",
   "execution_count": 28,
   "metadata": {},
   "outputs": [
    {
     "data": {
      "text/plain": [
       "{'question': 'what it says the text in the logo',\n",
       " 'answer': ' The text in the logo of Sunny Farm, as described in the first context, does not explicitly state what the text says. However, based on the description of the logo, it appears to feature the company name \"Sunny Farm\" in a gold and yellow color scheme, with a sun in the center and trees surrounding it.\\n\\nTherefore, a possible answer to the question \"what does the text in the logo say?\" could be:\\n\\n\"The text in the logo of Sunny Farm appears to be the company name \\'Sunny Farm\\', written in a gold and yellow color scheme with a sun in the center and trees surrounding it.\"\\n\\nPlease note that this answer is based on the information provided in the context and may not be entirely accurate. If further information is available or if the question is ambiguous, it\\'s always best to clarify or ask for additional details.',\n",
       " 'source_documents': [Document(page_content=\"The image features a logo for Sunny Farm, a company that specializes in fresh produce. The logo is a gold and yellow color scheme, with a sun in the center, symbolizing the warmth and freshness of the products. The sun is surrounded by trees, which further emphasize the connection to nature and the source of the fresh produce.\\n\\nThe logo is placed on a white background, making it stand out and be easily recognizable. The sun in the logo is positioned at the top left corner, while the trees are located at the bottom right corner. The overall design of the logo is simple yet effective in conveying the company's message.\", metadata={'type': 'image', 'file_directory': '/Users/jorgep/Documents/ask_public_own/ai-starter-kit/multimodal_knowledge_retriever/data/sample_docs/invoicesample', 'filename': 'figure-1-1.jpg'}),\n",
       "  Document(page_content='ATTENTION TO\\n\\nDenny Gunawan\\n\\n221 Queen St Melbourne VIC 3000\\n\\n123 Somewhere St, Melbourne VIC 3000 (03) 1234 5678\\n\\n$39.60\\n\\nInvoice Number: #20130304', metadata={'filetype': 'application/pdf', 'languages': ['eng'], 'last_modified': '2024-05-08T08:57:57', 'page_number': 1, 'orig_elements': 'eJy9ltuO2zYQhl9FUHvRAqbE82HviqYo9iKbFOv0ZrEQKHHkZVaWBIleZxP03UtJTpCDEyAGbMA382vGIv9vhtTdhxQa2EIbCu/SqyQ1qqTUuhJhRQTinBpkwXJky9rVdSV5xWS6StItBOtssLHmQ1p13eB8awOMc9zY524Xigfwm4cQFcqYiTUHee9deIgqkYJFte98G6a6uztjaCZWCeE84/er5GNMiczEFBOBVUaPCEtFVNLxeQywnXby2r+D5ra3FaT/xQcOAlTBd21RNXYci37oypiGMyqZkDGh9g2E5x7m2tcv03nB7WZnN/Ou7lJoN+n9rI6h2HbO1x5mzyimHGGBsF5jfSVU/E3Vfaws2t22hGHa7bSIAO8mP9I/1uu/btbXr26S9asp9eN71z4083K/xmJVSZQRHAHnDHGHS2Sto0hVXNRQSoHJ+bAQJTIVXRc4I7PrSyyFyNgUa8InTF/HS/5pUDST32Hit5OtvZ3XmuZvRhjG/G03bKDPX3TVbjJtzO34WPS7svFV0e3b3Ho0BjsEGNCjD/l21wQfCdqmeGy7fQMu/uUAYfDwBEM+GZiPdts3ULiuGnPfPnW+gkXKa7/ZDYAIItnbfnPWPvm8N66njR/rDai0AWIM4ix2BI+dgGytCcK1KSVIyqjh5+sNTOZmYJQt8D8JUmZ6FhiXmTkmzCWnDi3F4sJD+wLa9jn5e9favW0/J3Njh8EG/wTrKfMIIScl45RT5LSOmIBSpHVFECtr5mrQNSf6nIR0RlYJl9G2A6FZEIwfkDEqpoH9RlhKTiPENDWXPlYpJck/O4A2uQ3JS2jKbje0kPx7/WfCMMY/xUzHzcezliMDxiFOsETxmAVUY8KYKJ2Q5fmmStIMrxJFzXLNLaGOUNR8LUadfhsv6SfOkxH0wrAIZcltt4X9AwwQga2OEEt+w+z3JGbyREilfwogqQkhVGskTV3GK5NwVCpDEeWkNtoJIVl1vqEjQk1nnNT6cOgdBGVYhmeBK5mxI8JS8kOMl8T0KzOZ/GJ03rRV9GfTDf49uO+5L5Xh2CmMVG2j+1LFT0jDSZwhK7ksiZaEns39+OER8wyJjk/OHkJBlvOPK5bxI/Gcftr4cBUvpAuDuV4+SpKb+elV8guNJxNmmP9gSu7/ByzZesU=', 'file_directory': '/Users/jorgep/Documents/ask_public_own/ai-starter-kit/multimodal_knowledge_retriever/data/sample_docs', 'filename': 'invoicesample.pdf', 'type': 'text'})]}"
      ]
     },
     "execution_count": 28,
     "metadata": {},
     "output_type": "execute_result"
    }
   ],
   "source": [
    "chain.invoke({\"question\": query})"
   ]
  },
  {
   "cell_type": "markdown",
   "metadata": {},
   "source": [
    "### filter image results"
   ]
  },
  {
   "cell_type": "code",
   "execution_count": 29,
   "metadata": {},
   "outputs": [],
   "source": [
    "def get_retrieved_images(retriever, query):\n",
    "    results=retriever.invoke(query)\n",
    "    results = [result for result in results if result.metadata[\"type\"]==\"image\"]\n",
    "    return results"
   ]
  },
  {
   "cell_type": "code",
   "execution_count": 30,
   "metadata": {},
   "outputs": [
    {
     "data": {
      "text/plain": [
       "[Document(page_content=\"The image features a logo for Sunny Farm, a company that specializes in fresh produce. The logo is a gold and yellow color scheme, with a sun in the center, symbolizing the warmth and freshness of the products. The sun is surrounded by trees, which further emphasize the connection to nature and the source of the fresh produce.\\n\\nThe logo is placed on a white background, making it stand out and be easily recognizable. The sun in the logo is positioned at the top left corner, while the trees are located at the bottom right corner. The overall design of the logo is simple yet effective in conveying the company's message.\", metadata={'type': 'image', 'file_directory': '/Users/jorgep/Documents/ask_public_own/ai-starter-kit/multimodal_knowledge_retriever/data/sample_docs/invoicesample', 'filename': 'figure-1-1.jpg'})]"
      ]
     },
     "execution_count": 30,
     "metadata": {},
     "output_type": "execute_result"
    }
   ],
   "source": [
    "retrieved_images = get_retrieved_images(retriever, query)\n",
    "retrieved_images"
   ]
  },
  {
   "cell_type": "markdown",
   "metadata": {},
   "source": [
    "### Generate response over retrieved raw images "
   ]
  },
  {
   "cell_type": "code",
   "execution_count": 31,
   "metadata": {},
   "outputs": [],
   "source": [
    "def get_image_answers(retrieved_image_docs, query):\n",
    "    image_answer_prompt_template = load_prompt(os.path.join(kit_dir,\"prompts\",\"llava-qa.yaml\"))\n",
    "    image_answer_prompt = image_answer_prompt_template.format(question = query)\n",
    "    answers = []\n",
    "    for doc in retrieved_image_docs:\n",
    "        image_path = os.path.join(doc.metadata[\"file_directory\"],doc.metadata[\"filename\"])\n",
    "        answers.append(llava_call(image_answer_prompt, image_path))\n",
    "    return answers"
   ]
  },
  {
   "cell_type": "code",
   "execution_count": 32,
   "metadata": {},
   "outputs": [
    {
     "data": {
      "text/plain": [
       "['The text in the logo says \"Sunny Farm Victoria.\"']"
      ]
     },
     "execution_count": 32,
     "metadata": {},
     "output_type": "execute_result"
    }
   ],
   "source": [
    "image_answers = get_image_answers(retrieved_images, query)\n",
    "image_answers"
   ]
  },
  {
   "cell_type": "code",
   "execution_count": 33,
   "metadata": {},
   "outputs": [],
   "source": [
    "def get_retrieved_docs(retriever, query):\n",
    "    results=retriever.invoke(query)\n",
    "    results = [result for result in results if result.metadata[\"type\"]!=\"image\"]\n",
    "    return results"
   ]
  },
  {
   "cell_type": "code",
   "execution_count": 34,
   "metadata": {},
   "outputs": [
    {
     "data": {
      "text/plain": [
       "[Document(page_content='ATTENTION TO\\n\\nDenny Gunawan\\n\\n221 Queen St Melbourne VIC 3000\\n\\n123 Somewhere St, Melbourne VIC 3000 (03) 1234 5678\\n\\n$39.60\\n\\nInvoice Number: #20130304', metadata={'filetype': 'application/pdf', 'languages': ['eng'], 'last_modified': '2024-05-08T08:57:57', 'page_number': 1, 'orig_elements': 'eJy9ltuO2zYQhl9FUHvRAqbE82HviqYo9iKbFOv0ZrEQKHHkZVaWBIleZxP03UtJTpCDEyAGbMA382vGIv9vhtTdhxQa2EIbCu/SqyQ1qqTUuhJhRQTinBpkwXJky9rVdSV5xWS6StItBOtssLHmQ1p13eB8awOMc9zY524Xigfwm4cQFcqYiTUHee9deIgqkYJFte98G6a6uztjaCZWCeE84/er5GNMiczEFBOBVUaPCEtFVNLxeQywnXby2r+D5ra3FaT/xQcOAlTBd21RNXYci37oypiGMyqZkDGh9g2E5x7m2tcv03nB7WZnN/Ou7lJoN+n9rI6h2HbO1x5mzyimHGGBsF5jfSVU/E3Vfaws2t22hGHa7bSIAO8mP9I/1uu/btbXr26S9asp9eN71z4083K/xmJVSZQRHAHnDHGHS2Sto0hVXNRQSoHJ+bAQJTIVXRc4I7PrSyyFyNgUa8InTF/HS/5pUDST32Hit5OtvZ3XmuZvRhjG/G03bKDPX3TVbjJtzO34WPS7svFV0e3b3Ho0BjsEGNCjD/l21wQfCdqmeGy7fQMu/uUAYfDwBEM+GZiPdts3ULiuGnPfPnW+gkXKa7/ZDYAIItnbfnPWPvm8N66njR/rDai0AWIM4ix2BI+dgGytCcK1KSVIyqjh5+sNTOZmYJQt8D8JUmZ6FhiXmTkmzCWnDi3F4sJD+wLa9jn5e9favW0/J3Njh8EG/wTrKfMIIScl45RT5LSOmIBSpHVFECtr5mrQNSf6nIR0RlYJl9G2A6FZEIwfkDEqpoH9RlhKTiPENDWXPlYpJck/O4A2uQ3JS2jKbje0kPx7/WfCMMY/xUzHzcezliMDxiFOsETxmAVUY8KYKJ2Q5fmmStIMrxJFzXLNLaGOUNR8LUadfhsv6SfOkxH0wrAIZcltt4X9AwwQga2OEEt+w+z3JGbyREilfwogqQkhVGskTV3GK5NwVCpDEeWkNtoJIVl1vqEjQk1nnNT6cOgdBGVYhmeBK5mxI8JS8kOMl8T0KzOZ/GJ03rRV9GfTDf49uO+5L5Xh2CmMVG2j+1LFT0jDSZwhK7ksiZaEns39+OER8wyJjk/OHkJBlvOPK5bxI/Gcftr4cBUvpAuDuV4+SpKb+elV8guNJxNmmP9gSu7/ByzZesU=', 'file_directory': '/Users/jorgep/Documents/ask_public_own/ai-starter-kit/multimodal_knowledge_retriever/data/sample_docs', 'filename': 'invoicesample.pdf', 'type': 'text'})]"
      ]
     },
     "execution_count": 34,
     "metadata": {},
     "output_type": "execute_result"
    }
   ],
   "source": [
    "context_docs = get_retrieved_docs(retriever, query)\n",
    "context_docs"
   ]
  },
  {
   "cell_type": "code",
   "execution_count": 37,
   "metadata": {},
   "outputs": [
    {
     "data": {
      "text/plain": [
       "' Sure, I can help you with that! Based on the provided context, the text in the logo says \"Sunny Farm Victoria.\"'"
      ]
     },
     "execution_count": 37,
     "metadata": {},
     "output_type": "execute_result"
    }
   ],
   "source": [
    "prompt = load_prompt(os.path.join(kit_dir, \"prompts\", \"llama70b-knowledge_retriever_custom_qa_prompt.yaml\"))\n",
    "text_contexts = [doc.page_content for doc in context_docs]\n",
    "full_context = '\\n\\n'.join(image_answers)+'\\n\\n'+'\\n\\n'.join(text_contexts)\n",
    "formated_prompt = prompt.format(context=full_context, question=query)\n",
    "formated_prompt\n",
    "model.invoke(formated_prompt)"
   ]
  }
 ],
 "metadata": {
  "kernelspec": {
   "display_name": "multimodalenv",
   "language": "python",
   "name": "python3"
  },
  "language_info": {
   "codemirror_mode": {
    "name": "ipython",
    "version": 3
   },
   "file_extension": ".py",
   "mimetype": "text/x-python",
   "name": "python",
   "nbconvert_exporter": "python",
   "pygments_lexer": "ipython3",
   "version": "3.11.6"
  }
 },
 "nbformat": 4,
 "nbformat_minor": 2
}
