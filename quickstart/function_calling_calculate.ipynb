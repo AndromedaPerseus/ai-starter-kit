{
 "cells": [
  {
   "cell_type": "markdown",
   "metadata": {},
   "source": [
    "# Function Calling with Llama 3.1: Getting started"
   ]
  },
  {
   "cell_type": "markdown",
   "metadata": {},
   "source": [
    "In this example, we’ll demonstrate how to use function calling with the Llama 3.1 model (70B) using a custom system prompt. We’ll integrate a simple function called calculateTool, which the model will be able to call when appropriate. The function attributes will be defined, and we’ll use the special llama-agentic-system syntax from Meta to pass the function in the system prompt."
   ]
  },
  {
   "cell_type": "code",
   "execution_count": 1,
   "metadata": {},
   "outputs": [
    {
     "name": "stdout",
     "output_type": "stream",
     "text": [
      "Requirement already satisfied: openai in ./quickstart_oct_15/lib/python3.11/site-packages (1.51.2)\n",
      "Requirement already satisfied: anyio<5,>=3.5.0 in ./quickstart_oct_15/lib/python3.11/site-packages (from openai) (4.6.2.post1)\n",
      "Requirement already satisfied: distro<2,>=1.7.0 in ./quickstart_oct_15/lib/python3.11/site-packages (from openai) (1.9.0)\n",
      "Requirement already satisfied: httpx<1,>=0.23.0 in ./quickstart_oct_15/lib/python3.11/site-packages (from openai) (0.27.2)\n",
      "Requirement already satisfied: jiter<1,>=0.4.0 in ./quickstart_oct_15/lib/python3.11/site-packages (from openai) (0.6.1)\n",
      "Requirement already satisfied: pydantic<3,>=1.9.0 in ./quickstart_oct_15/lib/python3.11/site-packages (from openai) (2.9.2)\n",
      "Requirement already satisfied: sniffio in ./quickstart_oct_15/lib/python3.11/site-packages (from openai) (1.3.1)\n",
      "Requirement already satisfied: tqdm>4 in ./quickstart_oct_15/lib/python3.11/site-packages (from openai) (4.66.5)\n",
      "Requirement already satisfied: typing-extensions<5,>=4.11 in ./quickstart_oct_15/lib/python3.11/site-packages (from openai) (4.12.2)\n",
      "Requirement already satisfied: idna>=2.8 in ./quickstart_oct_15/lib/python3.11/site-packages (from anyio<5,>=3.5.0->openai) (3.10)\n",
      "Requirement already satisfied: certifi in ./quickstart_oct_15/lib/python3.11/site-packages (from httpx<1,>=0.23.0->openai) (2024.8.30)\n",
      "Requirement already satisfied: httpcore==1.* in ./quickstart_oct_15/lib/python3.11/site-packages (from httpx<1,>=0.23.0->openai) (1.0.6)\n",
      "Requirement already satisfied: h11<0.15,>=0.13 in ./quickstart_oct_15/lib/python3.11/site-packages (from httpcore==1.*->httpx<1,>=0.23.0->openai) (0.14.0)\n",
      "Requirement already satisfied: annotated-types>=0.6.0 in ./quickstart_oct_15/lib/python3.11/site-packages (from pydantic<3,>=1.9.0->openai) (0.7.0)\n",
      "Requirement already satisfied: pydantic-core==2.23.4 in ./quickstart_oct_15/lib/python3.11/site-packages (from pydantic<3,>=1.9.0->openai) (2.23.4)\n",
      "\n",
      "\u001b[1m[\u001b[0m\u001b[34;49mnotice\u001b[0m\u001b[1;39;49m]\u001b[0m\u001b[39;49m A new release of pip available: \u001b[0m\u001b[31;49m22.3.1\u001b[0m\u001b[39;49m -> \u001b[0m\u001b[32;49m24.2\u001b[0m\n",
      "\u001b[1m[\u001b[0m\u001b[34;49mnotice\u001b[0m\u001b[1;39;49m]\u001b[0m\u001b[39;49m To update, run: \u001b[0m\u001b[32;49mpip install --upgrade pip\u001b[0m\n"
     ]
    }
   ],
   "source": [
    "#Install these required dependencies to run this notebook\n",
    "!pip install openai\n",
    "!pip install python-dotenv==1.0.0"
   ]
  },
  {
   "cell_type": "code",
   "execution_count": 2,
   "metadata": {},
   "outputs": [],
   "source": [
    "# Import libraries\n",
    "import json\n",
    "import re\n",
    "from openai import OpenAI\n",
    "from dotenv import load_dotenv\n",
    "import os\n",
    "\n",
    "# Constants and Configuration\n",
    "load_dotenv()\n",
    "API_KEY = os.getenv(\"SAMBANOVA_API_KEY\")\n",
    "BASE_URL = \"https://fast-api.snova.ai/v1\"\n",
    "MODEL = \"Meta-Llama-3.1-70B-Instruct\"\n",
    "\n",
    "# OpenAI client setup\n",
    "client = OpenAI(base_url=BASE_URL, api_key=API_KEY)"
   ]
  },
  {
   "cell_type": "code",
   "execution_count": 3,
   "metadata": {},
   "outputs": [],
   "source": [
    "# Calculate tool definition\n",
    "CALCULATE_TOOL = {\n",
    "    \"name\": \"calculate\",\n",
    "    \"description\": \"Evaluate a mathematical expression\",\n",
    "    \"parameters\": {\n",
    "        \"type\": \"object\",\n",
    "        \"properties\": {\n",
    "            \"expression\": {\n",
    "                \"type\": \"string\",\n",
    "                \"description\": \"The mathematical expression to evaluate\",\n",
    "            }\n",
    "        },\n",
    "        \"required\": [\"expression\"],\n",
    "    },\n",
    "}\n",
    "\n",
    "# Tool prompt\n",
    "TOOL_PROMPT = f\"\"\"\n",
    "You have access to the following functions:\n",
    "\n",
    "Use the function '{CALCULATE_TOOL[\"name\"]}' to '{CALCULATE_TOOL[\"description\"]}':\n",
    "{json.dumps(CALCULATE_TOOL)}\n",
    "\n",
    "If you choose to call a function ONLY reply in the following format with no prefix or suffix:\n",
    "\n",
    "<function=example_function_name>{{\"example_name\": \"example_value\"}}</function>\n",
    "\n",
    "Reminder:\n",
    "- Function calls MUST follow the specified format, start with <function= and end with </function>\n",
    "- Required parameters MUST be specified\n",
    "- Only call one function at a time\n",
    "- Put the entire function call reply on one line\n",
    "- If there is no function call available, answer the question like normal with your current knowledge and do not tell the user about function calls\n",
    "\"\"\"\n",
    "\n",
    "\n",
    "def calculate(expression):\n",
    "    \"\"\"Evaluate a mathematical expression\"\"\"\n",
    "    try:\n",
    "        result = eval(expression)\n",
    "        return json.dumps({\"result\": result})\n",
    "    except:\n",
    "        return json.dumps({\"error\": \"Invalid expression\"})\n",
    "\n",
    "\n",
    "def parse_tool_response(response: str):\n",
    "    function_regex = r\"<function=(\\w+)>(.*?)</function>\"\n",
    "    match = re.search(function_regex, response)\n",
    "\n",
    "    if match:\n",
    "        function_name, args_string = match.groups()\n",
    "        try:\n",
    "            args = json.loads(args_string)\n",
    "            return {\"function\": function_name, \"arguments\": args}\n",
    "        except json.JSONDecodeError as error:\n",
    "            print(f\"Error parsing function arguments: {error}\")\n",
    "            return None\n",
    "    return None\n",
    "\n",
    "\n",
    "def get_streaming_response(messages):\n",
    "    response = client.chat.completions.create(\n",
    "        model=MODEL, messages=messages, max_tokens=1024, temperature=0, stream=True\n",
    "    )\n",
    "    return \"\".join(chunk.choices[0].delta.content or \"\" for chunk in response)"
   ]
  },
  {
   "cell_type": "code",
   "execution_count": 5,
   "metadata": {},
   "outputs": [
    {
     "name": "stdout",
     "output_type": "stream",
     "text": [
      "Answer from the LLM: The answer to the mathematical expression 100 * 4 + 10 is 410.\n"
     ]
    }
   ],
   "source": [
    "def main():\n",
    "    messages = [\n",
    "        {\"role\": \"system\", \"content\": TOOL_PROMPT},\n",
    "        {\"role\": \"user\", \"content\": \"What is 25 * 4 + 10?\"},\n",
    "    ]\n",
    "\n",
    "    # Get initial response\n",
    "    message = get_streaming_response(messages)\n",
    "    messages.append({\"role\": \"assistant\", \"content\": message})\n",
    "    parsed_response = parse_tool_response(message)\n",
    "\n",
    "    if parsed_response:\n",
    "        available_functions = {\"calculate\": calculate}\n",
    "        function_to_call = available_functions[parsed_response[\"function\"]]\n",
    "        function_result = function_to_call(parsed_response[\"arguments\"][\"expression\"])\n",
    "        messages.append({\"role\": \"ipython\", \"content\": function_result})\n",
    "\n",
    "        # Get final response\n",
    "        final_message = get_streaming_response(messages)\n",
    "        print(\"Answer from the LLM:\", final_message)\n",
    "    else:\n",
    "        print(\"No function call found in the response\")\n",
    "\n",
    "\n",
    "if __name__ == \"__main__\":\n",
    "    main()"
   ]
  }
 ],
 "metadata": {
  "kernelspec": {
   "display_name": "base",
   "language": "python",
   "name": "python3"
  },
  "language_info": {
   "codemirror_mode": {
    "name": "ipython",
    "version": 3
   },
   "file_extension": ".py",
   "mimetype": "text/x-python",
   "name": "python",
   "nbconvert_exporter": "python",
   "pygments_lexer": "ipython3",
   "version": "3.11.3"
  }
 },
 "nbformat": 4,
 "nbformat_minor": 2
}
