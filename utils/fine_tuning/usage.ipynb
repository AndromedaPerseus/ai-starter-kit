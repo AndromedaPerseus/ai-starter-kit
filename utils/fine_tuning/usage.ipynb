{
 "cells": [
  {
   "cell_type": "code",
   "execution_count": 88,
   "metadata": {},
   "outputs": [],
   "source": [
    "import snsdk\n",
    "import os\n",
    "import sys\n",
    "import json\n",
    "\n",
    "current_dir = os.getcwd()\n",
    "utils_dir = os.path.abspath(os.path.join(current_dir, \"..\"))\n",
    "repo_dir = os.path.abspath(os.path.join(utils_dir, \"..\"))\n",
    "\n",
    "sys.path.append(utils_dir)\n",
    "sys.path.append(repo_dir)"
   ]
  },
  {
   "cell_type": "markdown",
   "metadata": {},
   "source": [
    "init snsdk"
   ]
  },
  {
   "cell_type": "code",
   "execution_count": 2,
   "metadata": {},
   "outputs": [],
   "source": [
    "sambastudio = snsdk.SnSdk(\n",
    "    host_url= \"https://sjc3-demo1.sambanova.net/\", \n",
    "    access_key= \"76736e39cd1c446db74ac9737736ebbc09c873fc1f9bf2f06b19f48265da60f4\"\n",
    "    )"
   ]
  },
  {
   "cell_type": "markdown",
   "metadata": {},
   "source": [
    "get tenant"
   ]
  },
  {
   "cell_type": "code",
   "execution_count": 3,
   "metadata": {},
   "outputs": [
    {
     "data": {
      "text/plain": [
       "{'default': '41ceaded-9f08-47ae-aa02-15f39c899618'}"
      ]
     },
     "execution_count": 3,
     "metadata": {},
     "output_type": "execute_result"
    }
   ],
   "source": [
    "{tenant.get(\"tenant_name\"): tenant.get(\"tenant_id\") for tenant in sambastudio.list_tenants().get(\"data\")}"
   ]
  },
  {
   "cell_type": "markdown",
   "metadata": {},
   "source": [
    "init snsdk with tenant"
   ]
  },
  {
   "cell_type": "code",
   "execution_count": 6,
   "metadata": {},
   "outputs": [],
   "source": [
    "sambastudio = snsdk.SnSdk(\n",
    "    host_url= \"https://sjc3-demo1.sambanova.net/\", \n",
    "    access_key= \"76736e39cd1c446db74ac9737736ebbc09c873fc1f9bf2f06b19f48265da60f4\",\n",
    "    tenant_id= \"41ceaded-9f08-47ae-aa02-15f39c899618\"\n",
    "    )"
   ]
  },
  {
   "cell_type": "markdown",
   "metadata": {},
   "source": [
    "get avaliable apps"
   ]
  },
  {
   "cell_type": "code",
   "execution_count": 7,
   "metadata": {},
   "outputs": [
    {
     "data": {
      "text/plain": [
       "{'Text Embedding': '89fbfbe6-ee77-4f5c-9ff6-56e2ab69f6ee',\n",
       " 'Speech Recognition': 'ecf84906-0924-4ce1-a1a2-c008f5334820',\n",
       " 'Speaker Diarization': 'cbba6d31-104a-4295-ac21-7e91da09ab9b',\n",
       " 'Sentence Detection': 'f67c5390-da52-4105-ae17-12434fa7d03b',\n",
       " 'Reranking': 'f25c8247-f73a-4dd9-9871-d5c10675239c',\n",
       " 'Named Entity Recognition': 'c27a105f-d0be-4bef-b2a4-4d6bf747ebdc',\n",
       " 'Mistral': 'ab46c162-ff57-4700-beae-3ded6065ee7a',\n",
       " 'Llava v1.5': 'f7b8323f-764a-48fc-916f-bf87d08de0c2',\n",
       " 'Llama 3': 'ad39e323-9878-4914-8e29-82c9f2939475',\n",
       " 'Llama 2 with dynamic batching': '2a633d60-ed93-47e8-b2d4-3a5aa345e320',\n",
       " 'Llama 2 7B': 'ec012370-6ffa-4a3a-b230-2c62613f1d89',\n",
       " 'Llama 2 70B with dynamic batching': '0b5871de-f335-43c6-a718-1300c1ef02b8',\n",
       " 'Llama 2 70B': '82254d3b-7239-458b-9da8-da1aca9b7fba',\n",
       " 'Llama 2 13B': '1bf617cb-8afb-4bbd-b92f-c15ebfdca10b',\n",
       " 'Generative Tuning 1.5B': 'e681c226-86be-40b2-9380-d2de11b19842',\n",
       " 'Generative Tuning 13B': '57f6a3c8-1f04-488a-bb39-3cfc5b4a5d7a',\n",
       " 'Falcon 40B': 'a56e0c49-49ea-41a9-ba5a-7b0ed83ec1de',\n",
       " 'E5 Mistral Embedding': '0519e6f3-d8d8-4975-9486-fd83eb2d2970',\n",
       " 'Dialog Act Classification': '0498c73a-5c03-456a-a645-3820728cfcae',\n",
       " 'DePlot': '40f16b58-72a9-404f-a7c3-afc0d27a2343',\n",
       " 'DeepSeek Coder': '8c8525f6-2cbf-4e7f-b751-0afce9631445',\n",
       " 'Deepseek 6.7B single socket': '2eeb4b7f-bc56-48c4-8814-ef9d1e8806b8',\n",
       " 'Databox': '199e9684-785c-4df0-8dc3-49e808d8eba5',\n",
       " 'CLIP': '6c14325a-1be7-4e48-b38f-19b33745fc3b'}"
      ]
     },
     "execution_count": 7,
     "metadata": {},
     "output_type": "execute_result"
    }
   ],
   "source": [
    "available_apps = {app.get(\"name\"): app.get(\"id\") for app in sambastudio.list_apps().get(\"apps\")}\n",
    "available_apps"
   ]
  },
  {
   "cell_type": "code",
   "execution_count": 8,
   "metadata": {},
   "outputs": [],
   "source": [
    "apps = ['Mistral','Llama 3','Llama 2 with dynamic batching','Llama 2 7B','Llama 2 70B with dynamic batching','Llama 2 70B','Llama 2 13B']\n",
    "apps_ids = [available_apps[app] for app in apps] \n"
   ]
  },
  {
   "cell_type": "markdown",
   "metadata": {},
   "source": [
    "add dataset"
   ]
  },
  {
   "cell_type": "code",
   "execution_count": 16,
   "metadata": {},
   "outputs": [],
   "source": [
    "dataset = sambastudio.add_dataset(dataset_name=\"test_snsdk\",\n",
    "                        description=\"test_dataset_from_nb\", \n",
    "                        apps=apps_ids, \n",
    "                        dataset_metadata=None, \n",
    "                        job_type=[\"evaluation\",\"train\"],\n",
    "                        source=None,\n",
    "                        url=None,\n",
    "                        language=\"english\",\n",
    "                        file_type=\"hdf5\"\n",
    "                        )"
   ]
  },
  {
   "cell_type": "code",
   "execution_count": 17,
   "metadata": {},
   "outputs": [
    {
     "data": {
      "text/plain": [
       "{'code': 3,\n",
       " 'message': 'proto:\\xa0syntax error (line 1:147): unexpected token [',\n",
       " 'details': [],\n",
       " 'status_code': 400}"
      ]
     },
     "execution_count": 17,
     "metadata": {},
     "output_type": "execute_result"
    }
   ],
   "source": [
    "dataset"
   ]
  },
  {
   "cell_type": "code",
   "execution_count": 60,
   "metadata": {},
   "outputs": [
    {
     "data": {
      "text/plain": [
       "{'Caltech_256_Clip': '1ea54b9c-f1f6-49d4-91f6-e230eec7c259',\n",
       " 'Coding_Generative_Inference_Dataset': '7198371d-0f70-4287-8645-8e3807782d30',\n",
       " 'Coding_Generative_Train_4k_SS_Dataset': '0e277df5-0b7e-45a7-874e-c5b10364c0fe',\n",
       " 'FiQA': '69d0d494-bc0a-4e1c-8dd3-84b1f55b0098',\n",
       " 'Generative_Inference_Dataset': '17be1fa1-2ed2-4503-9ccc-99be2c905010',\n",
       " 'GPT_13B_8k_SS_Toy_Training_Dataset': '9bac6a44-92b2-40ac-9a4d-ba72038ac27b',\n",
       " 'GPT_13B_Inference_Dataset': '6090aaa0-85ef-469f-ad2d-7bf1a5f47f1f',\n",
       " 'GPT_13B_Training_Dataset': '894dd158-9552-11ed-a1eb-0242ac120002',\n",
       " 'GPT_1.5B_Inference_Dataset': 'f66434c5-4944-48a8-81c9-6eb7fca7e4b9',\n",
       " 'GPT_1.5B_Training_Dataset': 'd8e19905-bd36-4469-b13b-51da48b62e75',\n",
       " 'Librispeech': 'f0971f8b-bcc3-401f-b107-47c67a2f846e',\n",
       " 'Mistral_Tokenized_Copa': '3cb49e90-d544-4f2d-945a-5b34ae64cc67',\n",
       " 'openthaigpt_50k_IT0913': '8f30e146-5871-4cf4-85cf-7d96bf5255ac',\n",
       " 'openwebtext_ss4096_32k_vocab': 'b9dda5a7-c0d3-4d34-aa84-6b893c0abf5c',\n",
       " 'Restore_Punctuation_Data': '327cbf89-9003-4b5b-a524-68e69dc2ad2f',\n",
       " 'Speaker_Diarization': '4607b18f-afcc-4d44-8403-14a5ca5f1abe',\n",
       " 'Super_Glue_4k_SS': 'b53ff7b7-bf63-4dbd-919e-33b36b2ba11f',\n",
       " 'Super_Glue_16k_SS': '8563e297-3572-4983-811f-6ca39d675e5a',\n",
       " 'E5_Large_V2_Inference_Example': '6df71c1a-12bd-4a28-8320-a3768304cc54',\n",
       " 'thai-dpo-sft-ss4k': '5ec01dbd-821c-445d-b1e7-0aefd0d0cedc',\n",
       " 'Super_Glue_8k_SS_128k_vocab': 'd6239b19-4a07-48dc-81f1-16fbf062f35f',\n",
       " 'nstext2sql_sql_fine_tuning': '60945b54-2402-4f81-b274-08704e928d83',\n",
       " 'smol_sql_pretraining': '067dbb19-0749-4fb1-b79d-c613ac45dc8d',\n",
       " 'nstext2sql_sql_fine_tuning_mm': '67158817-cb09-4532-a4e2-eb170a8b1b69',\n",
       " 'smol_sql_pretraining_mm': 'd80f6355-af9d-406b-95c5-c31854f36f2c'}"
      ]
     },
     "execution_count": 60,
     "metadata": {},
     "output_type": "execute_result"
    }
   ],
   "source": [
    "{dataset.get(\"dataset_name\"):dataset.get(\"id\") for dataset in sambastudio.list_datasets().get(\"datasets\")}"
   ]
  },
  {
   "cell_type": "markdown",
   "metadata": {},
   "source": [
    "create folder upload"
   ]
  },
  {
   "cell_type": "code",
   "execution_count": 25,
   "metadata": {},
   "outputs": [],
   "source": [
    "def list_files(folder_path):\n",
    "    subfiles = []\n",
    "    for dirpath, _, filenames in os.walk(folder_path):\n",
    "        for filename in filenames:\n",
    "            full_path = os.path.join(dirpath, filename)\n",
    "            subfiles.append(full_path)\n",
    "    return subfiles"
   ]
  },
  {
   "cell_type": "code",
   "execution_count": 27,
   "metadata": {},
   "outputs": [],
   "source": [
    "folder_dataset_path = os.path.join(repo_dir, \"fine_tuning_sql\", \"data\" , \"output\", \"pretrain-squad-smol-sql\")\n",
    "dataset_file_list=list_files(folder_dataset_path)"
   ]
  },
  {
   "cell_type": "code",
   "execution_count": 59,
   "metadata": {},
   "outputs": [
    {
     "ename": "TypeError",
     "evalue": "SnSdk.create_folder_upload() missing 2 required positional arguments: 'dataset_id' and 'file_list'",
     "output_type": "error",
     "traceback": [
      "\u001b[0;31m---------------------------------------------------------------------------\u001b[0m",
      "\u001b[0;31mTypeError\u001b[0m                                 Traceback (most recent call last)",
      "Cell \u001b[0;32mIn[59], line 1\u001b[0m\n\u001b[0;32m----> 1\u001b[0m \u001b[43msambastudio\u001b[49m\u001b[38;5;241;43m.\u001b[39;49m\u001b[43mcreate_folder_upload\u001b[49m\u001b[43m(\u001b[49m\u001b[43m)\u001b[49m\n",
      "\u001b[0;31mTypeError\u001b[0m: SnSdk.create_folder_upload() missing 2 required positional arguments: 'dataset_id' and 'file_list'"
     ]
    }
   ],
   "source": [
    "sambastudio.create_folder_upload(\n",
    "    dataset_id=dataset[\"id\"],\n",
    "    file_list=dataset_file_list\n",
    ")"
   ]
  },
  {
   "cell_type": "markdown",
   "metadata": {},
   "source": [
    "create_multipart_file_upload? upload part file?"
   ]
  },
  {
   "cell_type": "markdown",
   "metadata": {},
   "source": [
    "create project"
   ]
  },
  {
   "cell_type": "code",
   "execution_count": 53,
   "metadata": {},
   "outputs": [
    {
     "data": {
      "text/plain": [
       "{'count': 6,\n",
       " 'items': [],\n",
       " 'page': 1,\n",
       " 'limit': -1,\n",
       " 'data': {'projects': [{'project_name': 'Benchmarking_Llama7b',\n",
       "    'project_id': '8d752994-bfd1-4eee-98a8-9ca0d50b8b37',\n",
       "    'description': '',\n",
       "    'status': 'Available',\n",
       "    'user_id': 'amit.kushwaha',\n",
       "    'time_created': '2024-05-16T21:07:14.433545+00:00',\n",
       "    'time_updated': '2024-05-16T21:07:14.433551+00:00',\n",
       "    'jobs': [],\n",
       "    'endpoints': ['llama-2-7b-chat'],\n",
       "    'job_ids': [],\n",
       "    'job_count': 0,\n",
       "    'endpoint_count': 1},\n",
       "   {'project_name': 'Shared',\n",
       "    'project_id': 'b9896d2e-5054-4937-978f-67413104d6ba',\n",
       "    'description': 'Endpoints to share with team',\n",
       "    'status': 'Available',\n",
       "    'user_id': 'varun.krishna',\n",
       "    'time_created': '2024-06-12T17:11:11.221376+00:00',\n",
       "    'time_updated': '2024-06-12T17:11:11.221384+00:00',\n",
       "    'jobs': [],\n",
       "    'endpoints': ['e5-large-v2-bs32'],\n",
       "    'job_ids': [],\n",
       "    'job_count': 0,\n",
       "    'endpoint_count': 1},\n",
       "   {'project_name': 'SNSDK-E2E-Finetuning_Embeddings-Project',\n",
       "    'project_id': 'e2d0c5dc-894e-461a-9730-a814904db9f7',\n",
       "    'description': 'This project will be used to test the Finetuning Embeddings e2e pipeline implementation.',\n",
       "    'status': 'Available',\n",
       "    'user_id': 'rodrigo.maldonado',\n",
       "    'time_created': '2024-07-10T22:33:56.614234+00:00',\n",
       "    'time_updated': '2024-07-10T22:33:56.614239+00:00',\n",
       "    'jobs': [],\n",
       "    'endpoints': [],\n",
       "    'job_ids': [],\n",
       "    'job_count': 0,\n",
       "    'endpoint_count': 0},\n",
       "   {'project_name': 'snsdk_test_project',\n",
       "    'project_id': '78f670e3-6fce-4923-9e7f-390c8dc34be5',\n",
       "    'description': 'snsdk_test_project',\n",
       "    'status': 'Available',\n",
       "    'user_id': 'jorge.piedrahita',\n",
       "    'time_created': '2024-07-15T15:22:22.108261+00:00',\n",
       "    'time_updated': '2024-07-15T15:22:22.108270+00:00',\n",
       "    'jobs': [],\n",
       "    'endpoints': [],\n",
       "    'job_ids': [],\n",
       "    'job_count': 0,\n",
       "    'endpoint_count': 0},\n",
       "   {'project_name': 'sql_finetuning',\n",
       "    'project_id': '302411f2-a7f7-42b3-a056-13f99330d3f9',\n",
       "    'description': 'sql_finetuning_aisk',\n",
       "    'status': 'Available',\n",
       "    'user_id': 'jorge.piedrahita',\n",
       "    'time_created': '2024-07-08T21:31:24.357847+00:00',\n",
       "    'time_updated': '2024-07-08T21:31:24.340775+00:00',\n",
       "    'jobs': ['llama2_finetune_sql_smol_dataset',\n",
       "     'llama2_fine_tuning_nstext2sql'],\n",
       "    'endpoints': [],\n",
       "    'job_ids': ['e53827b4-835b-4227-ab56-b9672a554753',\n",
       "     'f00108a2-d35c-4d59-b7a9-f82b4d0c0ede'],\n",
       "    'job_count': 2,\n",
       "    'endpoint_count': 0},\n",
       "   {'project_name': 'Test_Finetune_Embeddings',\n",
       "    'project_id': '6f1d50bc-cd1b-4574-b901-70fe929f5aa4',\n",
       "    'description': '',\n",
       "    'status': 'Available',\n",
       "    'user_id': 'francesca.raimondi',\n",
       "    'time_created': '2024-06-04T10:15:42.664099+00:00',\n",
       "    'time_updated': '2024-06-04T10:15:42.664107+00:00',\n",
       "    'jobs': [],\n",
       "    'endpoints': [],\n",
       "    'job_ids': [],\n",
       "    'job_count': 0,\n",
       "    'endpoint_count': 0}]},\n",
       " 'status_code': 200}"
      ]
     },
     "execution_count": 53,
     "metadata": {},
     "output_type": "execute_result"
    }
   ],
   "source": [
    "sambastudio.list_projects()"
   ]
  },
  {
   "cell_type": "code",
   "execution_count": 80,
   "metadata": {},
   "outputs": [],
   "source": [
    "project_name = \"snsdk_test_project\""
   ]
  },
  {
   "cell_type": "code",
   "execution_count": 81,
   "metadata": {},
   "outputs": [
    {
     "data": {
      "text/plain": [
       "{'data': {'project_id': '78f670e3-6fce-4923-9e7f-390c8dc34be5'},\n",
       " 'status_code': 200}"
      ]
     },
     "execution_count": 81,
     "metadata": {},
     "output_type": "execute_result"
    }
   ],
   "source": [
    "search_project_response = sambastudio.search_project(project_name=project_name)\n",
    "search_project_response"
   ]
  },
  {
   "cell_type": "code",
   "execution_count": 82,
   "metadata": {},
   "outputs": [],
   "source": [
    "if search_project_response['status_code'] != 200:\n",
    "    project = sambastudio.create_project(    \n",
    "        project_name=\"snsdk_test_project\",\n",
    "        description=\"snsdk_test_project\"\n",
    "        )\n",
    "else:\n",
    "    project = search_project_response"
   ]
  },
  {
   "cell_type": "code",
   "execution_count": 83,
   "metadata": {},
   "outputs": [
    {
     "data": {
      "text/plain": [
       "{'data': {'project_id': '78f670e3-6fce-4923-9e7f-390c8dc34be5'},\n",
       " 'status_code': 200}"
      ]
     },
     "execution_count": 83,
     "metadata": {},
     "output_type": "execute_result"
    }
   ],
   "source": [
    "project"
   ]
  },
  {
   "cell_type": "code",
   "execution_count": 32,
   "metadata": {},
   "outputs": [
    {
     "data": {
      "text/plain": [
       "'78f670e3-6fce-4923-9e7f-390c8dc34be5'"
      ]
     },
     "execution_count": 32,
     "metadata": {},
     "output_type": "execute_result"
    }
   ],
   "source": [
    "project_id=project.get(\"data\").get(\"project_id\")\n",
    "project_id"
   ]
  },
  {
   "cell_type": "code",
   "execution_count": 33,
   "metadata": {},
   "outputs": [
    {
     "data": {
      "text/plain": [
       "{'count': 6,\n",
       " 'items': [],\n",
       " 'page': 1,\n",
       " 'limit': -1,\n",
       " 'data': {'projects': [{'project_name': 'Benchmarking_Llama7b',\n",
       "    'project_id': '8d752994-bfd1-4eee-98a8-9ca0d50b8b37',\n",
       "    'description': '',\n",
       "    'status': 'Available',\n",
       "    'user_id': 'amit.kushwaha',\n",
       "    'time_created': '2024-05-16T21:07:14.433545+00:00',\n",
       "    'time_updated': '2024-05-16T21:07:14.433551+00:00',\n",
       "    'jobs': [],\n",
       "    'endpoints': ['llama-2-7b-chat'],\n",
       "    'job_ids': [],\n",
       "    'job_count': 0,\n",
       "    'endpoint_count': 1},\n",
       "   {'project_name': 'Shared',\n",
       "    'project_id': 'b9896d2e-5054-4937-978f-67413104d6ba',\n",
       "    'description': 'Endpoints to share with team',\n",
       "    'status': 'Available',\n",
       "    'user_id': 'varun.krishna',\n",
       "    'time_created': '2024-06-12T17:11:11.221376+00:00',\n",
       "    'time_updated': '2024-06-12T17:11:11.221384+00:00',\n",
       "    'jobs': [],\n",
       "    'endpoints': ['e5-large-v2-bs32'],\n",
       "    'job_ids': [],\n",
       "    'job_count': 0,\n",
       "    'endpoint_count': 1},\n",
       "   {'project_name': 'SNSDK-E2E-Finetuning_Embeddings-Project',\n",
       "    'project_id': 'e2d0c5dc-894e-461a-9730-a814904db9f7',\n",
       "    'description': 'This project will be used to test the Finetuning Embeddings e2e pipeline implementation.',\n",
       "    'status': 'Available',\n",
       "    'user_id': 'rodrigo.maldonado',\n",
       "    'time_created': '2024-07-10T22:33:56.614234+00:00',\n",
       "    'time_updated': '2024-07-10T22:33:56.614239+00:00',\n",
       "    'jobs': [],\n",
       "    'endpoints': [],\n",
       "    'job_ids': [],\n",
       "    'job_count': 0,\n",
       "    'endpoint_count': 0},\n",
       "   {'project_name': 'snsdk_test_project',\n",
       "    'project_id': '78f670e3-6fce-4923-9e7f-390c8dc34be5',\n",
       "    'description': 'snsdk_test_project',\n",
       "    'status': 'Available',\n",
       "    'user_id': 'jorge.piedrahita',\n",
       "    'time_created': '2024-07-15T15:22:22.108261+00:00',\n",
       "    'time_updated': '2024-07-15T15:22:22.108270+00:00',\n",
       "    'jobs': [],\n",
       "    'endpoints': [],\n",
       "    'job_ids': [],\n",
       "    'job_count': 0,\n",
       "    'endpoint_count': 0},\n",
       "   {'project_name': 'sql_finetuning',\n",
       "    'project_id': '302411f2-a7f7-42b3-a056-13f99330d3f9',\n",
       "    'description': 'sql_finetuning_aisk',\n",
       "    'status': 'Available',\n",
       "    'user_id': 'jorge.piedrahita',\n",
       "    'time_created': '2024-07-08T21:31:24.357847+00:00',\n",
       "    'time_updated': '2024-07-08T21:31:24.340775+00:00',\n",
       "    'jobs': ['llama2_finetune_sql_smol_dataset',\n",
       "     'llama2_fine_tuning_nstext2sql'],\n",
       "    'endpoints': [],\n",
       "    'job_ids': ['e53827b4-835b-4227-ab56-b9672a554753',\n",
       "     'f00108a2-d35c-4d59-b7a9-f82b4d0c0ede'],\n",
       "    'job_count': 2,\n",
       "    'endpoint_count': 0},\n",
       "   {'project_name': 'Test_Finetune_Embeddings',\n",
       "    'project_id': '6f1d50bc-cd1b-4574-b901-70fe929f5aa4',\n",
       "    'description': '',\n",
       "    'status': 'Available',\n",
       "    'user_id': 'francesca.raimondi',\n",
       "    'time_created': '2024-06-04T10:15:42.664099+00:00',\n",
       "    'time_updated': '2024-06-04T10:15:42.664107+00:00',\n",
       "    'jobs': [],\n",
       "    'endpoints': [],\n",
       "    'job_ids': [],\n",
       "    'job_count': 0,\n",
       "    'endpoint_count': 0}]},\n",
       " 'status_code': 200}"
      ]
     },
     "execution_count": 33,
     "metadata": {},
     "output_type": "execute_result"
    }
   ],
   "source": [
    "sambastudio.list_projects()"
   ]
  },
  {
   "cell_type": "markdown",
   "metadata": {},
   "source": [
    "list jobs"
   ]
  },
  {
   "cell_type": "code",
   "execution_count": 34,
   "metadata": {},
   "outputs": [
    {
     "data": {
      "text/plain": [
       "{'jobs': [], 'count': 0, 'status_code': 200}"
      ]
     },
     "execution_count": 34,
     "metadata": {},
     "output_type": "execute_result"
    }
   ],
   "source": [
    "sambastudio.list_jobs(project_id=project_id)"
   ]
  },
  {
   "cell_type": "markdown",
   "metadata": {},
   "source": [
    "list_models"
   ]
  },
  {
   "cell_type": "code",
   "execution_count": 205,
   "metadata": {},
   "outputs": [
    {
     "data": {
      "text/plain": [
       "{'CLIP ViT-B-32 Backbone (Deprecated)': '47ee0428-f9f8-6d8c-d02e-1ac778b83eb9',\n",
       " 'GPT_1.5B_Dialog_Act_Classification_Finetuned': '35dfd99d-888b-4331-b78a-ea5c744224ad',\n",
       " 'GPT_13B_Human_Aligned_Instruction_Tuned_V2': 'cb800e99-809b-42d2-a6e2-11b3707ef433',\n",
       " 'GPT_13B_Generative_Inference': '0d3a9c87-99e8-4d22-af39-05ab91b84238',\n",
       " 'GPT13B 2k SS HAv3': 'c7be342b-208b-4393-b5c2-496aa54eb917',\n",
       " 'GPT13B 2k SS ITv3': '3cac564a-e822-46fb-a128-1ab34a9d93ed',\n",
       " 'GPT_1.5B_GT_Finetuned': '673ea90a-3d25-43ed-9965-55c393e91ddc',\n",
       " 'GPT13B 8k SS HAv3': '877fa680-b45f-4fff-a57a-0a3fcd2d0fd7',\n",
       " 'GPT13B 8k SS ITv3': 'c60a7f67-d9b2-46fd-9c9b-d3f02fb2b6e0',\n",
       " 'GPT 13B 8k SS SN Pretrained': '67461a4d-0140-4239-8584-772bb6998e2e',\n",
       " 'GPT_13B_Instruction_Tuned_V2': 'a306fe34-f7ad-4c92-b51d-04bf772dcf44',\n",
       " 'GPT_13B_Dialog_Summarization_Finetuned': '157ce015-19cc-4538-addf-10cf620a33f6',\n",
       " 'GPT_1.5B_GT_Pretrained': '08902fc2-b11d-42f9-9d39-2d5832c17e09',\n",
       " 'Llama-2-13b-chat-hf': 'ea03da97-7162-47c3-942b-0b13687e16b5',\n",
       " 'Llama-2-13b-hf': 'e35bd321-209a-4112-bd4f-8415c20de6de',\n",
       " 'Llama-2-7b-hf': '8dd301fa-b79b-40a7-b795-1f356be17fe3',\n",
       " 'Llama-2-7b-16k-hf': 'efbdff4b-0db7-46de-a5d2-2d21cf7ef833',\n",
       " 'Llama-2-7b-chat-16k-hf': 'be1ff942-1771-4c3f-b282-ec934e6d6345',\n",
       " 'LlamaGuard_7b': '3f2da53d-703c-462e-b232-770b2dda466e',\n",
       " 'NSQL-Llama-2-7B': '135ea78e-8c21-4693-9f89-f04cab6544c9',\n",
       " 'GPT_1.5B_NER_Finetuned': 'db9ef7f0-a382-11ed-a8fc-0242ac120002',\n",
       " 'Llama-2-7b-chat-80k-hf': '4ed0fef5-63cf-443a-8f9d-6c0437ee803b',\n",
       " 'Hubert_ASR': '47c0113c-4b20-4adf-bde3-be585be8b723',\n",
       " 'CLIP-ViT-B-32-laion2B-s34B-b79k': '39300da3-7f6a-4f7d-a365-67b4e32b6573',\n",
       " 'llama2_7b_fine_tuned_nstext2sql': 'c828d8d6-bbc6-4315-8573-014a183ffa58',\n",
       " 'Llama-2-7b-chat-hf': '6090d4ac-a7bd-4c46-b417-7f8e42cf7bdb',\n",
       " 'Llama-2-7b-80k-hf': '5ec326b1-be32-4fce-b335-74097eb3409c',\n",
       " 'Llama-2-7b-sambalingo-thai-base-hf': 'eaf458c5-25d2-4b16-9b94-75d8801f6d8c'}"
      ]
     },
     "execution_count": 205,
     "metadata": {},
     "output_type": "execute_result"
    }
   ],
   "source": [
    "models=sambastudio.list_models()\n",
    "model_list = {model.get(\"model_checkpoint_name\"):model.get(\"model_id\") for model in models.get(\"models\") if (\"train\" in model.get(\"jobTypes\") and \"deploy\" in model.get(\"jobTypes\"))}\n",
    "model_list"
   ]
  },
  {
   "cell_type": "markdown",
   "metadata": {},
   "source": [
    "create training job"
   ]
  },
  {
   "cell_type": "code",
   "execution_count": 203,
   "metadata": {},
   "outputs": [],
   "source": [
    "## hardcoded dataset id\n",
    "hc_dataset_id = \"d80f6355-af9d-406b-95c5-c31854f36f2c\"\n",
    "hc_project_id= \"302411f2-a7f7-42b3-a056-13f99330d3f9\""
   ]
  },
  {
   "cell_type": "code",
   "execution_count": 206,
   "metadata": {},
   "outputs": [],
   "source": [
    "job=sambastudio.create_job(\n",
    "    job_type=\"train\",\n",
    "    project=hc_project_id,\n",
    "    model_checkpoint=model_list['Llama-2-7b-chat-hf'],\n",
    "    job_name= \"snsdk_test_job\",\n",
    "    description=\"snsdk test training project\",\n",
    "    dataset= hc_dataset_id,\n",
    "    parallel_instances=4,\n",
    "    load_state = False,\n",
    "    sub_path = \"\",\n",
    "    rdu_arch = \"sn10\",\n",
    "    hyperparams=json.dumps({\n",
    "        #\"batch_size\": 256, # not appearing in the UI\n",
    "        \"do_eval\": False,\n",
    "        \"eval_steps\": 50,\n",
    "        \"evaluation_strategy\": \"no\",\n",
    "        \"learning_rate\": 0.00001,\n",
    "        \"logging_steps\": 1,\n",
    "        \"lr_schedule\": \"fixed_lr\",\n",
    "        \"max_sequence_length\": 4096,\n",
    "        \"num_iterations\": 100,\n",
    "        \"prompt_loss_weight\":0.0,\n",
    "        \"save_optimizer_state\": True,\n",
    "        \"save_steps\": 50,\n",
    "        \"skip_checkpoint\":False,\n",
    "        \"subsample_eval\": 0.01,\n",
    "        \"subsample_eval_seed\": 123,\n",
    "        \"use_token_type_ids\": True,\n",
    "        \"vocab_size\": 32000,\n",
    "        \"warmup_steps\": 0,\n",
    "        \"weight_decay\": 0.1,  \n",
    "    })\n",
    ")"
   ]
  },
  {
   "cell_type": "code",
   "execution_count": 207,
   "metadata": {},
   "outputs": [
    {
     "data": {
      "text/plain": [
       "{'code': 13,\n",
       " 'message': 'Failed to create the job',\n",
       " 'details': [{'@type': 'type.googleapis.com/daas.v2.SSError',\n",
       "   'reason': '',\n",
       "   'message': 'no valid images found for the model with mode train and arch sn10',\n",
       "   'helpLink': ''}],\n",
       " 'status_code': 500}"
      ]
     },
     "execution_count": 207,
     "metadata": {},
     "output_type": "execute_result"
    }
   ],
   "source": [
    "job"
   ]
  },
  {
   "cell_type": "markdown",
   "metadata": {},
   "source": [
    "list job"
   ]
  },
  {
   "cell_type": "code",
   "execution_count": 120,
   "metadata": {},
   "outputs": [
    {
     "data": {
      "text/plain": [
       "{'llama2_finetune_sql_smol_dataset': 'e53827b4-835b-4227-ab56-b9672a554753',\n",
       " 'llama2_fine_tuning_nstext2sql': 'f00108a2-d35c-4d59-b7a9-f82b4d0c0ede'}"
      ]
     },
     "execution_count": 120,
     "metadata": {},
     "output_type": "execute_result"
    }
   ],
   "source": [
    "{job.get(\"job_name\"):job.get(\"job_id\") for job in sambastudio.list_jobs().get(\"jobs\")}"
   ]
  },
  {
   "cell_type": "code",
   "execution_count": 125,
   "metadata": {},
   "outputs": [],
   "source": [
    "hc_job_id = \"e53827b4-835b-4227-ab56-b9672a55475\""
   ]
  },
  {
   "cell_type": "markdown",
   "metadata": {},
   "source": [
    "monitor job progress"
   ]
  },
  {
   "cell_type": "code",
   "execution_count": 126,
   "metadata": {},
   "outputs": [
    {
     "data": {
      "text/plain": [
       "{'detail': 'view job action not authorized for the user', 'status_code': 403}"
      ]
     },
     "execution_count": 126,
     "metadata": {},
     "output_type": "execute_result"
    }
   ],
   "source": [
    "sambastudio.job_info(project = hc_project_id,\n",
    "                    job=hc_job_id)"
   ]
  },
  {
   "cell_type": "markdown",
   "metadata": {},
   "source": [
    "get model checkpoint from jobs"
   ]
  },
  {
   "cell_type": "code",
   "execution_count": 127,
   "metadata": {},
   "outputs": [
    {
     "data": {
      "text/plain": [
       "{'detail': 'view checkpoints action not authorized for the user',\n",
       " 'status_code': 403}"
      ]
     },
     "execution_count": 127,
     "metadata": {},
     "output_type": "execute_result"
    }
   ],
   "source": [
    "sambastudio.list_checkpoints(project = hc_project_id,\n",
    "                             job=hc_job_id)"
   ]
  },
  {
   "cell_type": "markdown",
   "metadata": {},
   "source": [
    "Save checkpoint in hub"
   ]
  },
  {
   "cell_type": "code",
   "execution_count": 128,
   "metadata": {},
   "outputs": [],
   "source": [
    "hc_model_checkpoint=\"f00108a2-d35c-4d59-b7a9-f82b4d0c0ede-10000\""
   ]
  },
  {
   "cell_type": "code",
   "execution_count": 129,
   "metadata": {},
   "outputs": [],
   "source": [
    "finetuned_model=sambastudio.add_model(\n",
    "    project = hc_project_id,\n",
    "    job = hc_job_id,\n",
    "    model_checkpoint=hc_model_checkpoint,\n",
    "    model_checkpoint_name=\"llama2_7b_fine_tuned_nstext2sql\",\n",
    "    description=\"finetuned llama2_7b model for nstext2sql\",\n",
    "    checkpoint_type=\"finetuned\"\n",
    ")"
   ]
  },
  {
   "cell_type": "code",
   "execution_count": 130,
   "metadata": {},
   "outputs": [
    {
     "data": {
      "text/plain": [
       "{'detail': 'checkpoint promote action is not authorized for the user',\n",
       " 'status_code': 403}"
      ]
     },
     "execution_count": 130,
     "metadata": {},
     "output_type": "execute_result"
    }
   ],
   "source": [
    "finetuned_model"
   ]
  },
  {
   "cell_type": "markdown",
   "metadata": {},
   "source": [
    "deploy endpoint"
   ]
  },
  {
   "cell_type": "code",
   "execution_count": 193,
   "metadata": {},
   "outputs": [],
   "source": [
    " #'llama2_7b_fine_tuned_nstext2sql': 'c828d8d6-bbc6-4315-8573-014a183ffa58',\n",
    "hc_finetuned_model_id = 'c828d8d6-bbc6-4315-8573-014a183ffa58'"
   ]
  },
  {
   "cell_type": "code",
   "execution_count": 196,
   "metadata": {},
   "outputs": [],
   "source": [
    "deployed_ft_model=sambastudio.create_endpoint(\n",
    "    project=hc_project_id,\n",
    "    endpoint_name=\"test-endpoint-sql\",\n",
    "    description=\"endpoint of finetuned sql model llama2 7b\",\n",
    "    model_checkpoint=hc_finetuned_model_id,\n",
    "    instances=1,\n",
    "    rdu_arch = \"sn10\",\n",
    "    hyperparams = json.dumps({})\n",
    ")   "
   ]
  },
  {
   "cell_type": "code",
   "execution_count": 199,
   "metadata": {},
   "outputs": [],
   "source": [
    "deployed_ft_model=sambastudio.create_endpoint(\n",
    "    project='302411f2-a7f7-42b3-a056-13f99330d3f9',\n",
    "    endpoint_name=\"test-endpoint-sql\",\n",
    "    description=\"endpoint of finetuned sql model llama2 7b\",\n",
    "    model_checkpoint=\"c828d8d6-bbc6-4315-8573-014a183ffa58\",\n",
    "    instances=1,\n",
    "    rdu_arch = \"sn10\",\n",
    "    hyperparams = json.dumps({})\n",
    ")   "
   ]
  },
  {
   "cell_type": "code",
   "execution_count": 200,
   "metadata": {},
   "outputs": [
    {
     "data": {
      "text/plain": [
       "{'code': 13,\n",
       " 'message': 'Error occured while creating Endpoint',\n",
       " 'details': [],\n",
       " 'status_code': 500}"
      ]
     },
     "execution_count": 200,
     "metadata": {},
     "output_type": "execute_result"
    }
   ],
   "source": [
    "deployed_ft_model"
   ]
  },
  {
   "cell_type": "markdown",
   "metadata": {},
   "source": [
    "get endpoint details"
   ]
  },
  {
   "cell_type": "code",
   "execution_count": 175,
   "metadata": {},
   "outputs": [],
   "source": [
    "env_url=\"https://sjc3-demo1.sambanova.net\"\n",
    "hc_endpoint_id = \"7eafd1ae-115d-4a07-ad10-9db530292f91\""
   ]
  },
  {
   "cell_type": "code",
   "execution_count": 182,
   "metadata": {},
   "outputs": [
    {
     "data": {
      "text/plain": [
       "{'SAMBASTUDIO_BASE_URL': 'https://sjc3-demo1.sambanova.net',\n",
       " 'SAMBASTUDIO_BASE_URI': 'api/predict/generic',\n",
       " 'SAMBASTUDIO_PROJECT_ID': '302411f2-a7f7-42b3-a056-13f99330d3f9',\n",
       " 'SAMBASTUDIO_ENDPOINT_ID': '7eafd1ae-115d-4a07-ad10-9db530292f91',\n",
       " 'SAMBASTUDIO_API_KEY': 'aea761ea-24a3-4d0a-8dd9-b050fa4677cf'}"
      ]
     },
     "execution_count": 182,
     "metadata": {},
     "output_type": "execute_result"
    }
   ],
   "source": [
    "endpoint_info = sambastudio.endpoint_info(\n",
    "    project=hc_project_id,\n",
    "    endpoint=hc_endpoint_id,\n",
    ")\n",
    "#'status': 'AwaitingRDU',\n",
    "#'status': 'Live',\n",
    "endpoint_url = endpoint_info.get(\"url\")\n",
    "endpoint_env = {\n",
    "    \"SAMBASTUDIO_BASE_URL\": env_url,\n",
    "    \"SAMBASTUDIO_BASE_URI\": \"/\".join(endpoint_url.split(\"/\")[1:4]),\n",
    "    \"SAMBASTUDIO_PROJECT_ID\": endpoint_url.split(\"/\")[-2],\n",
    "    \"SAMBASTUDIO_ENDPOINT_ID\": endpoint_url.split(\"/\")[-1] ,\n",
    "    \"SAMBASTUDIO_API_KEY\": endpoint_info.get(\"api_key\"),\n",
    "} \n",
    "endpoint_env"
   ]
  },
  {
   "cell_type": "markdown",
   "metadata": {},
   "source": [
    "endpoint usage"
   ]
  },
  {
   "cell_type": "code",
   "execution_count": 191,
   "metadata": {},
   "outputs": [],
   "source": [
    "prompt=\"\"\"[INST]<<SYS>>\n",
    "\n",
    "Generate a query using valid SQLite to answer the following questions for the summarized tables schemas provided bellow.\n",
    "Do not assume the values on the database tables before generating the SQL query, always generate a SQL that query what is asked. \n",
    "The query must be in the format: \n",
    "```sql\n",
    "query\n",
    "```\n",
    "    \n",
    "Example:\n",
    "\n",
    "```sql\n",
    "SELECT * FROM mainTable;\n",
    "```\n",
    "<</SYS>>\n",
    "\t\n",
    "        \n",
    "CREATE TABLE \"Album\" (\n",
    "\t\"AlbumId\" INTEGER NOT NULL, \n",
    "\t\"Title\" NVARCHAR(160) NOT NULL, \n",
    "\t\"ArtistId\" INTEGER NOT NULL, \n",
    "\tPRIMARY KEY (\"AlbumId\"), \n",
    "\tFOREIGN KEY(\"ArtistId\") REFERENCES \"Artist\" (\"ArtistId\")\n",
    ")\n",
    "\n",
    "/*\n",
    "3 rows from Album table:\n",
    "AlbumId\tTitle\tArtistId\n",
    "1\tFor Those About To Rock We Salute You\t1\n",
    "2\tBalls to the Wall\t2\n",
    "3\tRestless and Wild\t2\n",
    "*/\n",
    "\n",
    "\n",
    "CREATE TABLE \"Artist\" (\n",
    "\t\"ArtistId\" INTEGER NOT NULL, \n",
    "\t\"Name\" NVARCHAR(120), \n",
    "\tPRIMARY KEY (\"ArtistId\")\n",
    ")\n",
    "\n",
    "/*\n",
    "3 rows from Artist table:\n",
    "ArtistId\tName\n",
    "1\tAC/DC\n",
    "2\tAccept\n",
    "3\tAerosmith\n",
    "*/\n",
    "\n",
    "\n",
    "CREATE TABLE \"Customer\" (\n",
    "\t\"CustomerId\" INTEGER NOT NULL, \n",
    "\t\"FirstName\" NVARCHAR(40) NOT NULL, \n",
    "\t\"LastName\" NVARCHAR(20) NOT NULL, \n",
    "\t\"Company\" NVARCHAR(80), \n",
    "\t\"Address\" NVARCHAR(70), \n",
    "\t\"City\" NVARCHAR(40), \n",
    "\t\"State\" NVARCHAR(40), \n",
    "\t\"Country\" NVARCHAR(40), \n",
    "\t\"PostalCode\" NVARCHAR(10), \n",
    "\t\"Phone\" NVARCHAR(24), \n",
    "\t\"Fax\" NVARCHAR(24), \n",
    "\t\"Email\" NVARCHAR(60) NOT NULL, \n",
    "\t\"SupportRepId\" INTEGER, \n",
    "\tPRIMARY KEY (\"CustomerId\"), \n",
    "\tFOREIGN KEY(\"SupportRepId\") REFERENCES \"Employee\" (\"EmployeeId\")\n",
    ")\n",
    "\n",
    "/*\n",
    "3 rows from Customer table:\n",
    "CustomerId\tFirstName\tLastName\tCompany\tAddress\tCity\tState\tCountry\tPostalCode\tPhone\tFax\tEmail\tSupportRepId\n",
    "1\tLuís\tGonçalves\tEmbraer - Empresa Brasileira de Aeronáutica S.A.\tAv. Brigadeiro Faria Lima, 2170\tSão José dos Campos\tSP\tBrazil\t12227-000\t+55 (12) 3923-5555\t+55 (12) 3923-5566\tluisg@embraer.com.br\t3\n",
    "2\tLeonie\tKöhler\tNone\tTheodor-Heuss-Straße 34\tStuttgart\tNone\tGermany\t70174\t+49 0711 2842222\tNone\tleonekohler@surfeu.de\t5\n",
    "3\tFrançois\tTremblay\tNone\t1498 rue Bélanger\tMontréal\tQC\tCanada\tH2G 1A7\t+1 (514) 721-4711\tNone\tftremblay@gmail.com\t3\n",
    "*/\n",
    "\n",
    "\n",
    "CREATE TABLE \"Employee\" (\n",
    "\t\"EmployeeId\" INTEGER NOT NULL, \n",
    "\t\"LastName\" NVARCHAR(20) NOT NULL, \n",
    "\t\"FirstName\" NVARCHAR(20) NOT NULL, \n",
    "\t\"Title\" NVARCHAR(30), \n",
    "\t\"ReportsTo\" INTEGER, \n",
    "\t\"BirthDate\" DATETIME, \n",
    "\t\"HireDate\" DATETIME, \n",
    "\t\"Address\" NVARCHAR(70), \n",
    "\t\"City\" NVARCHAR(40), \n",
    "\t\"State\" NVARCHAR(40), \n",
    "\t\"Country\" NVARCHAR(40), \n",
    "\t\"PostalCode\" NVARCHAR(10), \n",
    "\t\"Phone\" NVARCHAR(24), \n",
    "\t\"Fax\" NVARCHAR(24), \n",
    "\t\"Email\" NVARCHAR(60), \n",
    "\tPRIMARY KEY (\"EmployeeId\"), \n",
    "\tFOREIGN KEY(\"ReportsTo\") REFERENCES \"Employee\" (\"EmployeeId\")\n",
    ")\n",
    "\n",
    "/*\n",
    "3 rows from Employee table:\n",
    "EmployeeId\tLastName\tFirstName\tTitle\tReportsTo\tBirthDate\tHireDate\tAddress\tCity\tState\tCountry\tPostalCode\tPhone\tFax\tEmail\n",
    "1\tAdams\tAndrew\tGeneral Manager\tNone\t1962-02-18 00:00:00\t2002-08-14 00:00:00\t11120 Jasper Ave NW\tEdmonton\tAB\tCanada\tT5K 2N1\t+1 (780) 428-9482\t+1 (780) 428-3457\tandrew@chinookcorp.com\n",
    "2\tEdwards\tNancy\tSales Manager\t1\t1958-12-08 00:00:00\t2002-05-01 00:00:00\t825 8 Ave SW\tCalgary\tAB\tCanada\tT2P 2T3\t+1 (403) 262-3443\t+1 (403) 262-3322\tnancy@chinookcorp.com\n",
    "3\tPeacock\tJane\tSales Support Agent\t2\t1973-08-29 00:00:00\t2002-04-01 00:00:00\t1111 6 Ave SW\tCalgary\tAB\tCanada\tT2P 5M5\t+1 (403) 262-3443\t+1 (403) 262-6712\tjane@chinookcorp.com\n",
    "*/\n",
    "\n",
    "\n",
    "CREATE TABLE \"Genre\" (\n",
    "\t\"GenreId\" INTEGER NOT NULL, \n",
    "\t\"Name\" NVARCHAR(120), \n",
    "\tPRIMARY KEY (\"GenreId\")\n",
    ")\n",
    "\n",
    "/*\n",
    "3 rows from Genre table:\n",
    "GenreId\tName\n",
    "1\tRock\n",
    "2\tJazz\n",
    "3\tMetal\n",
    "*/\n",
    "\n",
    "\n",
    "CREATE TABLE \"Invoice\" (\n",
    "\t\"InvoiceId\" INTEGER NOT NULL, \n",
    "\t\"CustomerId\" INTEGER NOT NULL, \n",
    "\t\"InvoiceDate\" DATETIME NOT NULL, \n",
    "\t\"BillingAddress\" NVARCHAR(70), \n",
    "\t\"BillingCity\" NVARCHAR(40), \n",
    "\t\"BillingState\" NVARCHAR(40), \n",
    "\t\"BillingCountry\" NVARCHAR(40), \n",
    "\t\"BillingPostalCode\" NVARCHAR(10), \n",
    "\t\"Total\" NUMERIC(10, 2) NOT NULL, \n",
    "\tPRIMARY KEY (\"InvoiceId\"), \n",
    "\tFOREIGN KEY(\"CustomerId\") REFERENCES \"Customer\" (\"CustomerId\")\n",
    ")\n",
    "\n",
    "/*\n",
    "3 rows from Invoice table:\n",
    "InvoiceId\tCustomerId\tInvoiceDate\tBillingAddress\tBillingCity\tBillingState\tBillingCountry\tBillingPostalCode\tTotal\n",
    "1\t2\t2021-01-01 00:00:00\tTheodor-Heuss-Straße 34\tStuttgart\tNone\tGermany\t70174\t1.98\n",
    "2\t4\t2021-01-02 00:00:00\tUllevålsveien 14\tOslo\tNone\tNorway\t0171\t3.96\n",
    "3\t8\t2021-01-03 00:00:00\tGrétrystraat 63\tBrussels\tNone\tBelgium\t1000\t5.94\n",
    "*/\n",
    "\n",
    "\n",
    "CREATE TABLE \"InvoiceLine\" (\n",
    "\t\"InvoiceLineId\" INTEGER NOT NULL, \n",
    "\t\"InvoiceId\" INTEGER NOT NULL, \n",
    "\t\"TrackId\" INTEGER NOT NULL, \n",
    "\t\"UnitPrice\" NUMERIC(10, 2) NOT NULL, \n",
    "\t\"Quantity\" INTEGER NOT NULL, \n",
    "\tPRIMARY KEY (\"InvoiceLineId\"), \n",
    "\tFOREIGN KEY(\"TrackId\") REFERENCES \"Track\" (\"TrackId\"), \n",
    "\tFOREIGN KEY(\"InvoiceId\") REFERENCES \"Invoice\" (\"InvoiceId\")\n",
    ")\n",
    "\n",
    "/*\n",
    "3 rows from InvoiceLine table:\n",
    "InvoiceLineId\tInvoiceId\tTrackId\tUnitPrice\tQuantity\n",
    "1\t1\t2\t0.99\t1\n",
    "2\t1\t4\t0.99\t1\n",
    "3\t2\t6\t0.99\t1\n",
    "*/\n",
    "\n",
    "\n",
    "CREATE TABLE \"MediaType\" (\n",
    "\t\"MediaTypeId\" INTEGER NOT NULL, \n",
    "\t\"Name\" NVARCHAR(120), \n",
    "\tPRIMARY KEY (\"MediaTypeId\")\n",
    ")\n",
    "\n",
    "/*\n",
    "3 rows from MediaType table:\n",
    "MediaTypeId\tName\n",
    "1\tMPEG audio file\n",
    "2\tProtected AAC audio file\n",
    "3\tProtected MPEG-4 video file\n",
    "*/\n",
    "\n",
    "\n",
    "CREATE TABLE \"Playlist\" (\n",
    "\t\"PlaylistId\" INTEGER NOT NULL, \n",
    "\t\"Name\" NVARCHAR(120), \n",
    "\tPRIMARY KEY (\"PlaylistId\")\n",
    ")\n",
    "\n",
    "/*\n",
    "3 rows from Playlist table:\n",
    "PlaylistId\tName\n",
    "1\tMusic\n",
    "2\tMovies\n",
    "3\tTV Shows\n",
    "*/\n",
    "\n",
    "\n",
    "CREATE TABLE \"PlaylistTrack\" (\n",
    "\t\"PlaylistId\" INTEGER NOT NULL, \n",
    "\t\"TrackId\" INTEGER NOT NULL, \n",
    "\tPRIMARY KEY (\"PlaylistId\", \"TrackId\"), \n",
    "\tFOREIGN KEY(\"TrackId\") REFERENCES \"Track\" (\"TrackId\"), \n",
    "\tFOREIGN KEY(\"PlaylistId\") REFERENCES \"Playlist\" (\"PlaylistId\")\n",
    ")\n",
    "\n",
    "/*\n",
    "3 rows from PlaylistTrack table:\n",
    "PlaylistId\tTrackId\n",
    "1\t3402\n",
    "1\t3389\n",
    "1\t3390\n",
    "*/\n",
    "\n",
    "\n",
    "CREATE TABLE \"Track\" (\n",
    "\t\"TrackId\" INTEGER NOT NULL, \n",
    "\t\"Name\" NVARCHAR(200) NOT NULL, \n",
    "\t\"AlbumId\" INTEGER, \n",
    "\t\"MediaTypeId\" INTEGER NOT NULL, \n",
    "\t\"GenreId\" INTEGER, \n",
    "\t\"Composer\" NVARCHAR(220), \n",
    "\t\"Milliseconds\" INTEGER NOT NULL, \n",
    "\t\"Bytes\" INTEGER, \n",
    "\t\"UnitPrice\" NUMERIC(10, 2) NOT NULL, \n",
    "\tPRIMARY KEY (\"TrackId\"), \n",
    "\tFOREIGN KEY(\"MediaTypeId\") REFERENCES \"MediaType\" (\"MediaTypeId\"), \n",
    "\tFOREIGN KEY(\"GenreId\") REFERENCES \"Genre\" (\"GenreId\"), \n",
    "\tFOREIGN KEY(\"AlbumId\") REFERENCES \"Album\" (\"AlbumId\")\n",
    ")\n",
    "\n",
    "/*\n",
    "3 rows from Track table:\n",
    "TrackId\tName\tAlbumId\tMediaTypeId\tGenreId\tComposer\tMilliseconds\tBytes\tUnitPrice\n",
    "1\tFor Those About To Rock (We Salute You)\t1\t1\t1\tAngus Young, Malcolm Young, Brian Johnson\t343719\t11170334\t0.99\n",
    "2\tBalls to the Wall\t2\t2\t1\tU. Dirkschneider, W. Hoffmann, H. Frank, P. Baltes, S. Kaufmann, G. Hoffmann\t342562\t5510424\t0.99\n",
    "3\tFast As a Shark\t3\t2\t1\tF. Baltes, S. Kaufman, U. Dirkscneider & W. Hoffman\t230619\t3990994\t0.99\n",
    "*/\n",
    "        \n",
    "    how many music genres are in the db?\n",
    "    [/INST]\"\"\""
   ]
  },
  {
   "cell_type": "code",
   "execution_count": 192,
   "metadata": {},
   "outputs": [
    {
     "data": {
      "text/plain": [
       "' SELECT COUNT(*) FROM \"Genre\"'"
      ]
     },
     "execution_count": 192,
     "metadata": {},
     "output_type": "execute_result"
    }
   ],
   "source": [
    "from langchain_community.llms import SambaStudio\n",
    "\n",
    "llm = SambaStudio(\n",
    "    sambastudio_base_url=endpoint_env.get(\"SAMBASTUDIO_BASE_URL\"),\n",
    "    sambastudio_base_uri=endpoint_env.get(\"SAMBASTUDIO_BASE_URI\"),\n",
    "    sambastudio_project_id=endpoint_env.get(\"SAMBASTUDIO_PROJECT_ID\"),\n",
    "    sambastudio_endpoint_id=endpoint_env.get(\"SAMBASTUDIO_ENDPOINT_ID\"),\n",
    "    sambastudio_api_key=endpoint_env.get(\"SAMBASTUDIO_API_KEY\"),\n",
    "    model_kwargs = {\n",
    "        \"do_sample\": True, \n",
    "        \"temperature\": 0.01,\n",
    "        \"max_tokens_to_generate\": 512\n",
    "    }\n",
    ")\n",
    "llm.invoke(prompt)"
   ]
  },
  {
   "cell_type": "code",
   "execution_count": null,
   "metadata": {},
   "outputs": [],
   "source": []
  }
 ],
 "metadata": {
  "kernelspec": {
   "display_name": "finetuning_env",
   "language": "python",
   "name": "python3"
  },
  "language_info": {
   "codemirror_mode": {
    "name": "ipython",
    "version": 3
   },
   "file_extension": ".py",
   "mimetype": "text/x-python",
   "name": "python",
   "nbconvert_exporter": "python",
   "pygments_lexer": "ipython3",
   "version": "3.11.3"
  }
 },
 "nbformat": 4,
 "nbformat_minor": 2
}
