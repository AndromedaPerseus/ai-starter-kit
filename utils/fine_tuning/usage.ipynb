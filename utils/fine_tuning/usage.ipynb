{
 "cells": [
  {
   "cell_type": "markdown",
   "metadata": {},
   "source": [
    "# SNSDK Wrapper usage"
   ]
  },
  {
   "cell_type": "code",
   "execution_count": 1,
   "metadata": {},
   "outputs": [],
   "source": [
    "import os\n",
    "import sys\n",
    "from src import sambastudio_utils\n",
    "from src.snsdk_wrapper import SnsdkWrapper\n",
    "current_dir = os.getcwd()\n",
    "utils_dir = os.path.abspath(os.path.join(current_dir, \"..\"))\n",
    "repo_dir = os.path.abspath(os.path.join(utils_dir, \"..\"))\n",
    "\n",
    "sys.path.append(utils_dir)\n",
    "sys.path.append(repo_dir)"
   ]
  },
  {
   "cell_type": "markdown",
   "metadata": {},
   "source": [
    "## Wrapper usage with config file"
   ]
  },
  {
   "cell_type": "code",
   "execution_count": 2,
   "metadata": {},
   "outputs": [
    {
     "name": "stderr",
     "output_type": "stream",
     "text": [
      "2024-07-29 16:10:54,443 [INFO] Using config file located in /Users/jorgep/Documents/ask_public_own/ai-starter-kit/utils/fine_tuning/config.yaml\n",
      "2024-07-29 16:10:54,445 [INFO] Using variables from Snapi config to set up Snsdk.\n"
     ]
    }
   ],
   "source": [
    "sambastudio_wrapper = SnsdkWrapper(config_path=os.path.join(current_dir,\"config.yaml\"))"
   ]
  },
  {
   "cell_type": "markdown",
   "metadata": {},
   "source": [
    "### Dataset preparation"
   ]
  },
  {
   "cell_type": "code",
   "execution_count": 3,
   "metadata": {},
   "outputs": [
    {
     "name": "stderr",
     "output_type": "stream",
     "text": [
      "2024-07-29 16:11:00,425 [INFO] input jsonl files merged into /Users/jorgep/Documents/ask_public_own/ai-starter-kit/fine_tuning_sql/data/pre-training/pretrain-squad-smol-sql_merged.jsonl\n",
      "2024-07-29 16:11:06,415 [INFO] Processing ./generative_data_prep\n",
      "2024-07-29 16:11:06,416 [INFO] Installing build dependencies: started\n",
      "2024-07-29 16:11:06,416 [INFO] Installing build dependencies: finished with status 'done'\n",
      "2024-07-29 16:11:06,416 [INFO] Getting requirements to build wheel: started\n",
      "2024-07-29 16:11:06,417 [INFO] Getting requirements to build wheel: finished with status 'done'\n",
      "2024-07-29 16:11:06,417 [INFO] Preparing metadata (pyproject.toml): started\n",
      "2024-07-29 16:11:06,417 [INFO] Preparing metadata (pyproject.toml): finished with status 'done'\n",
      "2024-07-29 16:11:06,418 [INFO] Requirement already satisfied: alive-progress in /Users/jorgep/Documents/ask_public_own/finetuning_env/lib/python3.11/site-packages (from sambanova-generative-data-prep==0.1.dev66+g3b4779c) (3.1.5)\n",
      "2024-07-29 16:11:06,418 [INFO] Requirement already satisfied: gitpython in /Users/jorgep/Documents/ask_public_own/finetuning_env/lib/python3.11/site-packages (from sambanova-generative-data-prep==0.1.dev66+g3b4779c) (3.1.43)\n",
      "2024-07-29 16:11:06,418 [INFO] Requirement already satisfied: h5py in /Users/jorgep/Documents/ask_public_own/finetuning_env/lib/python3.11/site-packages (from sambanova-generative-data-prep==0.1.dev66+g3b4779c) (3.11.0)\n",
      "2024-07-29 16:11:06,418 [INFO] Requirement already satisfied: jsonlines in /Users/jorgep/Documents/ask_public_own/finetuning_env/lib/python3.11/site-packages (from sambanova-generative-data-prep==0.1.dev66+g3b4779c) (4.0.0)\n",
      "2024-07-29 16:11:06,419 [INFO] Requirement already satisfied: numpy in /Users/jorgep/Documents/ask_public_own/finetuning_env/lib/python3.11/site-packages (from sambanova-generative-data-prep==0.1.dev66+g3b4779c) (1.24.2)\n",
      "2024-07-29 16:11:06,419 [INFO] Requirement already satisfied: psutil in /Users/jorgep/Documents/ask_public_own/finetuning_env/lib/python3.11/site-packages (from sambanova-generative-data-prep==0.1.dev66+g3b4779c) (6.0.0)\n",
      "2024-07-29 16:11:06,419 [INFO] Requirement already satisfied: pydantic in /Users/jorgep/Documents/ask_public_own/finetuning_env/lib/python3.11/site-packages (from sambanova-generative-data-prep==0.1.dev66+g3b4779c) (2.8.2)\n",
      "2024-07-29 16:11:06,419 [INFO] Requirement already satisfied: pyyaml in /Users/jorgep/Documents/ask_public_own/finetuning_env/lib/python3.11/site-packages (from sambanova-generative-data-prep==0.1.dev66+g3b4779c) (6.0.1)\n",
      "2024-07-29 16:11:06,420 [INFO] Requirement already satisfied: sentencepiece in /Users/jorgep/Documents/ask_public_own/finetuning_env/lib/python3.11/site-packages (from sambanova-generative-data-prep==0.1.dev66+g3b4779c) (0.2.0)\n",
      "2024-07-29 16:11:06,420 [INFO] Requirement already satisfied: tabulate in /Users/jorgep/Documents/ask_public_own/finetuning_env/lib/python3.11/site-packages (from sambanova-generative-data-prep==0.1.dev66+g3b4779c) (0.9.0)\n",
      "2024-07-29 16:11:06,420 [INFO] Requirement already satisfied: torch>=2.3 in /Users/jorgep/Documents/ask_public_own/finetuning_env/lib/python3.11/site-packages (from sambanova-generative-data-prep==0.1.dev66+g3b4779c) (2.3.1)\n",
      "2024-07-29 16:11:06,420 [INFO] Requirement already satisfied: tqdm in /Users/jorgep/Documents/ask_public_own/finetuning_env/lib/python3.11/site-packages (from sambanova-generative-data-prep==0.1.dev66+g3b4779c) (4.66.4)\n",
      "2024-07-29 16:11:06,421 [INFO] Requirement already satisfied: transformers in /Users/jorgep/Documents/ask_public_own/finetuning_env/lib/python3.11/site-packages (from sambanova-generative-data-prep==0.1.dev66+g3b4779c) (4.41.2)\n",
      "2024-07-29 16:11:06,421 [INFO] Requirement already satisfied: types-tabulate in /Users/jorgep/Documents/ask_public_own/finetuning_env/lib/python3.11/site-packages (from sambanova-generative-data-prep==0.1.dev66+g3b4779c) (0.9.0.20240106)\n",
      "2024-07-29 16:11:06,421 [INFO] Requirement already satisfied: filelock in /Users/jorgep/Documents/ask_public_own/finetuning_env/lib/python3.11/site-packages (from torch>=2.3->sambanova-generative-data-prep==0.1.dev66+g3b4779c) (3.15.4)\n",
      "2024-07-29 16:11:06,421 [INFO] Requirement already satisfied: typing-extensions>=4.8.0 in /Users/jorgep/Documents/ask_public_own/finetuning_env/lib/python3.11/site-packages (from torch>=2.3->sambanova-generative-data-prep==0.1.dev66+g3b4779c) (4.12.2)\n",
      "2024-07-29 16:11:06,422 [INFO] Requirement already satisfied: sympy in /Users/jorgep/Documents/ask_public_own/finetuning_env/lib/python3.11/site-packages (from torch>=2.3->sambanova-generative-data-prep==0.1.dev66+g3b4779c) (1.13.0)\n",
      "2024-07-29 16:11:06,422 [INFO] Requirement already satisfied: networkx in /Users/jorgep/Documents/ask_public_own/finetuning_env/lib/python3.11/site-packages (from torch>=2.3->sambanova-generative-data-prep==0.1.dev66+g3b4779c) (3.3)\n",
      "2024-07-29 16:11:06,422 [INFO] Requirement already satisfied: jinja2 in /Users/jorgep/Documents/ask_public_own/finetuning_env/lib/python3.11/site-packages (from torch>=2.3->sambanova-generative-data-prep==0.1.dev66+g3b4779c) (3.1.4)\n",
      "2024-07-29 16:11:06,422 [INFO] Requirement already satisfied: fsspec in /Users/jorgep/Documents/ask_public_own/finetuning_env/lib/python3.11/site-packages (from torch>=2.3->sambanova-generative-data-prep==0.1.dev66+g3b4779c) (2024.5.0)\n",
      "2024-07-29 16:11:06,422 [INFO] Requirement already satisfied: about-time==4.2.1 in /Users/jorgep/Documents/ask_public_own/finetuning_env/lib/python3.11/site-packages (from alive-progress->sambanova-generative-data-prep==0.1.dev66+g3b4779c) (4.2.1)\n",
      "2024-07-29 16:11:06,423 [INFO] Requirement already satisfied: grapheme==0.6.0 in /Users/jorgep/Documents/ask_public_own/finetuning_env/lib/python3.11/site-packages (from alive-progress->sambanova-generative-data-prep==0.1.dev66+g3b4779c) (0.6.0)\n",
      "2024-07-29 16:11:06,423 [INFO] Requirement already satisfied: gitdb<5,>=4.0.1 in /Users/jorgep/Documents/ask_public_own/finetuning_env/lib/python3.11/site-packages (from gitpython->sambanova-generative-data-prep==0.1.dev66+g3b4779c) (4.0.11)\n",
      "2024-07-29 16:11:06,423 [INFO] Requirement already satisfied: attrs>=19.2.0 in /Users/jorgep/Documents/ask_public_own/finetuning_env/lib/python3.11/site-packages (from jsonlines->sambanova-generative-data-prep==0.1.dev66+g3b4779c) (23.2.0)\n",
      "2024-07-29 16:11:06,423 [INFO] Requirement already satisfied: annotated-types>=0.4.0 in /Users/jorgep/Documents/ask_public_own/finetuning_env/lib/python3.11/site-packages (from pydantic->sambanova-generative-data-prep==0.1.dev66+g3b4779c) (0.7.0)\n",
      "2024-07-29 16:11:06,423 [INFO] Requirement already satisfied: pydantic-core==2.20.1 in /Users/jorgep/Documents/ask_public_own/finetuning_env/lib/python3.11/site-packages (from pydantic->sambanova-generative-data-prep==0.1.dev66+g3b4779c) (2.20.1)\n",
      "2024-07-29 16:11:06,424 [INFO] Requirement already satisfied: huggingface-hub<1.0,>=0.23.0 in /Users/jorgep/Documents/ask_public_own/finetuning_env/lib/python3.11/site-packages (from transformers->sambanova-generative-data-prep==0.1.dev66+g3b4779c) (0.23.4)\n",
      "2024-07-29 16:11:06,424 [INFO] Requirement already satisfied: packaging>=20.0 in /Users/jorgep/Documents/ask_public_own/finetuning_env/lib/python3.11/site-packages (from transformers->sambanova-generative-data-prep==0.1.dev66+g3b4779c) (24.1)\n",
      "2024-07-29 16:11:06,424 [INFO] Requirement already satisfied: regex!=2019.12.17 in /Users/jorgep/Documents/ask_public_own/finetuning_env/lib/python3.11/site-packages (from transformers->sambanova-generative-data-prep==0.1.dev66+g3b4779c) (2024.5.15)\n",
      "2024-07-29 16:11:06,424 [INFO] Requirement already satisfied: requests in /Users/jorgep/Documents/ask_public_own/finetuning_env/lib/python3.11/site-packages (from transformers->sambanova-generative-data-prep==0.1.dev66+g3b4779c) (2.32.3)\n",
      "2024-07-29 16:11:06,425 [INFO] Requirement already satisfied: tokenizers<0.20,>=0.19 in /Users/jorgep/Documents/ask_public_own/finetuning_env/lib/python3.11/site-packages (from transformers->sambanova-generative-data-prep==0.1.dev66+g3b4779c) (0.19.1)\n",
      "2024-07-29 16:11:06,425 [INFO] Requirement already satisfied: safetensors>=0.4.1 in /Users/jorgep/Documents/ask_public_own/finetuning_env/lib/python3.11/site-packages (from transformers->sambanova-generative-data-prep==0.1.dev66+g3b4779c) (0.4.3)\n",
      "2024-07-29 16:11:06,425 [INFO] Requirement already satisfied: smmap<6,>=3.0.1 in /Users/jorgep/Documents/ask_public_own/finetuning_env/lib/python3.11/site-packages (from gitdb<5,>=4.0.1->gitpython->sambanova-generative-data-prep==0.1.dev66+g3b4779c) (5.0.1)\n",
      "2024-07-29 16:11:06,425 [INFO] Requirement already satisfied: MarkupSafe>=2.0 in /Users/jorgep/Documents/ask_public_own/finetuning_env/lib/python3.11/site-packages (from jinja2->torch>=2.3->sambanova-generative-data-prep==0.1.dev66+g3b4779c) (2.1.5)\n",
      "2024-07-29 16:11:06,426 [INFO] Requirement already satisfied: charset-normalizer<4,>=2 in /Users/jorgep/Documents/ask_public_own/finetuning_env/lib/python3.11/site-packages (from requests->transformers->sambanova-generative-data-prep==0.1.dev66+g3b4779c) (3.3.2)\n",
      "2024-07-29 16:11:06,426 [INFO] Requirement already satisfied: idna<4,>=2.5 in /Users/jorgep/Documents/ask_public_own/finetuning_env/lib/python3.11/site-packages (from requests->transformers->sambanova-generative-data-prep==0.1.dev66+g3b4779c) (3.7)\n",
      "2024-07-29 16:11:06,426 [INFO] Requirement already satisfied: urllib3<3,>=1.21.1 in /Users/jorgep/Documents/ask_public_own/finetuning_env/lib/python3.11/site-packages (from requests->transformers->sambanova-generative-data-prep==0.1.dev66+g3b4779c) (2.2.2)\n",
      "2024-07-29 16:11:06,427 [INFO] Requirement already satisfied: certifi>=2017.4.17 in /Users/jorgep/Documents/ask_public_own/finetuning_env/lib/python3.11/site-packages (from requests->transformers->sambanova-generative-data-prep==0.1.dev66+g3b4779c) (2024.7.4)\n",
      "2024-07-29 16:11:06,427 [INFO] Requirement already satisfied: mpmath<1.4,>=1.1.0 in /Users/jorgep/Documents/ask_public_own/finetuning_env/lib/python3.11/site-packages (from sympy->torch>=2.3->sambanova-generative-data-prep==0.1.dev66+g3b4779c) (1.3.0)\n",
      "2024-07-29 16:11:06,427 [INFO] Building wheels for collected packages: sambanova-generative-data-prep\n",
      "2024-07-29 16:11:06,427 [INFO] Building wheel for sambanova-generative-data-prep (pyproject.toml): started\n",
      "2024-07-29 16:11:06,428 [INFO] Building wheel for sambanova-generative-data-prep (pyproject.toml): finished with status 'done'\n",
      "2024-07-29 16:11:06,428 [INFO] Created wheel for sambanova-generative-data-prep: filename=sambanova_generative_data_prep-0.1.dev66+g3b4779c-py3-none-any.whl size=86027 sha256=68fdaca373d2bf47c26899b3ec35d75316f2c88ed1f4e0b61785938be5076565\n",
      "2024-07-29 16:11:06,428 [INFO] Stored in directory: /private/var/folders/p4/y0q2kh796nx_k_yzfhxs57f00000gp/T/pip-ephem-wheel-cache-rlvsg12l/wheels/df/4f/fb/02896327c293054033c9dc14409c1f07ee004b71bd3d093709\n",
      "2024-07-29 16:11:06,428 [INFO] Successfully built sambanova-generative-data-prep\n",
      "2024-07-29 16:11:06,429 [INFO] Installing collected packages: sambanova-generative-data-prep\n",
      "2024-07-29 16:11:06,429 [INFO] Attempting uninstall: sambanova-generative-data-prep\n",
      "2024-07-29 16:11:06,429 [INFO] Found existing installation: sambanova-generative-data-prep 0.1.dev66+g3b4779c\n",
      "2024-07-29 16:11:06,429 [INFO] Uninstalling sambanova-generative-data-prep-0.1.dev66+g3b4779c:\n",
      "2024-07-29 16:11:06,430 [INFO] Successfully uninstalled sambanova-generative-data-prep-0.1.dev66+g3b4779c\n",
      "2024-07-29 16:11:06,430 [INFO] Successfully installed sambanova-generative-data-prep-0.1.dev66+g3b4779c\n",
      "2024-07-29 16:11:06,430 [ERROR] [notice] A new release of pip available: 22.3.1 -> 24.1.2\n",
      "2024-07-29 16:11:06,430 [ERROR] [notice] To update, run: pip install --upgrade pip\n",
      "2024-07-29 16:11:06,430 [INFO] Gen data preparation module set up successfully\n",
      "2024-07-29 16:12:53,382 [INFO] |███████████████████████████████████████▉⚠︎ (!) 9977/10016 [100%] in 55.3s (180.52/s)\n",
      "2024-07-29 16:12:53,383 [ERROR] /Users/jorgep/Documents/ask_public_own/finetuning_env/lib/python3.11/site-packages/huggingface_hub/file_download.py:1132: FutureWarning: `resume_download` is deprecated and will be removed in version 1.0.0. Downloads always resume when possible. If you want to force a new download, use `force_download=True`.\n",
      "2024-07-29 16:12:53,384 [ERROR] warnings.warn(\n",
      "2024-07-29 16:12:53,384 [ERROR] --------------------------------------------------------------------------------\n",
      "2024-07-29 16:12:53,384 [ERROR] Size of input jsonl file is: 0.15 GB (148.6 MB)\n",
      "2024-07-29 16:12:53,384 [ERROR] --------------------------------------------------------------------------------\n",
      "2024-07-29 16:12:53,384 [ERROR] Running tokenization jobs locally, There are 8 processes working on it.\n",
      "2024-07-29 16:12:53,385 [ERROR] --------------------------------------------------------------------------------\n",
      "2024-07-29 16:12:53,385 [ERROR] Tokenization is complete, the output dataset is located at: /Users/jorgep/Documents/ask_public_own/ai-starter-kit/utils/fine_tuning/sambastudio_fine-tuning_dataset\n",
      "2024-07-29 16:12:53,385 [ERROR] --------------------------------------------------------------------------------\n",
      "2024-07-29 16:12:53,385 [ERROR] Balancing hdf5 files to ensure they have the same number of sequences.\n",
      "2024-07-29 16:12:53,385 [ERROR] ------------------------------------Metrics------------------------------------\n",
      "2024-07-29 16:12:53,386 [ERROR] ╒════════════════════════════╤══════════╕\n",
      "2024-07-29 16:12:53,386 [ERROR] │ Sequences                  │ 17935    │\n",
      "2024-07-29 16:12:53,386 [ERROR] ├────────────────────────────┼──────────┤\n",
      "2024-07-29 16:12:53,386 [ERROR] │ Articles                   │ 10000    │\n",
      "2024-07-29 16:12:53,386 [ERROR] ├────────────────────────────┼──────────┤\n",
      "2024-07-29 16:12:53,386 [ERROR] │ Dataset Tokens             │ 73461760 │\n",
      "2024-07-29 16:12:53,387 [ERROR] ├────────────────────────────┼──────────┤\n",
      "2024-07-29 16:12:53,387 [ERROR] │ Prompt Tokens              │ 0        │\n",
      "2024-07-29 16:12:53,387 [ERROR] ├────────────────────────────┼──────────┤\n",
      "2024-07-29 16:12:53,387 [ERROR] │ Completion Tokens          │ 73398229 │\n",
      "2024-07-29 16:12:53,387 [ERROR] ├────────────────────────────┼──────────┤\n",
      "2024-07-29 16:12:53,387 [ERROR] │ Padding Tokens             │ 63531    │\n",
      "2024-07-29 16:12:53,388 [ERROR] ├────────────────────────────┼──────────┤\n",
      "2024-07-29 16:12:53,388 [ERROR] │ Average Completion Length  │ 7339.82  │\n",
      "2024-07-29 16:12:53,388 [ERROR] ├────────────────────────────┼──────────┤\n",
      "2024-07-29 16:12:53,388 [ERROR] │ Average Prompt Length      │ 0.0      │\n",
      "2024-07-29 16:12:53,388 [ERROR] ├────────────────────────────┼──────────┤\n",
      "2024-07-29 16:12:53,389 [ERROR] │ Data Utilization           │ 100.00%  │\n",
      "2024-07-29 16:12:53,389 [ERROR] ├────────────────────────────┼──────────┤\n",
      "2024-07-29 16:12:53,389 [ERROR] │ Dropped From Packing       │ 0.00%    │\n",
      "2024-07-29 16:12:53,389 [ERROR] ├────────────────────────────┼──────────┤\n",
      "2024-07-29 16:12:53,389 [ERROR] │ Dropped From All Prompt    │ 0.00%    │\n",
      "2024-07-29 16:12:53,389 [ERROR] ├────────────────────────────┼──────────┤\n",
      "2024-07-29 16:12:53,390 [ERROR] │ Sequence Utilization       │ 99.91%   │\n",
      "2024-07-29 16:12:53,390 [ERROR] ├────────────────────────────┼──────────┤\n",
      "2024-07-29 16:12:53,390 [ERROR] │ Seq Completion Utilization │ 99.91%   │\n",
      "2024-07-29 16:12:53,390 [ERROR] ╘════════════════════════════╧══════════╛\n",
      "2024-07-29 16:12:53,390 [ERROR] ------------------------------------Complete------------------------------------\n",
      "2024-07-29 16:12:53,391 [ERROR] Elapsed time: 0:01:46\n",
      "2024-07-29 16:12:53,391 [ERROR] --------------------------------------------------------------------------------\n",
      "2024-07-29 16:12:53,391 [ERROR] When training, please adhere to the dataset requirements provided below:\n",
      "2024-07-29 16:12:53,391 [ERROR] Max sequence length == 4096\n",
      "2024-07-29 16:12:53,391 [ERROR] Model vocabulary size == 32000\n",
      "2024-07-29 16:12:53,391 [ERROR] Batch size <= 560\n",
      "2024-07-29 16:12:53,391 [ERROR] Number of RDUs (data parallel workers) <= 32\n",
      "2024-07-29 16:12:53,392 [ERROR] Do eval must be False\n",
      "2024-07-29 16:12:53,392 [INFO] Gen data preparation pipeline ran successfully\n"
     ]
    },
    {
     "data": {
      "text/plain": [
       "'/Users/jorgep/Documents/ask_public_own/ai-starter-kit/utils/fine_tuning/sambastudio_fine-tuning_dataset'"
      ]
     },
     "execution_count": 3,
     "metadata": {},
     "output_type": "execute_result"
    }
   ],
   "source": [
    "sambastudio_utils.gen_data_prep_pipeline(\n",
    "    input_files = os.path.join(repo_dir, \"fine_tuning_sql\", \"data\" , \"pre-training\", \"pretrain-squad-smol-sql.jsonl\"), # set with your jsonl path or list of jsonl file paths\n",
    "    output_path = os.path.join(current_dir,\"sambastudio_fine_tuning_dataset\"),\n",
    "    tokenizer = \"meta-llama/Llama-2-7b-hf\",\n",
    "    max_seq_length = 4096,\n",
    "    )"
   ]
  },
  {
   "cell_type": "markdown",
   "metadata": {},
   "source": [
    "### Dataset Upload"
   ]
  },
  {
   "cell_type": "code",
   "execution_count": 3,
   "metadata": {},
   "outputs": [
    {
     "name": "stderr",
     "output_type": "stream",
     "text": [
      "2024-07-24 17:38:39,286 [INFO] App with name 'Mistral' found with id ab46c162-ff57-4700-beae-3ded6065ee7a\n",
      "2024-07-24 17:38:39,463 [INFO] App with name 'Llama 3' found with id ad39e323-9878-4914-8e29-82c9f2939475\n",
      "2024-07-24 17:38:39,657 [INFO] App with name 'Llama 2 with dynamic batching' found with id 2a633d60-ed93-47e8-b2d4-3a5aa345e320\n",
      "2024-07-24 17:38:39,858 [INFO] App with name 'Llama 2 7B' found with id ec012370-6ffa-4a3a-b230-2c62613f1d89\n",
      "2024-07-24 17:38:40,038 [INFO] App with name 'Llama 2 70B with dynamic batching' found with id 0b5871de-f335-43c6-a718-1300c1ef02b8\n",
      "2024-07-24 17:38:40,216 [INFO] App with name 'Llama 2 70B' found with id 82254d3b-7239-458b-9da8-da1aca9b7fba\n",
      "2024-07-24 17:38:40,395 [INFO] App with name 'Llama 2 13B' found with id 1bf617cb-8afb-4bbd-b92f-c15ebfdca10b\n",
      "2024-07-24 17:38:40,672 [INFO] Dataset with name 'smol_sql_dataset' not found\n",
      "2024-07-24 17:41:22,226 [INFO] Dataset with name 'smol_sql_dataset' found with id 411c9192-509d-4044-8929-b0cedb4fcd43\n",
      "2024-07-24 17:41:22,227 [INFO] Dataset with name 'smol_sql_dataset' created: '\n",
      "Folder Information:\n",
      "  - Number of Files: 72\n",
      "  - Total Size: 209.28 MB\n",
      "\n",
      "Are you sure you want to proceed? (\u001b[33myes\u001b[0m/no)\n",
      ": Uploading files\n",
      "Dataset folder upload complete: /Users/jorgep/Documents/ask_public_own/ai-starter-kit/fine_tuning_sql/data/output/pretrain-squad-smol-sql\n",
      "Dataset added successfully.\n",
      "Time taken to upload the dataset: 158.30459475517273 seconds\n",
      "'\n"
     ]
    },
    {
     "data": {
      "text/plain": [
       "'411c9192-509d-4044-8929-b0cedb4fcd43'"
      ]
     },
     "execution_count": 3,
     "metadata": {},
     "output_type": "execute_result"
    }
   ],
   "source": [
    "sambastudio_wrapper.create_dataset()"
   ]
  },
  {
   "cell_type": "code",
   "execution_count": 4,
   "metadata": {},
   "outputs": [
    {
     "data": {
      "text/plain": [
       "[{'id': '1ea54b9c-f1f6-49d4-91f6-e230eec7c259',\n",
       "  'dataset_name': 'Caltech_256_Clip'},\n",
       " {'id': '7198371d-0f70-4287-8645-8e3807782d30',\n",
       "  'dataset_name': 'Coding_Generative_Inference_Dataset'},\n",
       " {'id': '0e277df5-0b7e-45a7-874e-c5b10364c0fe',\n",
       "  'dataset_name': 'Coding_Generative_Train_4k_SS_Dataset'},\n",
       " {'id': '69d0d494-bc0a-4e1c-8dd3-84b1f55b0098', 'dataset_name': 'FiQA'},\n",
       " {'id': '17be1fa1-2ed2-4503-9ccc-99be2c905010',\n",
       "  'dataset_name': 'Generative_Inference_Dataset'},\n",
       " {'id': '9bac6a44-92b2-40ac-9a4d-ba72038ac27b',\n",
       "  'dataset_name': 'GPT_13B_8k_SS_Toy_Training_Dataset'},\n",
       " {'id': '6090aaa0-85ef-469f-ad2d-7bf1a5f47f1f',\n",
       "  'dataset_name': 'GPT_13B_Inference_Dataset'},\n",
       " {'id': '894dd158-9552-11ed-a1eb-0242ac120002',\n",
       "  'dataset_name': 'GPT_13B_Training_Dataset'},\n",
       " {'id': 'f66434c5-4944-48a8-81c9-6eb7fca7e4b9',\n",
       "  'dataset_name': 'GPT_1.5B_Inference_Dataset'},\n",
       " {'id': 'd8e19905-bd36-4469-b13b-51da48b62e75',\n",
       "  'dataset_name': 'GPT_1.5B_Training_Dataset'},\n",
       " {'id': 'f0971f8b-bcc3-401f-b107-47c67a2f846e', 'dataset_name': 'Librispeech'},\n",
       " {'id': '3cb49e90-d544-4f2d-945a-5b34ae64cc67',\n",
       "  'dataset_name': 'Mistral_Tokenized_Copa'},\n",
       " {'id': '8f30e146-5871-4cf4-85cf-7d96bf5255ac',\n",
       "  'dataset_name': 'openthaigpt_50k_IT0913'},\n",
       " {'id': 'b9dda5a7-c0d3-4d34-aa84-6b893c0abf5c',\n",
       "  'dataset_name': 'openwebtext_ss4096_32k_vocab'},\n",
       " {'id': '327cbf89-9003-4b5b-a524-68e69dc2ad2f',\n",
       "  'dataset_name': 'Restore_Punctuation_Data'},\n",
       " {'id': '4607b18f-afcc-4d44-8403-14a5ca5f1abe',\n",
       "  'dataset_name': 'Speaker_Diarization'},\n",
       " {'id': 'b53ff7b7-bf63-4dbd-919e-33b36b2ba11f',\n",
       "  'dataset_name': 'Super_Glue_4k_SS'},\n",
       " {'id': '8563e297-3572-4983-811f-6ca39d675e5a',\n",
       "  'dataset_name': 'Super_Glue_16k_SS'},\n",
       " {'id': '6df71c1a-12bd-4a28-8320-a3768304cc54',\n",
       "  'dataset_name': 'E5_Large_V2_Inference_Example'},\n",
       " {'id': '5ec01dbd-821c-445d-b1e7-0aefd0d0cedc',\n",
       "  'dataset_name': 'thai-dpo-sft-ss4k'},\n",
       " {'id': 'd6239b19-4a07-48dc-81f1-16fbf062f35f',\n",
       "  'dataset_name': 'Super_Glue_8k_SS_128k_vocab'},\n",
       " {'id': '60945b54-2402-4f81-b274-08704e928d83',\n",
       "  'dataset_name': 'nstext2sql_sql_fine_tuning'},\n",
       " {'id': '067dbb19-0749-4fb1-b79d-c613ac45dc8d',\n",
       "  'dataset_name': 'smol_sql_pretraining'},\n",
       " {'id': '67158817-cb09-4532-a4e2-eb170a8b1b69',\n",
       "  'dataset_name': 'nstext2sql_sql_fine_tuning_mm'},\n",
       " {'id': 'd80f6355-af9d-406b-95c5-c31854f36f2c',\n",
       "  'dataset_name': 'smol_sql_pretraining_mm'},\n",
       " {'id': '411c9192-509d-4044-8929-b0cedb4fcd43',\n",
       "  'dataset_name': 'smol_sql_dataset'}]"
      ]
     },
     "execution_count": 4,
     "metadata": {},
     "output_type": "execute_result"
    }
   ],
   "source": [
    "sambastudio_wrapper.list_datasets()"
   ]
  },
  {
   "cell_type": "markdown",
   "metadata": {},
   "source": [
    "### Project creation"
   ]
  },
  {
   "cell_type": "code",
   "execution_count": 10,
   "metadata": {},
   "outputs": [
    {
     "name": "stderr",
     "output_type": "stream",
     "text": [
      "2024-07-24 17:44:22,297 [INFO] Project with name 'example project' found with id 51b1fe13-dcdb-41e3-8a78-514da36937c8\n",
      "2024-07-24 17:44:22,297 [INFO] Project with name 'example project' already exists with id '51b1fe13-dcdb-41e3-8a78-514da36937c8', using it\n"
     ]
    },
    {
     "data": {
      "text/plain": [
       "'51b1fe13-dcdb-41e3-8a78-514da36937c8'"
      ]
     },
     "execution_count": 10,
     "metadata": {},
     "output_type": "execute_result"
    }
   ],
   "source": [
    "sambastudio_wrapper.create_project()"
   ]
  },
  {
   "cell_type": "code",
   "execution_count": 11,
   "metadata": {},
   "outputs": [
    {
     "data": {
      "text/plain": [
       "[{'project_name': 'Benchmarking_Llama7b',\n",
       "  'project_id': '8d752994-bfd1-4eee-98a8-9ca0d50b8b37',\n",
       "  'status': 'Available',\n",
       "  'user_id': 'amit.kushwaha'},\n",
       " {'project_name': 'example project',\n",
       "  'project_id': '51b1fe13-dcdb-41e3-8a78-514da36937c8',\n",
       "  'status': 'Available',\n",
       "  'user_id': 'jorge.piedrahita'},\n",
       " {'project_name': 'kit_testing',\n",
       "  'project_id': '3c1dd70d-9976-4c58-9f82-873d01ebeb3e',\n",
       "  'status': 'Available',\n",
       "  'user_id': 'luis.salazar'},\n",
       " {'project_name': 'Shared',\n",
       "  'project_id': 'b9896d2e-5054-4937-978f-67413104d6ba',\n",
       "  'status': 'Available',\n",
       "  'user_id': 'varun.krishna'},\n",
       " {'project_name': 'SNSDK-E2E-Finetuning_Embeddings-Project',\n",
       "  'project_id': 'e2d0c5dc-894e-461a-9730-a814904db9f7',\n",
       "  'status': 'Available',\n",
       "  'user_id': 'rodrigo.maldonado'},\n",
       " {'project_name': 'Test_Finetune_Embeddings',\n",
       "  'project_id': '6f1d50bc-cd1b-4574-b901-70fe929f5aa4',\n",
       "  'status': 'Available',\n",
       "  'user_id': 'francesca.raimondi'}]"
      ]
     },
     "execution_count": 11,
     "metadata": {},
     "output_type": "execute_result"
    }
   ],
   "source": [
    "sambastudio_wrapper.list_projects()"
   ]
  },
  {
   "cell_type": "markdown",
   "metadata": {},
   "source": [
    "### Training Job creation"
   ]
  },
  {
   "cell_type": "code",
   "execution_count": 3,
   "metadata": {},
   "outputs": [
    {
     "name": "stderr",
     "output_type": "stream",
     "text": [
      "2024-07-24 17:45:25,313 [INFO] Project with name 'example project' found with id 51b1fe13-dcdb-41e3-8a78-514da36937c8\n",
      "2024-07-24 17:45:26,286 [INFO] Model 'Llama-2-7b-chat-hf' with id '6090d4ac-a7bd-4c46-b417-7f8e42cf7bdb' available for training and deployment found\n",
      "2024-07-24 17:45:26,535 [INFO] Dataset with name 'smol_sql_dataset' found with id 411c9192-509d-4044-8929-b0cedb4fcd43\n",
      "2024-07-24 17:45:26,790 [INFO] Job with name 'snsdk_test_job2' created: '{'job_id': '7c1459bc-2f0c-44ef-bee1-5aa804109199', 'job_name': 'snsdk_test_job2', 'job_type': 'train', 'user_id': 'jorge.piedrahita', 'project_id': '51b1fe13-dcdb-41e3-8a78-514da36937c8', 'tenant_id': '41ceaded-9f08-47ae-aa02-15f39c899618', 'rdu_arch': 'sn20', 'result_path': '', 'parallel_instances': 1, 'app_id': 'ec012370-6ffa-4a3a-b230-2c62613f1d89', 'model_checkpoint': '6090d4ac-a7bd-4c46-b417-7f8e42cf7bdb', 'checkpoint_id': '', 'dataset_id': '411c9192-509d-4044-8929-b0cedb4fcd43', 'description': 'snsdk test training project', 'status': 'CREATED', 'image_version': '', 'variant_set_version': '', 'variant_name': '', 'project_name': '', 'dataset_name': '', 'input_data_path': '', 'hyperparams': {'batch_size': '256', 'debug_mode': 'false', 'do_eval': 'false', 'dump_inputs': 'false', 'eval_steps': '50', 'evaluation_strategy': 'no', 'fix_rank_rdu_mapping': 'false', 'learning_rate': '0.00001', 'logging_steps': '1', 'lr_schedule': 'fixed_lr', 'max_seq_length': '4096', 'max_sequence_length': '4096', 'num_iterations': '100', 'prompt_loss_weight': '0', 'save_optimizer_state': 'true', 'save_steps': '50', 'skip_checkpoint': 'false', 'sockets': '1', 'subsample_eval': '0.01', 'subsample_eval_seed': '123', 'use_token_type_ids': 'true', 'vocab_size': '32000', 'warmup_steps': '0', 'weight_decay': '0.1'}, 'config': {'batch_size': '256', 'debug_mode': 'false', 'do_eval': 'false', 'dump_inputs': 'false', 'eval_steps': '50', 'evaluation_strategy': 'no', 'fix_rank_rdu_mapping': 'false', 'learning_rate': '0.00001', 'logging_steps': '1', 'lr_schedule': 'fixed_lr', 'max_seq_length': '4096', 'max_sequence_length': '4096', 'num_iterations': '100', 'prompt_loss_weight': '0', 'save_optimizer_state': 'true', 'save_steps': '50', 'skip_checkpoint': 'false', 'sockets': '1', 'subsample_eval': '0.01', 'subsample_eval_seed': '123', 'use_token_type_ids': 'true', 'vocab_size': '32000', 'warmup_steps': '0', 'weight_decay': '0.1'}, 'time_created': '2024-07-24T22:45:26.833841000Z', 'time_updated': '2024-07-24T22:45:26.833841000Z', 'load_state': False, 'app_name': '', 'environment_variables': '', 'status_code': 200}'\n"
     ]
    },
    {
     "data": {
      "text/plain": [
       "'7c1459bc-2f0c-44ef-bee1-5aa804109199'"
      ]
     },
     "execution_count": 3,
     "metadata": {},
     "output_type": "execute_result"
    }
   ],
   "source": [
    "sambastudio_wrapper.run_job()"
   ]
  },
  {
   "cell_type": "code",
   "execution_count": 3,
   "metadata": {},
   "outputs": [
    {
     "name": "stderr",
     "output_type": "stream",
     "text": [
      "2024-07-24 17:49:41,937 [INFO] Project with name 'example project' found with id 51b1fe13-dcdb-41e3-8a78-514da36937c8\n",
      "2024-07-24 17:49:42,198 [INFO] Project with name 'example project' found with id 51b1fe13-dcdb-41e3-8a78-514da36937c8\n",
      "2024-07-24 17:49:42,450 [INFO] Job with name 'snsdk_test_job' in project 'example project' found with id '385632fa-284c-42a2-892a-b1bfb6161a7e'\n",
      "2024-07-24 17:49:42,730 [ERROR] Failed to check job progress. Details: {'detail': 'view job action not authorized for the user', 'status_code': 403}\n"
     ]
    },
    {
     "ename": "Exception",
     "evalue": "Error message: {'detail': 'view job action not authorized for the user', 'status_code': 403}",
     "output_type": "error",
     "traceback": [
      "\u001b[0;31m---------------------------------------------------------------------------\u001b[0m",
      "\u001b[0;31mException\u001b[0m                                 Traceback (most recent call last)",
      "Cell \u001b[0;32mIn[3], line 1\u001b[0m\n\u001b[0;32m----> 1\u001b[0m \u001b[43msambastudio_wrapper\u001b[49m\u001b[38;5;241;43m.\u001b[39;49m\u001b[43mcheck_job_progress\u001b[49m\u001b[43m(\u001b[49m\u001b[43m)\u001b[49m\n",
      "File \u001b[0;32m~/Documents/ask_public_own/ai-starter-kit/utils/fine_tuning/src/snsdk_wrapper.py:1037\u001b[0m, in \u001b[0;36mSnsdkWrapper.check_job_progress\u001b[0;34m(self, project_name, job_name)\u001b[0m\n\u001b[1;32m   1035\u001b[0m \u001b[38;5;28;01melse\u001b[39;00m:\n\u001b[1;32m   1036\u001b[0m     logging\u001b[38;5;241m.\u001b[39merror(\u001b[38;5;124mf\u001b[39m\u001b[38;5;124m'\u001b[39m\u001b[38;5;124mFailed to check job progress. Details: \u001b[39m\u001b[38;5;132;01m{\u001b[39;00mcheck_job_progress_response\u001b[38;5;132;01m}\u001b[39;00m\u001b[38;5;124m'\u001b[39m)\n\u001b[0;32m-> 1037\u001b[0m     \u001b[38;5;28;01mraise\u001b[39;00m \u001b[38;5;167;01mException\u001b[39;00m(\u001b[38;5;124mf\u001b[39m\u001b[38;5;124m'\u001b[39m\u001b[38;5;124mError message: \u001b[39m\u001b[38;5;132;01m{\u001b[39;00mcheck_job_progress_response\u001b[38;5;132;01m}\u001b[39;00m\u001b[38;5;124m'\u001b[39m)\n",
      "\u001b[0;31mException\u001b[0m: Error message: {'detail': 'view job action not authorized for the user', 'status_code': 403}"
     ]
    }
   ],
   "source": [
    "sambastudio_wrapper.check_job_progress()"
   ]
  },
  {
   "cell_type": "markdown",
   "metadata": {},
   "source": [
    "### Model Checkpoint promotion"
   ]
  },
  {
   "cell_type": "code",
   "execution_count": 4,
   "metadata": {},
   "outputs": [
    {
     "name": "stderr",
     "output_type": "stream",
     "text": [
      "2024-07-24 17:49:51,596 [INFO] Project with name 'example project' found with id 51b1fe13-dcdb-41e3-8a78-514da36937c8\n",
      "2024-07-24 17:49:51,844 [INFO] Project with name 'example project' found with id 51b1fe13-dcdb-41e3-8a78-514da36937c8\n",
      "2024-07-24 17:49:52,093 [INFO] Job with name 'snsdk_test_job' in project 'example project' found with id '385632fa-284c-42a2-892a-b1bfb6161a7e'\n",
      "2024-07-24 17:49:52,364 [ERROR] Failed to list checkpoints. Details: {'detail': 'view checkpoints action not authorized for the user', 'status_code': 403}\n"
     ]
    },
    {
     "ename": "Exception",
     "evalue": "Error message: {'detail': 'view checkpoints action not authorized for the user', 'status_code': 403}",
     "output_type": "error",
     "traceback": [
      "\u001b[0;31m---------------------------------------------------------------------------\u001b[0m",
      "\u001b[0;31mException\u001b[0m                                 Traceback (most recent call last)",
      "Cell \u001b[0;32mIn[4], line 1\u001b[0m\n\u001b[0;32m----> 1\u001b[0m \u001b[43msambastudio_wrapper\u001b[49m\u001b[38;5;241;43m.\u001b[39;49m\u001b[43mlist_checkpoints\u001b[49m\u001b[43m(\u001b[49m\u001b[43m)\u001b[49m\n",
      "File \u001b[0;32m~/Documents/ask_public_own/ai-starter-kit/utils/fine_tuning/src/snsdk_wrapper.py:1185\u001b[0m, in \u001b[0;36mSnsdkWrapper.list_checkpoints\u001b[0;34m(self, project_name, job_name, verbose)\u001b[0m\n\u001b[1;32m   1183\u001b[0m \u001b[38;5;28;01melse\u001b[39;00m:\n\u001b[1;32m   1184\u001b[0m     logging\u001b[38;5;241m.\u001b[39merror(\u001b[38;5;124mf\u001b[39m\u001b[38;5;124m'\u001b[39m\u001b[38;5;124mFailed to list checkpoints. Details: \u001b[39m\u001b[38;5;132;01m{\u001b[39;00mlist_checkpoints_response\u001b[38;5;132;01m}\u001b[39;00m\u001b[38;5;124m'\u001b[39m)\n\u001b[0;32m-> 1185\u001b[0m     \u001b[38;5;28;01mraise\u001b[39;00m \u001b[38;5;167;01mException\u001b[39;00m(\u001b[38;5;124mf\u001b[39m\u001b[38;5;124m'\u001b[39m\u001b[38;5;124mError message: \u001b[39m\u001b[38;5;132;01m{\u001b[39;00mlist_checkpoints_response\u001b[38;5;132;01m}\u001b[39;00m\u001b[38;5;124m'\u001b[39m)\n",
      "\u001b[0;31mException\u001b[0m: Error message: {'detail': 'view checkpoints action not authorized for the user', 'status_code': 403}"
     ]
    }
   ],
   "source": [
    "sambastudio_wrapper.list_checkpoints()"
   ]
  },
  {
   "cell_type": "code",
   "execution_count": 5,
   "metadata": {},
   "outputs": [
    {
     "name": "stderr",
     "output_type": "stream",
     "text": [
      "2024-07-24 17:50:05,329 [INFO] Project with name 'example project' found with id 51b1fe13-dcdb-41e3-8a78-514da36937c8\n",
      "2024-07-24 17:50:05,596 [INFO] Project with name 'example project' found with id 51b1fe13-dcdb-41e3-8a78-514da36937c8\n",
      "2024-07-24 17:50:05,846 [INFO] Job with name 'snsdk_test_job' in project 'example project' found with id '385632fa-284c-42a2-892a-b1bfb6161a7e'\n",
      "2024-07-24 17:50:06,122 [ERROR] Failed to promote checkpoint '385632fa-284c-42a2-892a-b1bfb6161a7e-50' to model. Details: {'detail': 'checkpoint promote action is not authorized for the user', 'status_code': 403}\n"
     ]
    },
    {
     "ename": "Exception",
     "evalue": "Error message: {'detail': 'checkpoint promote action is not authorized for the user', 'status_code': 403}",
     "output_type": "error",
     "traceback": [
      "\u001b[0;31m---------------------------------------------------------------------------\u001b[0m",
      "\u001b[0;31mException\u001b[0m                                 Traceback (most recent call last)",
      "Cell \u001b[0;32mIn[5], line 2\u001b[0m\n\u001b[1;32m      1\u001b[0m checkpoint_id \u001b[38;5;241m=\u001b[39m \u001b[38;5;124m\"\u001b[39m\u001b[38;5;124m385632fa-284c-42a2-892a-b1bfb6161a7e-50\u001b[39m\u001b[38;5;124m\"\u001b[39m\n\u001b[0;32m----> 2\u001b[0m \u001b[43msambastudio_wrapper\u001b[49m\u001b[38;5;241;43m.\u001b[39;49m\u001b[43mpromote_checkpoint\u001b[49m\u001b[43m(\u001b[49m\u001b[43mcheckpoint_id\u001b[49m\u001b[43m)\u001b[49m\n",
      "File \u001b[0;32m~/Documents/ask_public_own/ai-starter-kit/utils/fine_tuning/src/snsdk_wrapper.py:1273\u001b[0m, in \u001b[0;36mSnsdkWrapper.promote_checkpoint\u001b[0;34m(self, checkpoint_id, project_name, job_name, model_name, model_description, model_type)\u001b[0m\n\u001b[1;32m   1269\u001b[0m     \u001b[38;5;66;03m# TODO test blocked because of authorization error\u001b[39;00m\n\u001b[1;32m   1270\u001b[0m     \u001b[38;5;66;03m# return model_id\u001b[39;00m\n\u001b[1;32m   1271\u001b[0m \u001b[38;5;28;01melse\u001b[39;00m:\n\u001b[1;32m   1272\u001b[0m     logging\u001b[38;5;241m.\u001b[39merror(\u001b[38;5;124mf\u001b[39m\u001b[38;5;124m\"\u001b[39m\u001b[38;5;124mFailed to promote checkpoint \u001b[39m\u001b[38;5;124m'\u001b[39m\u001b[38;5;132;01m{\u001b[39;00mcheckpoint_id\u001b[38;5;132;01m}\u001b[39;00m\u001b[38;5;124m'\u001b[39m\u001b[38;5;124m to model. Details: \u001b[39m\u001b[38;5;132;01m{\u001b[39;00madd_model_response\u001b[38;5;132;01m}\u001b[39;00m\u001b[38;5;124m\"\u001b[39m)\n\u001b[0;32m-> 1273\u001b[0m     \u001b[38;5;28;01mraise\u001b[39;00m \u001b[38;5;167;01mException\u001b[39;00m(\u001b[38;5;124mf\u001b[39m\u001b[38;5;124m'\u001b[39m\u001b[38;5;124mError message: \u001b[39m\u001b[38;5;132;01m{\u001b[39;00madd_model_response\u001b[38;5;132;01m}\u001b[39;00m\u001b[38;5;124m'\u001b[39m)\n",
      "\u001b[0;31mException\u001b[0m: Error message: {'detail': 'checkpoint promote action is not authorized for the user', 'status_code': 403}"
     ]
    }
   ],
   "source": [
    "checkpoint_id = \"385632fa-284c-42a2-892a-b1bfb6161a7e-50\"\n",
    "sambastudio_wrapper.promote_checkpoint(checkpoint_id)"
   ]
  },
  {
   "cell_type": "code",
   "execution_count": 6,
   "metadata": {},
   "outputs": [
    {
     "data": {
      "text/plain": [
       "[{'model_id': '47ee0428-f9f8-6d8c-d02e-1ac778b83eb9',\n",
       "  'model_checkpoint_name': 'CLIP ViT-B-32 Backbone (Deprecated)'},\n",
       " {'model_id': '35dfd99d-888b-4331-b78a-ea5c744224ad',\n",
       "  'model_checkpoint_name': 'GPT_1.5B_Dialog_Act_Classification_Finetuned'},\n",
       " {'model_id': 'cb800e99-809b-42d2-a6e2-11b3707ef433',\n",
       "  'model_checkpoint_name': 'GPT_13B_Human_Aligned_Instruction_Tuned_V2'},\n",
       " {'model_id': '0d3a9c87-99e8-4d22-af39-05ab91b84238',\n",
       "  'model_checkpoint_name': 'GPT_13B_Generative_Inference'},\n",
       " {'model_id': 'c7be342b-208b-4393-b5c2-496aa54eb917',\n",
       "  'model_checkpoint_name': 'GPT13B 2k SS HAv3'},\n",
       " {'model_id': '3cac564a-e822-46fb-a128-1ab34a9d93ed',\n",
       "  'model_checkpoint_name': 'GPT13B 2k SS ITv3'},\n",
       " {'model_id': '673ea90a-3d25-43ed-9965-55c393e91ddc',\n",
       "  'model_checkpoint_name': 'GPT_1.5B_GT_Finetuned'},\n",
       " {'model_id': '877fa680-b45f-4fff-a57a-0a3fcd2d0fd7',\n",
       "  'model_checkpoint_name': 'GPT13B 8k SS HAv3'},\n",
       " {'model_id': 'c60a7f67-d9b2-46fd-9c9b-d3f02fb2b6e0',\n",
       "  'model_checkpoint_name': 'GPT13B 8k SS ITv3'},\n",
       " {'model_id': '67461a4d-0140-4239-8584-772bb6998e2e',\n",
       "  'model_checkpoint_name': 'GPT 13B 8k SS SN Pretrained'},\n",
       " {'model_id': 'a306fe34-f7ad-4c92-b51d-04bf772dcf44',\n",
       "  'model_checkpoint_name': 'GPT_13B_Instruction_Tuned_V2'},\n",
       " {'model_id': '157ce015-19cc-4538-addf-10cf620a33f6',\n",
       "  'model_checkpoint_name': 'GPT_13B_Dialog_Summarization_Finetuned'},\n",
       " {'model_id': '08902fc2-b11d-42f9-9d39-2d5832c17e09',\n",
       "  'model_checkpoint_name': 'GPT_1.5B_GT_Pretrained'},\n",
       " {'model_id': 'ea03da97-7162-47c3-942b-0b13687e16b5',\n",
       "  'model_checkpoint_name': 'Llama-2-13b-chat-hf'},\n",
       " {'model_id': 'e35bd321-209a-4112-bd4f-8415c20de6de',\n",
       "  'model_checkpoint_name': 'Llama-2-13b-hf'},\n",
       " {'model_id': '8dd301fa-b79b-40a7-b795-1f356be17fe3',\n",
       "  'model_checkpoint_name': 'Llama-2-7b-hf'},\n",
       " {'model_id': 'efbdff4b-0db7-46de-a5d2-2d21cf7ef833',\n",
       "  'model_checkpoint_name': 'Llama-2-7b-16k-hf'},\n",
       " {'model_id': 'be1ff942-1771-4c3f-b282-ec934e6d6345',\n",
       "  'model_checkpoint_name': 'Llama-2-7b-chat-16k-hf'},\n",
       " {'model_id': '3f2da53d-703c-462e-b232-770b2dda466e',\n",
       "  'model_checkpoint_name': 'LlamaGuard_7b'},\n",
       " {'model_id': '135ea78e-8c21-4693-9f89-f04cab6544c9',\n",
       "  'model_checkpoint_name': 'NSQL-Llama-2-7B'},\n",
       " {'model_id': 'db9ef7f0-a382-11ed-a8fc-0242ac120002',\n",
       "  'model_checkpoint_name': 'GPT_1.5B_NER_Finetuned'},\n",
       " {'model_id': '4ed0fef5-63cf-443a-8f9d-6c0437ee803b',\n",
       "  'model_checkpoint_name': 'Llama-2-7b-chat-80k-hf'},\n",
       " {'model_id': 'ee2e89dc-06ce-49ba-83d0-17bf70ef8486',\n",
       "  'model_checkpoint_name': 'bert-qa'},\n",
       " {'model_id': '2fed8f06-4f6c-41c7-97a1-eda878f8f4ab',\n",
       "  'model_checkpoint_name': 'Bert_Base'},\n",
       " {'model_id': 'cd9d5e63-3836-4f3e-971a-b115870cd96c',\n",
       "  'model_checkpoint_name': 'Speaker_Diarization'},\n",
       " {'model_id': '47c0113c-4b20-4adf-bde3-be585be8b723',\n",
       "  'model_checkpoint_name': 'Hubert_ASR'},\n",
       " {'model_id': '79b4bbdb-e40a-4eb0-a495-07a64393cc1f',\n",
       "  'model_checkpoint_name': 'CLIP-ViT-B-32-laion2B-s34B-b79k-v2'},\n",
       " {'model_id': '39300da3-7f6a-4f7d-a365-67b4e32b6573',\n",
       "  'model_checkpoint_name': 'CLIP-ViT-B-32-laion2B-s34B-b79k'},\n",
       " {'model_id': 'c828d8d6-bbc6-4315-8573-014a183ffa58',\n",
       "  'model_checkpoint_name': 'llama2_7b_fine_tuned_nstext2sql'},\n",
       " {'model_id': '6090d4ac-a7bd-4c46-b417-7f8e42cf7bdb',\n",
       "  'model_checkpoint_name': 'Llama-2-7b-chat-hf'},\n",
       " {'model_id': '5ec326b1-be32-4fce-b335-74097eb3409c',\n",
       "  'model_checkpoint_name': 'Llama-2-7b-80k-hf'},\n",
       " {'model_id': 'eaf458c5-25d2-4b16-9b94-75d8801f6d8c',\n",
       "  'model_checkpoint_name': 'Llama-2-7b-sambalingo-thai-base-hf'},\n",
       " {'model_id': '2a12977a-dfd3-41ea-b6b8-e4bb2a9ab04a',\n",
       "  'model_checkpoint_name': 'E5 Large V2'}]"
      ]
     },
     "execution_count": 6,
     "metadata": {},
     "output_type": "execute_result"
    }
   ],
   "source": [
    "sambastudio_wrapper.list_models(filter=[\"deploy\"])"
   ]
  },
  {
   "cell_type": "markdown",
   "metadata": {},
   "source": [
    "### Endpoint creation"
   ]
  },
  {
   "cell_type": "code",
   "execution_count": 8,
   "metadata": {},
   "outputs": [
    {
     "name": "stderr",
     "output_type": "stream",
     "text": [
      "2024-07-24 17:52:26,578 [INFO] Project with name 'example project' found with id 51b1fe13-dcdb-41e3-8a78-514da36937c8\n",
      "2024-07-24 17:52:26,851 [INFO] Model with name 'llama2_7b_fine_tuned_nstext2sql' found with id c828d8d6-bbc6-4315-8573-014a183ffa58\n",
      "2024-07-24 17:52:27,059 [INFO] Endpoint with name 'test-endpoint-sql' not found in project '51b1fe13-dcdb-41e3-8a78-514da36937c8'\n",
      "2024-07-24 17:52:27,303 [INFO] Endpoint 'test-endpoint-sql' created\n"
     ]
    },
    {
     "data": {
      "text/plain": [
       "'2cc9e176-001d-407c-8170-010dcad06555'"
      ]
     },
     "execution_count": 8,
     "metadata": {},
     "output_type": "execute_result"
    }
   ],
   "source": [
    "sambastudio_wrapper.create_endpoint()"
   ]
  },
  {
   "cell_type": "code",
   "execution_count": 10,
   "metadata": {},
   "outputs": [
    {
     "name": "stderr",
     "output_type": "stream",
     "text": [
      "2024-07-24 17:53:02,674 [INFO] Project with name 'example project' found with id 51b1fe13-dcdb-41e3-8a78-514da36937c8\n"
     ]
    },
    {
     "data": {
      "text/plain": [
       "{'status': 'SettingUp',\n",
       " 'url': '/api/predict/generic/51b1fe13-dcdb-41e3-8a78-514da36937c8/2cc9e176-001d-407c-8170-010dcad06555',\n",
       " 'langchain wrapper env': {'SAMBASTUDIO_BASE_URL': 'https://sjc3-demo1.sambanova.net',\n",
       "  'SAMBASTUDIO_BASE_URI': 'api/predict/generic',\n",
       "  'SAMBASTUDIO_PROJECT_ID': '51b1fe13-dcdb-41e3-8a78-514da36937c8',\n",
       "  'SAMBASTUDIO_ENDPOINT_ID': '2cc9e176-001d-407c-8170-010dcad06555',\n",
       "  'SAMBASTUDIO_API_KEY': '4561018c-5e67-4ebb-8aa9-c2c0a859ed09'}}"
      ]
     },
     "execution_count": 10,
     "metadata": {},
     "output_type": "execute_result"
    }
   ],
   "source": [
    "sambastudio_wrapper.get_endpoint_details()"
   ]
  },
  {
   "cell_type": "markdown",
   "metadata": {},
   "source": [
    "## Wrapper usage without config file"
   ]
  },
  {
   "cell_type": "code",
   "execution_count": 2,
   "metadata": {},
   "outputs": [
    {
     "name": "stderr",
     "output_type": "stream",
     "text": [
      "2024-07-24 18:01:08,584 [INFO] Using variables from Snapi config to set up Snsdk.\n"
     ]
    }
   ],
   "source": [
    "sambastudio_wrapper = SnsdkWrapper()"
   ]
  },
  {
   "cell_type": "markdown",
   "metadata": {},
   "source": [
    "### Dataset preparation"
   ]
  },
  {
   "cell_type": "code",
   "execution_count": null,
   "metadata": {},
   "outputs": [],
   "source": [
    "dataset_path =sambastudio_utils.gen_data_prep_pipeline(\n",
    "    input_files = os.path.join(repo_dir, \"fine_tuning_sql\", \"data\" , \"pre-training\", \"pretrain-squad-smol-sql.jsonl\"), # set with your jsonl path or list of jsonl file paths\n",
    "    output_path = os.path.join(current_dir,\"sambastudio_fine_tuning_dataset\"),\n",
    "    tokenizer = \"meta-llama/Llama-2-7b-hf\",\n",
    "    max_seq_length = 4096,\n",
    "    )"
   ]
  },
  {
   "cell_type": "markdown",
   "metadata": {},
   "source": [
    "### Dataset Upload"
   ]
  },
  {
   "cell_type": "code",
   "execution_count": 13,
   "metadata": {},
   "outputs": [
    {
     "name": "stderr",
     "output_type": "stream",
     "text": [
      "2024-07-24 17:56:56,566 [INFO] App with name 'Mistral' found with id ab46c162-ff57-4700-beae-3ded6065ee7a\n",
      "2024-07-24 17:56:56,745 [INFO] App with name 'Llama 3' found with id ad39e323-9878-4914-8e29-82c9f2939475\n",
      "2024-07-24 17:56:56,919 [INFO] App with name 'Llama 2 with dynamic batching' found with id 2a633d60-ed93-47e8-b2d4-3a5aa345e320\n",
      "2024-07-24 17:56:57,104 [INFO] App with name 'Llama 2 7B' found with id ec012370-6ffa-4a3a-b230-2c62613f1d89\n",
      "2024-07-24 17:56:57,286 [INFO] App with name 'Llama 2 70B with dynamic batching' found with id 0b5871de-f335-43c6-a718-1300c1ef02b8\n",
      "2024-07-24 17:56:57,464 [INFO] App with name 'Llama 2 70B' found with id 82254d3b-7239-458b-9da8-da1aca9b7fba\n",
      "2024-07-24 17:56:57,676 [INFO] App with name 'Llama 2 13B' found with id 1bf617cb-8afb-4bbd-b92f-c15ebfdca10b\n",
      "2024-07-24 17:56:57,928 [INFO] Dataset with name 'smol_sql_pretraining_mm' found with id d80f6355-af9d-406b-95c5-c31854f36f2c\n",
      "2024-07-24 17:56:57,929 [INFO] Dataset with name 'smol_sql_pretraining_mm' already exists with id 'd80f6355-af9d-406b-95c5-c31854f36f2c', using it\n"
     ]
    },
    {
     "data": {
      "text/plain": [
       "'d80f6355-af9d-406b-95c5-c31854f36f2c'"
      ]
     },
     "execution_count": 13,
     "metadata": {},
     "output_type": "execute_result"
    }
   ],
   "source": [
    "sambastudio_wrapper.create_dataset(\n",
    "    dataset_name = \"smol_sql_pretraining_mm\",\n",
    "    dataset_description = \"test_dataset for sql finetuning\",\n",
    "    dataset_path = dataset_path,\n",
    "    dataset_job_types = [\"evaluation\", \"train\"],\n",
    "    dataset_apps_availability = ['Mistral', 'Llama 3', 'Llama 2 with dynamic batching', 'Llama 2 7B', 'Llama 2 70B with dynamic batching', 'Llama 2 70B', 'Llama 2 13B'],\n",
    "    dataset_source_type = \"localMachine\",\n",
    "    dataset_language = \"english\",\n",
    "    dataset_filetype = \"hdf5\",\n",
    "    dataset_url = \"\",\n",
    "    dataset_metadata={\n",
    "        \"labels_file\": \"\",\n",
    "        \"train_filepath\": \"\",\n",
    "        \"validation_filepath\": \"\",\n",
    "        \"test_filepath\": \"\"\n",
    "    }\n",
    ")"
   ]
  },
  {
   "cell_type": "code",
   "execution_count": 14,
   "metadata": {},
   "outputs": [
    {
     "data": {
      "text/plain": [
       "[{'id': '1ea54b9c-f1f6-49d4-91f6-e230eec7c259',\n",
       "  'dataset_name': 'Caltech_256_Clip'},\n",
       " {'id': '7198371d-0f70-4287-8645-8e3807782d30',\n",
       "  'dataset_name': 'Coding_Generative_Inference_Dataset'},\n",
       " {'id': '0e277df5-0b7e-45a7-874e-c5b10364c0fe',\n",
       "  'dataset_name': 'Coding_Generative_Train_4k_SS_Dataset'},\n",
       " {'id': '69d0d494-bc0a-4e1c-8dd3-84b1f55b0098', 'dataset_name': 'FiQA'},\n",
       " {'id': '17be1fa1-2ed2-4503-9ccc-99be2c905010',\n",
       "  'dataset_name': 'Generative_Inference_Dataset'},\n",
       " {'id': '9bac6a44-92b2-40ac-9a4d-ba72038ac27b',\n",
       "  'dataset_name': 'GPT_13B_8k_SS_Toy_Training_Dataset'},\n",
       " {'id': '6090aaa0-85ef-469f-ad2d-7bf1a5f47f1f',\n",
       "  'dataset_name': 'GPT_13B_Inference_Dataset'},\n",
       " {'id': '894dd158-9552-11ed-a1eb-0242ac120002',\n",
       "  'dataset_name': 'GPT_13B_Training_Dataset'},\n",
       " {'id': 'f66434c5-4944-48a8-81c9-6eb7fca7e4b9',\n",
       "  'dataset_name': 'GPT_1.5B_Inference_Dataset'},\n",
       " {'id': 'd8e19905-bd36-4469-b13b-51da48b62e75',\n",
       "  'dataset_name': 'GPT_1.5B_Training_Dataset'},\n",
       " {'id': 'f0971f8b-bcc3-401f-b107-47c67a2f846e', 'dataset_name': 'Librispeech'},\n",
       " {'id': '3cb49e90-d544-4f2d-945a-5b34ae64cc67',\n",
       "  'dataset_name': 'Mistral_Tokenized_Copa'},\n",
       " {'id': '8f30e146-5871-4cf4-85cf-7d96bf5255ac',\n",
       "  'dataset_name': 'openthaigpt_50k_IT0913'},\n",
       " {'id': 'b9dda5a7-c0d3-4d34-aa84-6b893c0abf5c',\n",
       "  'dataset_name': 'openwebtext_ss4096_32k_vocab'},\n",
       " {'id': '327cbf89-9003-4b5b-a524-68e69dc2ad2f',\n",
       "  'dataset_name': 'Restore_Punctuation_Data'},\n",
       " {'id': '4607b18f-afcc-4d44-8403-14a5ca5f1abe',\n",
       "  'dataset_name': 'Speaker_Diarization'},\n",
       " {'id': 'b53ff7b7-bf63-4dbd-919e-33b36b2ba11f',\n",
       "  'dataset_name': 'Super_Glue_4k_SS'},\n",
       " {'id': '8563e297-3572-4983-811f-6ca39d675e5a',\n",
       "  'dataset_name': 'Super_Glue_16k_SS'},\n",
       " {'id': '6df71c1a-12bd-4a28-8320-a3768304cc54',\n",
       "  'dataset_name': 'E5_Large_V2_Inference_Example'},\n",
       " {'id': '5ec01dbd-821c-445d-b1e7-0aefd0d0cedc',\n",
       "  'dataset_name': 'thai-dpo-sft-ss4k'},\n",
       " {'id': 'd6239b19-4a07-48dc-81f1-16fbf062f35f',\n",
       "  'dataset_name': 'Super_Glue_8k_SS_128k_vocab'},\n",
       " {'id': '60945b54-2402-4f81-b274-08704e928d83',\n",
       "  'dataset_name': 'nstext2sql_sql_fine_tuning'},\n",
       " {'id': '067dbb19-0749-4fb1-b79d-c613ac45dc8d',\n",
       "  'dataset_name': 'smol_sql_pretraining'},\n",
       " {'id': '67158817-cb09-4532-a4e2-eb170a8b1b69',\n",
       "  'dataset_name': 'nstext2sql_sql_fine_tuning_mm'},\n",
       " {'id': 'd80f6355-af9d-406b-95c5-c31854f36f2c',\n",
       "  'dataset_name': 'smol_sql_pretraining_mm'},\n",
       " {'id': '411c9192-509d-4044-8929-b0cedb4fcd43',\n",
       "  'dataset_name': 'smol_sql_dataset'}]"
      ]
     },
     "execution_count": 14,
     "metadata": {},
     "output_type": "execute_result"
    }
   ],
   "source": [
    "sambastudio_wrapper.list_datasets()"
   ]
  },
  {
   "cell_type": "markdown",
   "metadata": {},
   "source": [
    "### Project creation"
   ]
  },
  {
   "cell_type": "code",
   "execution_count": 15,
   "metadata": {},
   "outputs": [
    {
     "name": "stderr",
     "output_type": "stream",
     "text": [
      "2024-07-24 17:57:24,625 [INFO] Project with name 'example project' found with id 51b1fe13-dcdb-41e3-8a78-514da36937c8\n",
      "2024-07-24 17:57:24,626 [INFO] Project with name 'example project' already exists with id '51b1fe13-dcdb-41e3-8a78-514da36937c8', using it\n"
     ]
    },
    {
     "data": {
      "text/plain": [
       "'51b1fe13-dcdb-41e3-8a78-514da36937c8'"
      ]
     },
     "execution_count": 15,
     "metadata": {},
     "output_type": "execute_result"
    }
   ],
   "source": [
    "sambastudio_wrapper.create_project(\n",
    "    project_name = \"example project\",\n",
    "    project_description = \"this project will be used to test the Finetuning e2e pipeline implementation\"\n",
    ")"
   ]
  },
  {
   "cell_type": "code",
   "execution_count": 16,
   "metadata": {},
   "outputs": [
    {
     "data": {
      "text/plain": [
       "[{'project_name': 'Benchmarking_Llama7b',\n",
       "  'project_id': '8d752994-bfd1-4eee-98a8-9ca0d50b8b37',\n",
       "  'status': 'Available',\n",
       "  'user_id': 'amit.kushwaha'},\n",
       " {'project_name': 'example project',\n",
       "  'project_id': '51b1fe13-dcdb-41e3-8a78-514da36937c8',\n",
       "  'status': 'Available',\n",
       "  'user_id': 'jorge.piedrahita'},\n",
       " {'project_name': 'kit_testing',\n",
       "  'project_id': '3c1dd70d-9976-4c58-9f82-873d01ebeb3e',\n",
       "  'status': 'Available',\n",
       "  'user_id': 'luis.salazar'},\n",
       " {'project_name': 'Shared',\n",
       "  'project_id': 'b9896d2e-5054-4937-978f-67413104d6ba',\n",
       "  'status': 'Available',\n",
       "  'user_id': 'varun.krishna'},\n",
       " {'project_name': 'SNSDK-E2E-Finetuning_Embeddings-Project',\n",
       "  'project_id': 'e2d0c5dc-894e-461a-9730-a814904db9f7',\n",
       "  'status': 'Available',\n",
       "  'user_id': 'rodrigo.maldonado'},\n",
       " {'project_name': 'Test_Finetune_Embeddings',\n",
       "  'project_id': '6f1d50bc-cd1b-4574-b901-70fe929f5aa4',\n",
       "  'status': 'Available',\n",
       "  'user_id': 'francesca.raimondi'}]"
      ]
     },
     "execution_count": 16,
     "metadata": {},
     "output_type": "execute_result"
    }
   ],
   "source": [
    "sambastudio_wrapper.list_projects()"
   ]
  },
  {
   "cell_type": "markdown",
   "metadata": {},
   "source": [
    "### Training Job creation"
   ]
  },
  {
   "cell_type": "markdown",
   "metadata": {},
   "source": [
    "#### List trainable models "
   ]
  },
  {
   "cell_type": "code",
   "execution_count": 3,
   "metadata": {},
   "outputs": [
    {
     "data": {
      "text/plain": [
       "[{'model_id': '47ee0428-f9f8-6d8c-d02e-1ac778b83eb9',\n",
       "  'model_checkpoint_name': 'CLIP ViT-B-32 Backbone (Deprecated)'},\n",
       " {'model_id': '35dfd99d-888b-4331-b78a-ea5c744224ad',\n",
       "  'model_checkpoint_name': 'GPT_1.5B_Dialog_Act_Classification_Finetuned'},\n",
       " {'model_id': 'cb800e99-809b-42d2-a6e2-11b3707ef433',\n",
       "  'model_checkpoint_name': 'GPT_13B_Human_Aligned_Instruction_Tuned_V2'},\n",
       " {'model_id': '0d3a9c87-99e8-4d22-af39-05ab91b84238',\n",
       "  'model_checkpoint_name': 'GPT_13B_Generative_Inference'},\n",
       " {'model_id': 'c7be342b-208b-4393-b5c2-496aa54eb917',\n",
       "  'model_checkpoint_name': 'GPT13B 2k SS HAv3'},\n",
       " {'model_id': '3cac564a-e822-46fb-a128-1ab34a9d93ed',\n",
       "  'model_checkpoint_name': 'GPT13B 2k SS ITv3'},\n",
       " {'model_id': '673ea90a-3d25-43ed-9965-55c393e91ddc',\n",
       "  'model_checkpoint_name': 'GPT_1.5B_GT_Finetuned'},\n",
       " {'model_id': '877fa680-b45f-4fff-a57a-0a3fcd2d0fd7',\n",
       "  'model_checkpoint_name': 'GPT13B 8k SS HAv3'},\n",
       " {'model_id': 'c60a7f67-d9b2-46fd-9c9b-d3f02fb2b6e0',\n",
       "  'model_checkpoint_name': 'GPT13B 8k SS ITv3'},\n",
       " {'model_id': '67461a4d-0140-4239-8584-772bb6998e2e',\n",
       "  'model_checkpoint_name': 'GPT 13B 8k SS SN Pretrained'},\n",
       " {'model_id': 'a306fe34-f7ad-4c92-b51d-04bf772dcf44',\n",
       "  'model_checkpoint_name': 'GPT_13B_Instruction_Tuned_V2'},\n",
       " {'model_id': '157ce015-19cc-4538-addf-10cf620a33f6',\n",
       "  'model_checkpoint_name': 'GPT_13B_Dialog_Summarization_Finetuned'},\n",
       " {'model_id': '08902fc2-b11d-42f9-9d39-2d5832c17e09',\n",
       "  'model_checkpoint_name': 'GPT_1.5B_GT_Pretrained'},\n",
       " {'model_id': 'ea03da97-7162-47c3-942b-0b13687e16b5',\n",
       "  'model_checkpoint_name': 'Llama-2-13b-chat-hf'},\n",
       " {'model_id': 'e35bd321-209a-4112-bd4f-8415c20de6de',\n",
       "  'model_checkpoint_name': 'Llama-2-13b-hf'},\n",
       " {'model_id': '8dd301fa-b79b-40a7-b795-1f356be17fe3',\n",
       "  'model_checkpoint_name': 'Llama-2-7b-hf'},\n",
       " {'model_id': 'efbdff4b-0db7-46de-a5d2-2d21cf7ef833',\n",
       "  'model_checkpoint_name': 'Llama-2-7b-16k-hf'},\n",
       " {'model_id': 'be1ff942-1771-4c3f-b282-ec934e6d6345',\n",
       "  'model_checkpoint_name': 'Llama-2-7b-chat-16k-hf'},\n",
       " {'model_id': '3f2da53d-703c-462e-b232-770b2dda466e',\n",
       "  'model_checkpoint_name': 'LlamaGuard_7b'},\n",
       " {'model_id': '135ea78e-8c21-4693-9f89-f04cab6544c9',\n",
       "  'model_checkpoint_name': 'NSQL-Llama-2-7B'},\n",
       " {'model_id': 'db9ef7f0-a382-11ed-a8fc-0242ac120002',\n",
       "  'model_checkpoint_name': 'GPT_1.5B_NER_Finetuned'},\n",
       " {'model_id': '4ed0fef5-63cf-443a-8f9d-6c0437ee803b',\n",
       "  'model_checkpoint_name': 'Llama-2-7b-chat-80k-hf'},\n",
       " {'model_id': '47c0113c-4b20-4adf-bde3-be585be8b723',\n",
       "  'model_checkpoint_name': 'Hubert_ASR'},\n",
       " {'model_id': '39300da3-7f6a-4f7d-a365-67b4e32b6573',\n",
       "  'model_checkpoint_name': 'CLIP-ViT-B-32-laion2B-s34B-b79k'},\n",
       " {'model_id': 'c828d8d6-bbc6-4315-8573-014a183ffa58',\n",
       "  'model_checkpoint_name': 'llama2_7b_fine_tuned_nstext2sql'},\n",
       " {'model_id': '6090d4ac-a7bd-4c46-b417-7f8e42cf7bdb',\n",
       "  'model_checkpoint_name': 'Llama-2-7b-chat-hf'},\n",
       " {'model_id': '5ec326b1-be32-4fce-b335-74097eb3409c',\n",
       "  'model_checkpoint_name': 'Llama-2-7b-80k-hf'},\n",
       " {'model_id': 'eaf458c5-25d2-4b16-9b94-75d8801f6d8c',\n",
       "  'model_checkpoint_name': 'Llama-2-7b-sambalingo-thai-base-hf'}]"
      ]
     },
     "execution_count": 3,
     "metadata": {},
     "output_type": "execute_result"
    }
   ],
   "source": [
    "sambastudio_wrapper.list_models(filter_job_types=[\"train\",\"deploy\"])"
   ]
  },
  {
   "cell_type": "markdown",
   "metadata": {},
   "source": [
    "#### List available datasets"
   ]
  },
  {
   "cell_type": "code",
   "execution_count": 5,
   "metadata": {},
   "outputs": [
    {
     "data": {
      "text/plain": [
       "[{'id': '1ea54b9c-f1f6-49d4-91f6-e230eec7c259',\n",
       "  'dataset_name': 'Caltech_256_Clip'},\n",
       " {'id': '7198371d-0f70-4287-8645-8e3807782d30',\n",
       "  'dataset_name': 'Coding_Generative_Inference_Dataset'},\n",
       " {'id': '0e277df5-0b7e-45a7-874e-c5b10364c0fe',\n",
       "  'dataset_name': 'Coding_Generative_Train_4k_SS_Dataset'},\n",
       " {'id': '69d0d494-bc0a-4e1c-8dd3-84b1f55b0098', 'dataset_name': 'FiQA'},\n",
       " {'id': '17be1fa1-2ed2-4503-9ccc-99be2c905010',\n",
       "  'dataset_name': 'Generative_Inference_Dataset'},\n",
       " {'id': '9bac6a44-92b2-40ac-9a4d-ba72038ac27b',\n",
       "  'dataset_name': 'GPT_13B_8k_SS_Toy_Training_Dataset'},\n",
       " {'id': '6090aaa0-85ef-469f-ad2d-7bf1a5f47f1f',\n",
       "  'dataset_name': 'GPT_13B_Inference_Dataset'},\n",
       " {'id': '894dd158-9552-11ed-a1eb-0242ac120002',\n",
       "  'dataset_name': 'GPT_13B_Training_Dataset'},\n",
       " {'id': 'f66434c5-4944-48a8-81c9-6eb7fca7e4b9',\n",
       "  'dataset_name': 'GPT_1.5B_Inference_Dataset'},\n",
       " {'id': 'd8e19905-bd36-4469-b13b-51da48b62e75',\n",
       "  'dataset_name': 'GPT_1.5B_Training_Dataset'},\n",
       " {'id': 'f0971f8b-bcc3-401f-b107-47c67a2f846e', 'dataset_name': 'Librispeech'},\n",
       " {'id': '3cb49e90-d544-4f2d-945a-5b34ae64cc67',\n",
       "  'dataset_name': 'Mistral_Tokenized_Copa'},\n",
       " {'id': '8f30e146-5871-4cf4-85cf-7d96bf5255ac',\n",
       "  'dataset_name': 'openthaigpt_50k_IT0913'},\n",
       " {'id': 'b9dda5a7-c0d3-4d34-aa84-6b893c0abf5c',\n",
       "  'dataset_name': 'openwebtext_ss4096_32k_vocab'},\n",
       " {'id': '327cbf89-9003-4b5b-a524-68e69dc2ad2f',\n",
       "  'dataset_name': 'Restore_Punctuation_Data'},\n",
       " {'id': '4607b18f-afcc-4d44-8403-14a5ca5f1abe',\n",
       "  'dataset_name': 'Speaker_Diarization'},\n",
       " {'id': 'b53ff7b7-bf63-4dbd-919e-33b36b2ba11f',\n",
       "  'dataset_name': 'Super_Glue_4k_SS'},\n",
       " {'id': '8563e297-3572-4983-811f-6ca39d675e5a',\n",
       "  'dataset_name': 'Super_Glue_16k_SS'},\n",
       " {'id': '6df71c1a-12bd-4a28-8320-a3768304cc54',\n",
       "  'dataset_name': 'E5_Large_V2_Inference_Example'},\n",
       " {'id': '5ec01dbd-821c-445d-b1e7-0aefd0d0cedc',\n",
       "  'dataset_name': 'thai-dpo-sft-ss4k'},\n",
       " {'id': 'd6239b19-4a07-48dc-81f1-16fbf062f35f',\n",
       "  'dataset_name': 'Super_Glue_8k_SS_128k_vocab'},\n",
       " {'id': '60945b54-2402-4f81-b274-08704e928d83',\n",
       "  'dataset_name': 'nstext2sql_sql_fine_tuning'},\n",
       " {'id': '067dbb19-0749-4fb1-b79d-c613ac45dc8d',\n",
       "  'dataset_name': 'smol_sql_pretraining'},\n",
       " {'id': '67158817-cb09-4532-a4e2-eb170a8b1b69',\n",
       "  'dataset_name': 'nstext2sql_sql_fine_tuning_mm'},\n",
       " {'id': 'd80f6355-af9d-406b-95c5-c31854f36f2c',\n",
       "  'dataset_name': 'smol_sql_pretraining_mm'},\n",
       " {'id': '411c9192-509d-4044-8929-b0cedb4fcd43',\n",
       "  'dataset_name': 'smol_sql_dataset'}]"
      ]
     },
     "execution_count": 5,
     "metadata": {},
     "output_type": "execute_result"
    }
   ],
   "source": [
    "sambastudio_wrapper.list_datasets()"
   ]
  },
  {
   "cell_type": "markdown",
   "metadata": {},
   "source": [
    "#### Create training job"
   ]
  },
  {
   "cell_type": "code",
   "execution_count": null,
   "metadata": {},
   "outputs": [],
   "source": [
    "sambastudio_wrapper.run_job(\n",
    "    project_name=\"example project\",\n",
    "    job_name=\"snsdk_test_job\",\n",
    "    job_description=\"snsdk test training project\",\n",
    "    job_type=\"train\",\n",
    "    model=\"Llama-2-7b-chat-hf\",\n",
    "    dataset_name=\"smol_sql_pretraining_mm\",\n",
    "    parallel_instances=1,\n",
    "    load_state=False,\n",
    "    sub_path=\"\",\n",
    "    rdu_arch=\"sn20\",\n",
    "    hyperparams={\n",
    "        \"batch_size\": 256,\n",
    "        \"do_eval\": False,\n",
    "        \"eval_steps\": 50,\n",
    "        \"evaluation_strategy\": \"no\",\n",
    "        \"learning_rate\": 0.00001,\n",
    "        \"logging_steps\": 1,\n",
    "        \"lr_schedule\": \"fixed_lr\",\n",
    "        \"max_sequence_length\": 4096,\n",
    "        \"num_iterations\": 100,\n",
    "        \"prompt_loss_weight\": 0.0,\n",
    "        \"save_optimizer_state\": True,\n",
    "        \"save_steps\": 50,\n",
    "        \"skip_checkpoint\": False,\n",
    "        \"subsample_eval\": 0.01,\n",
    "        \"subsample_eval_seed\": 123,\n",
    "        \"use_token_type_ids\": True,\n",
    "        \"vocab_size\": 32000,\n",
    "        \"warmup_steps\": 0,\n",
    "        \"weight_decay\": 0.1,\n",
    "    }\n",
    ")"
   ]
  },
  {
   "cell_type": "code",
   "execution_count": null,
   "metadata": {},
   "outputs": [],
   "source": [
    "sambastudio_wrapper.check_job_progress(\n",
    "    project_name=\"example project\",\n",
    "    job_name=\"snsdk_test_job\"\n",
    ")"
   ]
  },
  {
   "cell_type": "markdown",
   "metadata": {},
   "source": [
    "### Checkpoint promotion"
   ]
  },
  {
   "cell_type": "code",
   "execution_count": null,
   "metadata": {},
   "outputs": [],
   "source": [
    "sambastudio_wrapper.list_checkpoints(\n",
    "    project_name=\"example project\",\n",
    "    job_name=\"snsdk_test_job\"\n",
    ")"
   ]
  },
  {
   "cell_type": "code",
   "execution_count": null,
   "metadata": {},
   "outputs": [],
   "source": [
    "checkpoint_id = \"385632fa-284c-42a2-892a-b1bfb6161a7e-50\"\n",
    "sambastudio_wrapper.promote_checkpoint(\n",
    "    checkpoint_id = checkpoint_id,\n",
    "    project_name=\"example project\",\n",
    "    job_name=\"snsdk_test_job\",\n",
    "    model_name=\"llama2_7b_fine_tuned_nstext2sql\",\n",
    "    model_description=\"finetuned llama2_7b model for nstext2sql\",\n",
    "    model_type=\"finetuned\"\n",
    ")"
   ]
  },
  {
   "cell_type": "code",
   "execution_count": 12,
   "metadata": {},
   "outputs": [
    {
     "data": {
      "text/plain": [
       "[{'model_id': '47ee0428-f9f8-6d8c-d02e-1ac778b83eb9',\n",
       "  'model_checkpoint_name': 'CLIP ViT-B-32 Backbone (Deprecated)'},\n",
       " {'model_id': '35dfd99d-888b-4331-b78a-ea5c744224ad',\n",
       "  'model_checkpoint_name': 'GPT_1.5B_Dialog_Act_Classification_Finetuned'},\n",
       " {'model_id': 'cb800e99-809b-42d2-a6e2-11b3707ef433',\n",
       "  'model_checkpoint_name': 'GPT_13B_Human_Aligned_Instruction_Tuned_V2'},\n",
       " {'model_id': '0d3a9c87-99e8-4d22-af39-05ab91b84238',\n",
       "  'model_checkpoint_name': 'GPT_13B_Generative_Inference'},\n",
       " {'model_id': 'c7be342b-208b-4393-b5c2-496aa54eb917',\n",
       "  'model_checkpoint_name': 'GPT13B 2k SS HAv3'},\n",
       " {'model_id': '3cac564a-e822-46fb-a128-1ab34a9d93ed',\n",
       "  'model_checkpoint_name': 'GPT13B 2k SS ITv3'},\n",
       " {'model_id': '673ea90a-3d25-43ed-9965-55c393e91ddc',\n",
       "  'model_checkpoint_name': 'GPT_1.5B_GT_Finetuned'},\n",
       " {'model_id': '877fa680-b45f-4fff-a57a-0a3fcd2d0fd7',\n",
       "  'model_checkpoint_name': 'GPT13B 8k SS HAv3'},\n",
       " {'model_id': 'c60a7f67-d9b2-46fd-9c9b-d3f02fb2b6e0',\n",
       "  'model_checkpoint_name': 'GPT13B 8k SS ITv3'},\n",
       " {'model_id': '67461a4d-0140-4239-8584-772bb6998e2e',\n",
       "  'model_checkpoint_name': 'GPT 13B 8k SS SN Pretrained'},\n",
       " {'model_id': 'a306fe34-f7ad-4c92-b51d-04bf772dcf44',\n",
       "  'model_checkpoint_name': 'GPT_13B_Instruction_Tuned_V2'},\n",
       " {'model_id': '157ce015-19cc-4538-addf-10cf620a33f6',\n",
       "  'model_checkpoint_name': 'GPT_13B_Dialog_Summarization_Finetuned'},\n",
       " {'model_id': '08902fc2-b11d-42f9-9d39-2d5832c17e09',\n",
       "  'model_checkpoint_name': 'GPT_1.5B_GT_Pretrained'},\n",
       " {'model_id': 'ea03da97-7162-47c3-942b-0b13687e16b5',\n",
       "  'model_checkpoint_name': 'Llama-2-13b-chat-hf'},\n",
       " {'model_id': 'e35bd321-209a-4112-bd4f-8415c20de6de',\n",
       "  'model_checkpoint_name': 'Llama-2-13b-hf'},\n",
       " {'model_id': '8dd301fa-b79b-40a7-b795-1f356be17fe3',\n",
       "  'model_checkpoint_name': 'Llama-2-7b-hf'},\n",
       " {'model_id': 'efbdff4b-0db7-46de-a5d2-2d21cf7ef833',\n",
       "  'model_checkpoint_name': 'Llama-2-7b-16k-hf'},\n",
       " {'model_id': 'be1ff942-1771-4c3f-b282-ec934e6d6345',\n",
       "  'model_checkpoint_name': 'Llama-2-7b-chat-16k-hf'},\n",
       " {'model_id': '3f2da53d-703c-462e-b232-770b2dda466e',\n",
       "  'model_checkpoint_name': 'LlamaGuard_7b'},\n",
       " {'model_id': '135ea78e-8c21-4693-9f89-f04cab6544c9',\n",
       "  'model_checkpoint_name': 'NSQL-Llama-2-7B'},\n",
       " {'model_id': 'db9ef7f0-a382-11ed-a8fc-0242ac120002',\n",
       "  'model_checkpoint_name': 'GPT_1.5B_NER_Finetuned'},\n",
       " {'model_id': '4ed0fef5-63cf-443a-8f9d-6c0437ee803b',\n",
       "  'model_checkpoint_name': 'Llama-2-7b-chat-80k-hf'},\n",
       " {'model_id': 'ee2e89dc-06ce-49ba-83d0-17bf70ef8486',\n",
       "  'model_checkpoint_name': 'bert-qa'},\n",
       " {'model_id': '2fed8f06-4f6c-41c7-97a1-eda878f8f4ab',\n",
       "  'model_checkpoint_name': 'Bert_Base'},\n",
       " {'model_id': 'cd9d5e63-3836-4f3e-971a-b115870cd96c',\n",
       "  'model_checkpoint_name': 'Speaker_Diarization'},\n",
       " {'model_id': '47c0113c-4b20-4adf-bde3-be585be8b723',\n",
       "  'model_checkpoint_name': 'Hubert_ASR'},\n",
       " {'model_id': '79b4bbdb-e40a-4eb0-a495-07a64393cc1f',\n",
       "  'model_checkpoint_name': 'CLIP-ViT-B-32-laion2B-s34B-b79k-v2'},\n",
       " {'model_id': '39300da3-7f6a-4f7d-a365-67b4e32b6573',\n",
       "  'model_checkpoint_name': 'CLIP-ViT-B-32-laion2B-s34B-b79k'},\n",
       " {'model_id': 'c828d8d6-bbc6-4315-8573-014a183ffa58',\n",
       "  'model_checkpoint_name': 'llama2_7b_fine_tuned_nstext2sql'},\n",
       " {'model_id': '6090d4ac-a7bd-4c46-b417-7f8e42cf7bdb',\n",
       "  'model_checkpoint_name': 'Llama-2-7b-chat-hf'},\n",
       " {'model_id': '5ec326b1-be32-4fce-b335-74097eb3409c',\n",
       "  'model_checkpoint_name': 'Llama-2-7b-80k-hf'},\n",
       " {'model_id': 'eaf458c5-25d2-4b16-9b94-75d8801f6d8c',\n",
       "  'model_checkpoint_name': 'Llama-2-7b-sambalingo-thai-base-hf'},\n",
       " {'model_id': '2a12977a-dfd3-41ea-b6b8-e4bb2a9ab04a',\n",
       "  'model_checkpoint_name': 'E5 Large V2'}]"
      ]
     },
     "execution_count": 12,
     "metadata": {},
     "output_type": "execute_result"
    }
   ],
   "source": [
    "sambastudio_wrapper.list_models(filter_job_types=[\"deploy\"])"
   ]
  },
  {
   "cell_type": "markdown",
   "metadata": {},
   "source": [
    "### Endpoint creation"
   ]
  },
  {
   "cell_type": "code",
   "execution_count": 13,
   "metadata": {},
   "outputs": [
    {
     "name": "stderr",
     "output_type": "stream",
     "text": [
      "2024-07-24 18:02:50,297 [INFO] Project with name 'example project' found with id 51b1fe13-dcdb-41e3-8a78-514da36937c8\n",
      "2024-07-24 18:02:50,541 [INFO] Model with name 'llama2_7b_fine_tuned_nstext2sql' found with id c828d8d6-bbc6-4315-8573-014a183ffa58\n",
      "2024-07-24 18:02:50,737 [INFO] Endpoint with name 'test-endpoint-sql' not created it already exist with id 2cc9e176-001d-407c-8170-010dcad06555\n"
     ]
    },
    {
     "data": {
      "text/plain": [
       "'2cc9e176-001d-407c-8170-010dcad06555'"
      ]
     },
     "execution_count": 13,
     "metadata": {},
     "output_type": "execute_result"
    }
   ],
   "source": [
    "sambastudio_wrapper.create_endpoint(\n",
    "    project_name=\"example project\",\n",
    "    endpoint_name=\"test-endpoint-sql\",\n",
    "    endpoint_description=\"endpoint of finetuned sql model llama2 7b\",\n",
    "    model_name=\"llama2_7b_fine_tuned_nstext2sql\",\n",
    "    instances=1,\n",
    "    rdu_arch=\"sn20\",\n",
    "    hyperparams={}\n",
    ")"
   ]
  },
  {
   "cell_type": "code",
   "execution_count": 14,
   "metadata": {},
   "outputs": [
    {
     "name": "stderr",
     "output_type": "stream",
     "text": [
      "2024-07-24 18:02:54,063 [INFO] Project with name 'example project' found with id 51b1fe13-dcdb-41e3-8a78-514da36937c8\n"
     ]
    },
    {
     "data": {
      "text/plain": [
       "{'status': 'Live',\n",
       " 'url': '/api/predict/generic/51b1fe13-dcdb-41e3-8a78-514da36937c8/2cc9e176-001d-407c-8170-010dcad06555',\n",
       " 'langchain wrapper env': {'SAMBASTUDIO_BASE_URL': 'https://sjc3-demo1.sambanova.net',\n",
       "  'SAMBASTUDIO_BASE_URI': 'api/predict/generic',\n",
       "  'SAMBASTUDIO_PROJECT_ID': '51b1fe13-dcdb-41e3-8a78-514da36937c8',\n",
       "  'SAMBASTUDIO_ENDPOINT_ID': '2cc9e176-001d-407c-8170-010dcad06555',\n",
       "  'SAMBASTUDIO_API_KEY': '4561018c-5e67-4ebb-8aa9-c2c0a859ed09'}}"
      ]
     },
     "execution_count": 14,
     "metadata": {},
     "output_type": "execute_result"
    }
   ],
   "source": [
    "sambastudio_wrapper.get_endpoint_details(\n",
    "    project_name=\"example project\",\n",
    "    endpoint_name=\"test-endpoint-sql\"\n",
    ")"
   ]
  },
  {
   "cell_type": "markdown",
   "metadata": {},
   "source": [
    "## Deployed endpoint usage"
   ]
  },
  {
   "cell_type": "code",
   "execution_count": 18,
   "metadata": {},
   "outputs": [
    {
     "name": "stderr",
     "output_type": "stream",
     "text": [
      "2024-07-24 18:03:51,707 [INFO] Project with name 'example project' found with id 51b1fe13-dcdb-41e3-8a78-514da36937c8\n"
     ]
    }
   ],
   "source": [
    "from langchain_community.llms import SambaStudio\n",
    "\n",
    "endpoint_env = sambastudio_wrapper.get_endpoint_details()[\"langchain wrapper env\"]\n",
    "\n",
    "llm = SambaStudio(\n",
    "    sambastudio_base_url=endpoint_env.get(\"SAMBASTUDIO_BASE_URL\"),\n",
    "    sambastudio_base_uri=endpoint_env.get(\"SAMBASTUDIO_BASE_URI\"),\n",
    "    sambastudio_project_id=endpoint_env.get(\"SAMBASTUDIO_PROJECT_ID\"),\n",
    "    sambastudio_endpoint_id=endpoint_env.get(\"SAMBASTUDIO_ENDPOINT_ID\"),\n",
    "    sambastudio_api_key=endpoint_env.get(\"SAMBASTUDIO_API_KEY\"),\n",
    "    model_kwargs = {\n",
    "        \"do_sample\": True, \n",
    "        \"temperature\": 0.01,\n",
    "        \"max_tokens_to_generate\": 512\n",
    "    }\n",
    ")"
   ]
  },
  {
   "cell_type": "code",
   "execution_count": 20,
   "metadata": {},
   "outputs": [],
   "source": [
    "prompt = \"\"\"[INST]<<SYS>>\n",
    "    Generate a query using valid SQLite to answer the following questions for the summarized tables schemas provided bellow.\n",
    "    Do not assume the values on the database tables before generating the SQL query, always generate a SQL that query what is asked. \n",
    "    The query must be in the format: ```sql\n",
    "query\n",
    "```\n",
    "    \n",
    "    Example:\n",
    "    \n",
    "    ```sql\n",
    "    SELECT * FROM mainTable;\n",
    "    ```\n",
    "    <</SYS>>\n",
    "        \n",
    "    \n",
    "CREATE TABLE \"Album\" (\n",
    "\t\"AlbumId\" INTEGER NOT NULL, \n",
    "\t\"Title\" NVARCHAR(160) NOT NULL, \n",
    "\t\"ArtistId\" INTEGER NOT NULL, \n",
    "\tPRIMARY KEY (\"AlbumId\"), \n",
    "\tFOREIGN KEY(\"ArtistId\") REFERENCES \"Artist\" (\"ArtistId\")\n",
    ")\n",
    "\n",
    "/*\n",
    "3 rows from Album table:\n",
    "AlbumId\tTitle\tArtistId\n",
    "1\tFor Those About To Rock We Salute You\t1\n",
    "2\tBalls to the Wall\t2\n",
    "3\tRestless and Wild\t2\n",
    "*/\n",
    "\n",
    "\n",
    "CREATE TABLE \"Artist\" (\n",
    "\t\"ArtistId\" INTEGER NOT NULL, \n",
    "\t\"Name\" NVARCHAR(120), \n",
    "\tPRIMARY KEY (\"ArtistId\")\n",
    ")\n",
    "\n",
    "/*\n",
    "3 rows from Artist table:\n",
    "ArtistId\tName\n",
    "1\tAC/DC\n",
    "2\tAccept\n",
    "3\tAerosmith\n",
    "*/\n",
    "\n",
    "\n",
    "CREATE TABLE \"Customer\" (\n",
    "\t\"CustomerId\" INTEGER NOT NULL, \n",
    "\t\"FirstName\" NVARCHAR(40) NOT NULL, \n",
    "\t\"LastName\" NVARCHAR(20) NOT NULL, \n",
    "\t\"Company\" NVARCHAR(80), \n",
    "\t\"Address\" NVARCHAR(70), \n",
    "\t\"City\" NVARCHAR(40), \n",
    "\t\"State\" NVARCHAR(40), \n",
    "\t\"Country\" NVARCHAR(40), \n",
    "\t\"PostalCode\" NVARCHAR(10), \n",
    "\t\"Phone\" NVARCHAR(24), \n",
    "\t\"Fax\" NVARCHAR(24), \n",
    "\t\"Email\" NVARCHAR(60) NOT NULL, \n",
    "\t\"SupportRepId\" INTEGER, \n",
    "\tPRIMARY KEY (\"CustomerId\"), \n",
    "\tFOREIGN KEY(\"SupportRepId\") REFERENCES \"Employee\" (\"EmployeeId\")\n",
    ")\n",
    "\n",
    "/*\n",
    "3 rows from Customer table:\n",
    "CustomerId\tFirstName\tLastName\tCompany\tAddress\tCity\tState\tCountry\tPostalCode\tPhone\tFax\tEmail\tSupportRepId\n",
    "1\tLuís\tGonçalves\tEmbraer - Empresa Brasileira de Aeronáutica S.A.\tAv. Brigadeiro Faria Lima, 2170\tSão José dos Campos\tSP\tBrazil\t12227-000\t+55 (12) 3923-5555\t+55 (12) 3923-5566\tluisg@embraer.com.br\t3\n",
    "2\tLeonie\tKöhler\tNone\tTheodor-Heuss-Straße 34\tStuttgart\tNone\tGermany\t70174\t+49 0711 2842222\tNone\tleonekohler@surfeu.de\t5\n",
    "3\tFrançois\tTremblay\tNone\t1498 rue Bélanger\tMontréal\tQC\tCanada\tH2G 1A7\t+1 (514) 721-4711\tNone\tftremblay@gmail.com\t3\n",
    "*/\n",
    "\n",
    "\n",
    "CREATE TABLE \"Employee\" (\n",
    "\t\"EmployeeId\" INTEGER NOT NULL, \n",
    "\t\"LastName\" NVARCHAR(20) NOT NULL, \n",
    "\t\"FirstName\" NVARCHAR(20) NOT NULL, \n",
    "\t\"Title\" NVARCHAR(30), \n",
    "\t\"ReportsTo\" INTEGER, \n",
    "\t\"BirthDate\" DATETIME, \n",
    "\t\"HireDate\" DATETIME, \n",
    "\t\"Address\" NVARCHAR(70), \n",
    "\t\"City\" NVARCHAR(40), \n",
    "\t\"State\" NVARCHAR(40), \n",
    "\t\"Country\" NVARCHAR(40), \n",
    "\t\"PostalCode\" NVARCHAR(10), \n",
    "\t\"Phone\" NVARCHAR(24), \n",
    "\t\"Fax\" NVARCHAR(24), \n",
    "\t\"Email\" NVARCHAR(60), \n",
    "\tPRIMARY KEY (\"EmployeeId\"), \n",
    "\tFOREIGN KEY(\"ReportsTo\") REFERENCES \"Employee\" (\"EmployeeId\")\n",
    ")\n",
    "\n",
    "/*\n",
    "3 rows from Employee table:\n",
    "EmployeeId\tLastName\tFirstName\tTitle\tReportsTo\tBirthDate\tHireDate\tAddress\tCity\tState\tCountry\tPostalCode\tPhone\tFax\tEmail\n",
    "1\tAdams\tAndrew\tGeneral Manager\tNone\t1962-02-18 00:00:00\t2002-08-14 00:00:00\t11120 Jasper Ave NW\tEdmonton\tAB\tCanada\tT5K 2N1\t+1 (780) 428-9482\t+1 (780) 428-3457\tandrew@chinookcorp.com\n",
    "2\tEdwards\tNancy\tSales Manager\t1\t1958-12-08 00:00:00\t2002-05-01 00:00:00\t825 8 Ave SW\tCalgary\tAB\tCanada\tT2P 2T3\t+1 (403) 262-3443\t+1 (403) 262-3322\tnancy@chinookcorp.com\n",
    "3\tPeacock\tJane\tSales Support Agent\t2\t1973-08-29 00:00:00\t2002-04-01 00:00:00\t1111 6 Ave SW\tCalgary\tAB\tCanada\tT2P 5M5\t+1 (403) 262-3443\t+1 (403) 262-6712\tjane@chinookcorp.com\n",
    "*/\n",
    "\n",
    "\n",
    "CREATE TABLE \"Genre\" (\n",
    "\t\"GenreId\" INTEGER NOT NULL, \n",
    "\t\"Name\" NVARCHAR(120), \n",
    "\tPRIMARY KEY (\"GenreId\")\n",
    ")\n",
    "\n",
    "/*\n",
    "3 rows from Genre table:\n",
    "GenreId\tName\n",
    "1\tRock\n",
    "2\tJazz\n",
    "3\tMetal\n",
    "*/\n",
    "\n",
    "\n",
    "CREATE TABLE \"Invoice\" (\n",
    "\t\"InvoiceId\" INTEGER NOT NULL, \n",
    "\t\"CustomerId\" INTEGER NOT NULL, \n",
    "\t\"InvoiceDate\" DATETIME NOT NULL, \n",
    "\t\"BillingAddress\" NVARCHAR(70), \n",
    "\t\"BillingCity\" NVARCHAR(40), \n",
    "\t\"BillingState\" NVARCHAR(40), \n",
    "\t\"BillingCountry\" NVARCHAR(40), \n",
    "\t\"BillingPostalCode\" NVARCHAR(10), \n",
    "\t\"Total\" NUMERIC(10, 2) NOT NULL, \n",
    "\tPRIMARY KEY (\"InvoiceId\"), \n",
    "\tFOREIGN KEY(\"CustomerId\") REFERENCES \"Customer\" (\"CustomerId\")\n",
    ")\n",
    "\n",
    "/*\n",
    "3 rows from Invoice table:\n",
    "InvoiceId\tCustomerId\tInvoiceDate\tBillingAddress\tBillingCity\tBillingState\tBillingCountry\tBillingPostalCode\tTotal\n",
    "1\t2\t2021-01-01 00:00:00\tTheodor-Heuss-Straße 34\tStuttgart\tNone\tGermany\t70174\t1.98\n",
    "2\t4\t2021-01-02 00:00:00\tUllevålsveien 14\tOslo\tNone\tNorway\t0171\t3.96\n",
    "3\t8\t2021-01-03 00:00:00\tGrétrystraat 63\tBrussels\tNone\tBelgium\t1000\t5.94\n",
    "*/\n",
    "\n",
    "\n",
    "CREATE TABLE \"InvoiceLine\" (\n",
    "\t\"InvoiceLineId\" INTEGER NOT NULL, \n",
    "\t\"InvoiceId\" INTEGER NOT NULL, \n",
    "\t\"TrackId\" INTEGER NOT NULL, \n",
    "\t\"UnitPrice\" NUMERIC(10, 2) NOT NULL, \n",
    "\t\"Quantity\" INTEGER NOT NULL, \n",
    "\tPRIMARY KEY (\"InvoiceLineId\"), \n",
    "\tFOREIGN KEY(\"TrackId\") REFERENCES \"Track\" (\"TrackId\"), \n",
    "\tFOREIGN KEY(\"InvoiceId\") REFERENCES \"Invoice\" (\"InvoiceId\")\n",
    ")\n",
    "\n",
    "/*\n",
    "3 rows from InvoiceLine table:\n",
    "InvoiceLineId\tInvoiceId\tTrackId\tUnitPrice\tQuantity\n",
    "1\t1\t2\t0.99\t1\n",
    "2\t1\t4\t0.99\t1\n",
    "3\t2\t6\t0.99\t1\n",
    "*/\n",
    "\n",
    "\n",
    "CREATE TABLE \"MediaType\" (\n",
    "\t\"MediaTypeId\" INTEGER NOT NULL, \n",
    "\t\"Name\" NVARCHAR(120), \n",
    "\tPRIMARY KEY (\"MediaTypeId\")\n",
    ")\n",
    "\n",
    "/*\n",
    "3 rows from MediaType table:\n",
    "MediaTypeId\tName\n",
    "1\tMPEG audio file\n",
    "2\tProtected AAC audio file\n",
    "3\tProtected MPEG-4 video file\n",
    "*/\n",
    "\n",
    "\n",
    "CREATE TABLE \"Playlist\" (\n",
    "\t\"PlaylistId\" INTEGER NOT NULL, \n",
    "\t\"Name\" NVARCHAR(120), \n",
    "\tPRIMARY KEY (\"PlaylistId\")\n",
    ")\n",
    "\n",
    "/*\n",
    "3 rows from Playlist table:\n",
    "PlaylistId\tName\n",
    "1\tMusic\n",
    "2\tMovies\n",
    "3\tTV Shows\n",
    "*/\n",
    "\n",
    "\n",
    "CREATE TABLE \"PlaylistTrack\" (\n",
    "\t\"PlaylistId\" INTEGER NOT NULL, \n",
    "\t\"TrackId\" INTEGER NOT NULL, \n",
    "\tPRIMARY KEY (\"PlaylistId\", \"TrackId\"), \n",
    "\tFOREIGN KEY(\"TrackId\") REFERENCES \"Track\" (\"TrackId\"), \n",
    "\tFOREIGN KEY(\"PlaylistId\") REFERENCES \"Playlist\" (\"PlaylistId\")\n",
    ")\n",
    "\n",
    "/*\n",
    "3 rows from PlaylistTrack table:\n",
    "PlaylistId\tTrackId\n",
    "1\t3402\n",
    "1\t3389\n",
    "1\t3390\n",
    "*/\n",
    "\n",
    "\n",
    "CREATE TABLE \"Track\" (\n",
    "\t\"TrackId\" INTEGER NOT NULL, \n",
    "\t\"Name\" NVARCHAR(200) NOT NULL, \n",
    "\t\"AlbumId\" INTEGER, \n",
    "\t\"MediaTypeId\" INTEGER NOT NULL, \n",
    "\t\"GenreId\" INTEGER, \n",
    "\t\"Composer\" NVARCHAR(220), \n",
    "\t\"Milliseconds\" INTEGER NOT NULL, \n",
    "\t\"Bytes\" INTEGER, \n",
    "\t\"UnitPrice\" NUMERIC(10, 2) NOT NULL, \n",
    "\tPRIMARY KEY (\"TrackId\"), \n",
    "\tFOREIGN KEY(\"MediaTypeId\") REFERENCES \"MediaType\" (\"MediaTypeId\"), \n",
    "\tFOREIGN KEY(\"GenreId\") REFERENCES \"Genre\" (\"GenreId\"), \n",
    "\tFOREIGN KEY(\"AlbumId\") REFERENCES \"Album\" (\"AlbumId\")\n",
    ")\n",
    "\n",
    "/*\n",
    "3 rows from Track table:\n",
    "TrackId\tName\tAlbumId\tMediaTypeId\tGenreId\tComposer\tMilliseconds\tBytes\tUnitPrice\n",
    "1\tFor Those About To Rock (We Salute You)\t1\t1\t1\tAngus Young, Malcolm Young, Brian Johnson\t343719\t11170334\t0.99\n",
    "2\tBalls to the Wall\t2\t2\t1\tU. Dirkschneider, W. Hoffmann, H. Frank, P. Baltes, S. Kaufmann, G. Hoffmann\t342562\t5510424\t0.99\n",
    "3\tFast As a Shark\t3\t2\t1\tF. Baltes, S. Kaufman, U. Dirkscneider & W. Hoffman\t230619\t3990994\t0.99\n",
    "*/\n",
    "        \n",
    "    how many music genres are in the db?\n",
    "    [/INST]\"\"\""
   ]
  },
  {
   "cell_type": "code",
   "execution_count": 21,
   "metadata": {},
   "outputs": [
    {
     "data": {
      "text/plain": [
       "' SELECT COUNT(*) FROM \"Genre\"'"
      ]
     },
     "execution_count": 21,
     "metadata": {},
     "output_type": "execute_result"
    }
   ],
   "source": [
    "llm.invoke(prompt)"
   ]
  },
  {
   "cell_type": "code",
   "execution_count": null,
   "metadata": {},
   "outputs": [],
   "source": []
  }
 ],
 "metadata": {
  "kernelspec": {
   "display_name": "finetuning_env",
   "language": "python",
   "name": "python3"
  },
  "language_info": {
   "codemirror_mode": {
    "name": "ipython",
    "version": 3
   },
   "file_extension": ".py",
   "mimetype": "text/x-python",
   "name": "python",
   "nbconvert_exporter": "python",
   "pygments_lexer": "ipython3",
   "version": "3.11.3"
  }
 },
 "nbformat": 4,
 "nbformat_minor": 2
}
