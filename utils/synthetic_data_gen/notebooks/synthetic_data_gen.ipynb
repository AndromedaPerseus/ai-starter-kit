{
 "cells": [
  {
   "cell_type": "markdown",
   "metadata": {
    "vscode": {
     "languageId": "plaintext"
    }
   },
   "source": [
    "# Synthetic Data Generation"
   ]
  },
  {
   "cell_type": "markdown",
   "metadata": {},
   "source": [
    "## Setup"
   ]
  },
  {
   "cell_type": "code",
   "execution_count": null,
   "metadata": {},
   "outputs": [],
   "source": [
    "!pip install langchain-community==0.3.2\n",
    "!pip install langchain-core==0.3.10\n",
    "!pip install langchain-experimental==0.3.2\n",
    "!pip install \"unstructured[local-inference]\"\n",
    "!pip install python-poppler==0.4.1"
   ]
  },
  {
   "cell_type": "markdown",
   "metadata": {},
   "source": [
    "##  Load data"
   ]
  },
  {
   "cell_type": "code",
   "execution_count": 22,
   "metadata": {},
   "outputs": [],
   "source": [
    "from unstructured.partition.pdf import partition_pdf\n",
    "def extract_pdf(file_path):\n",
    "        raw_pdf_elements = partition_pdf(\n",
    "            filename=file_path,\n",
    "            strategy='hi_res',\n",
    "            hi_res_model_name='yolox',\n",
    "            infer_table_structure=True,\n",
    "            chunking_strategy='by_title',\n",
    "            max_characters=4096,\n",
    "            combine_text_under_n_chars=500,\n",
    "        )\n",
    "\n",
    "        return raw_pdf_elements"
   ]
  },
  {
   "cell_type": "code",
   "execution_count": 35,
   "metadata": {},
   "outputs": [],
   "source": [
    "unstructured_documents = extract_pdf(\"./data/SambaNova.pdf\")"
   ]
  },
  {
   "cell_type": "code",
   "execution_count": 36,
   "metadata": {},
   "outputs": [],
   "source": [
    "documents = []\n",
    "for document in unstructured_documents:\n",
    "    if document.category == 'Table':\n",
    "        documents.append(document.metadata.text_as_html)\n",
    "    else:\n",
    "        documents.append(document.text) "
   ]
  },
  {
   "cell_type": "code",
   "execution_count": 39,
   "metadata": {},
   "outputs": [
    {
     "data": {
      "text/plain": [
       "['commercial and public sector industries and is as disruptive decades ago. And like the internet—Al promises decisive to organizations that can leverage it for innovation sooner\\n\\nAccelerate Data-Driven Decision-Making with State-of-the-Art AI\\n\\nAI is increasingly being adopted across commercial and public sector industries and is as disruptive today as the advent of the internet a few decades ago. And like the internet—AI promises decisive competitive and operational advantages to organizations that can leverage it for innovation sooner rather than later.',\n",
       " 'ROADBLOCKS TO INNOVATION\\n\\nToday, all but the big tech giants face seemingly insurmountable obstacles to bring AI applications into production. These challenges include:\\n\\n• Critical skill gaps due to machine learning talent scarcity\\n\\n• Lack of expertise in computing architectures\\n\\n• Difficulty in keeping on top of latest models and techniques\\n\\n• Investment justiﬁcation without proof of prior impact\\n\\nUNLOCKING THE FUTURE\\n\\nThe AI talent shortage continues to burden companies across all industries. And the reality is, unless you’re a company like Google or Facebook, you’ll be hard-pressed to attract top talent, resulting in a subpar AI solution. It’s time you demand a solution to this challenge and it’s time that companies meet this need.',\n",
       " 'HARNESS THE POWER OF NEXT-GENERATION AI\\n\\nSambaNova enables organizations to build and deploy AI solutions for natural language processing, high-resolution computer vision, and recommendation. With state-of-the-art accuracy, unmatched scalability, and ease of use, SambaNova delivers AI capabilities at a fraction of the time and expense it takes to develop complex in-house infrastructure and machine learning expertise.\\n\\nAffordable and attainable, SambaNova’s AI platform can be delivered as a CapEx-modeled rack Infrastructure solution or an OpEx modeled subscription service that is fully managed by SambaNova and comes completely conﬁgured with pretrained models that can save signiﬁcant time for customers.\\n\\n4? po fon oO e E',\n",
       " 'OUR PRODUCTS\\n\\nDataﬂow-as-a-ServiceTM\\n\\nDataﬂow-as-a-ServiceTM is the industry’s ﬁrst subscription-based AI acceleration services platform that enables enterprises to jump-start AI initiatives by leveraging SambaNova’s expertise to augment their existing ML capabilities and staffing. Dataﬂow-as-a-service provides comprehensive API services and models for businesses to deploy fully managed AI solutions within weeks as opposed to the typical 12-18 months.\\n\\nComputer Vision\\n\\nI\\n\\nNatural Language Processing\\n\\nRecommendation Systems\\n\\nDataScale®',\n",
       " 'DataScale®\\n\\nONE PLATFORM\\n\\nBuilt on SambaNova Systems’ Reconﬁgurable Dataﬂow Architecture, DataScale® is an integrated AI software and hardware accelerator that delivers unrivaled performance, accuracy, scale, and ease of use. Optimized from algorithms to silicon, DataScale delivers efficiency with a software-deﬁned-hardware approach and a highly ﬂexible modular architecture. DataScale can scale seamlessly from one to hundreds of systems to meet the demands of modern AI computing.\\n\\nYOUR CHOICE OF DEPLOYMENT',\n",
       " '<table><tr><td>DATAFLOW-AS-A-SERVICE™</td><td>DATASCALE®</td></tr><tr><td>SambaNova managed</td><td>Customer managed</td></tr><tr><td>Optimized pretrained models</td><td>Build your own models</td></tr><tr><td>Ability to fine-tune with your custom data</td><td>Your data</td></tr><tr><td>Opex</td><td>Opex + Capex</td></tr></table>',\n",
       " 'Copyright © 2021 SambaNova Systems, Inc. All rights reserved.\\n\\n01\\n\\nDatafiow-as-a-Service™\\n\\neau 10 (Oro)\\n\\nAX\\n\\nDataScales\\n\\nAl Oil\\n\\nAI Use Cases Across Industries\\n\\nue ee\\n\\nete (S)\\n\\nManufacturing & Automotive Digital transformation, predictive maintenance, visual inspection\\n\\nHealthcare & Life Sciences Genomics, drug discovery, telehealth, disease diagnosis\\n\\nFinancial Services Compliance, risk mitigation, algorithmic trading\\n\\nANN “TDL:\\n\\nOil & Gas, Energy Predictive asset maintenance, seismic processing, exploration\\n\\nPublic Sector Intelligent decision-making, ISR, predictive analytics\\n\\nRetail & E-Commerce Digital acceleration, personalized services delivery',\n",
       " 'DON’T JUST TAKE OUR WORD FOR IT\\n\\n”We’re interested in technology that can train models faster than individual GPUs, that has more scalability and has more performance and so the SambaNova DataScale System met that criteria.”\\n\\nRICK STEVENS ASSOCIATE LABORATORY DIRECTOR ARGONNE NATIONAL LABORATORY\\n\\n”In this partnership with SambaNova, we’re providing businesses with never-before-seen access to artiﬁcial intelligence that will certainly lead to greater adoption of AI in Asia. Together, we are enabling ScaleWorX end-users access to disruptive and innovative solutions that can quickly generate new revenue opportunities with AI.” JUN MATSUURA MANAGING DIRECTOR\\n\\nJUN MATSUURA MANAGING DIRECTOR\\n\\n”The support for running multiple models built into the hardware was a signiﬁcant aspect of our selection of SambaNova Systems. We’re seeing roughly a 5x improvement compared to a comparable GPU running the same models.”\\n\\nBRONIS DE SUPINSKI, CHIEF TECHNOLOGY OFFICER LAWRENCE LIVERMORE NATIONAL LABORATORY\\n\\nTo learn how your organization can innovate with next-generation AI, please visit us at SambaNova.AI.\\n\\nin ¥ f &\\n\\nG)SambaNo\\n\\nSambaNova Systems is an AI innovation company that empowers organizations to deploy best-in-class solutions for computer vision, natural language processing, recommendation systems, and AI for science with conﬁdence. SambaNova’s ﬂagship offering, Dataﬂow-as-a-Service, helps organizations rapidly deploy AI in days, unlocking new revenue and boosting operational efficiency. SambaNova’s DataScale® is an integrated software and hardware system using Reconﬁgurable Dataﬂow Architecture (RDA), along with open standards and user interfaces. Headquartered in Palo Alto, California, SambaNova Systems was founded in 2017 by industry luminaries, hardware, and software design experts from Sun/Oracle and Stanford University. Investors include SoftBank Vision Fund 2, funds and accounts managed by BlackRock, Intel Capital, GV, Walden International, Temasek, GIC, Redline Capital, Atlantic Bridge Ventures, Celesta, and several others.\\n\\nCopyright © 2021 SambaNova Systems, Inc. All rights reserved. | Palo Alto, CA and Austin, TX | (650) 263-1153\\n\\n02']"
      ]
     },
     "execution_count": 39,
     "metadata": {},
     "output_type": "execute_result"
    }
   ],
   "source": [
    "documents"
   ]
  },
  {
   "cell_type": "code",
   "execution_count": 33,
   "metadata": {},
   "outputs": [
    {
     "ename": "IndexError",
     "evalue": "list index out of range",
     "output_type": "error",
     "traceback": [
      "\u001b[0;31m---------------------------------------------------------------------------\u001b[0m",
      "\u001b[0;31mIndexError\u001b[0m                                Traceback (most recent call last)",
      "Cell \u001b[0;32mIn[33], line 1\u001b[0m\n\u001b[0;32m----> 1\u001b[0m \u001b[43mdocuments\u001b[49m\u001b[43m[\u001b[49m\u001b[38;5;241;43m9\u001b[39;49m\u001b[43m]\u001b[49m\u001b[38;5;241m.\u001b[39mcategory\n",
      "\u001b[0;31mIndexError\u001b[0m: list index out of range"
     ]
    }
   ],
   "source": [
    "documents[9].category"
   ]
  },
  {
   "cell_type": "code",
   "execution_count": 2,
   "metadata": {},
   "outputs": [],
   "source": [
    "from langchain_community.chat_models import ChatSambaNovaCloud "
   ]
  },
  {
   "cell_type": "code",
   "execution_count": null,
   "metadata": {},
   "outputs": [],
   "source": []
  }
 ],
 "metadata": {
  "kernelspec": {
   "display_name": "finetuning_env",
   "language": "python",
   "name": "python3"
  },
  "language_info": {
   "codemirror_mode": {
    "name": "ipython",
    "version": 3
   },
   "file_extension": ".py",
   "mimetype": "text/x-python",
   "name": "python",
   "nbconvert_exporter": "python",
   "pygments_lexer": "ipython3",
   "version": "3.11.3"
  }
 },
 "nbformat": 4,
 "nbformat_minor": 2
}
