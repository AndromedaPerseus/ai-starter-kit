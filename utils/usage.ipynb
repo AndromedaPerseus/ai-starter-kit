{
 "cells": [
  {
   "cell_type": "code",
   "execution_count": 2,
   "metadata": {},
   "outputs": [
    {
     "data": {
      "text/plain": [
       "True"
      ]
     },
     "execution_count": 2,
     "metadata": {},
     "output_type": "execute_result"
    }
   ],
   "source": [
    "import os\n",
    "import sys\n",
    "from sambanova_endpoint import SambaStudio, Sambaverse, SambaStudioFastCoE, SambaStudioEmbeddings\n",
    "from dotenv import load_dotenv\n",
    "import json\n",
    "load_dotenv(\"../.env\")\n"
   ]
  },
  {
   "cell_type": "markdown",
   "metadata": {},
   "source": [
    "# SambaStudio endpoint"
   ]
  },
  {
   "cell_type": "markdown",
   "metadata": {},
   "source": [
    "## Non streaming"
   ]
  },
  {
   "cell_type": "code",
   "execution_count": 3,
   "metadata": {},
   "outputs": [],
   "source": [
    "\n",
    "llm = SambaStudio(\n",
    "        streaming=False,\n",
    "        #base_uri=\"api/predict/generic\",\n",
    "        model_kwargs={\n",
    "            \"do_sample\": True, \n",
    "            \"temperature\": 0.01,\n",
    "            \"max_tokens_to_generate\": 256,\n",
    "            \"process_prompt\": False,\n",
    "            \"select_expert\": \"llama-2-7b-chat-hf\",\n",
    "            # \"repetition_penalty\": 1.0,\n",
    "            # \"top_k\": 50\",\n",
    "            # \"top_logprobs\": 0,\n",
    "            # \"top_p\": 1.0\n",
    "        }\n",
    "    ) \n"
   ]
  },
  {
   "cell_type": "code",
   "execution_count": 4,
   "metadata": {},
   "outputs": [
    {
     "data": {
      "text/plain": [
       "'of a character who is a master of disguise\\n\\nSure! Here is a 50-word tale of a character who is a master of disguise:\\n\\n\"Araxys, the skilled disguise artist, transformed into a stunning mermaid to infiltrate a pirate\\'s lair, then morphed into a loyal servant to gain the trust of the pirate\\'s crew.\"'"
      ]
     },
     "execution_count": 4,
     "metadata": {},
     "output_type": "execute_result"
    }
   ],
   "source": [
    "llm.invoke(\"tell me a 50 word tale\")"
   ]
  },
  {
   "cell_type": "markdown",
   "metadata": {},
   "source": [
    "## Streaming"
   ]
  },
  {
   "cell_type": "code",
   "execution_count": 5,
   "metadata": {},
   "outputs": [],
   "source": [
    "llm=SambaStudio(\n",
    "        streaming=True,\n",
    "        model_kwargs={\n",
    "            \"do_sample\": True,\n",
    "            \"max_tokens_to_generate\": 256,\n",
    "            \"temperature\": 0.01,\n",
    "            \"process_prompt\": False,\n",
    "            \"select_expert\": \"llama-2-7b-chat-hf\",\n",
    "            # \"repetition_penalty\": 1.0,\n",
    "            # \"top_k\": 50\",\n",
    "            # \"top_logprobs\": 0,\n",
    "            # \"top_p\": 1.0\n",
    "            }\n",
    "        )"
   ]
  },
  {
   "cell_type": "code",
   "execution_count": 6,
   "metadata": {},
   "outputs": [
    {
     "name": "stdout",
     "output_type": "stream",
     "text": [
      " of a character who is a master of disguise\n",
      "\n",
      "Sure! Here is a 50-word tale of a character who is a master of disguise:\n",
      "\n",
      "\"Araxys, the skilled disguise artist, transformed into a stunning mermaid to infiltrate a pirate's lair, then morphed into a loyal servant to gain the trust of the pirate's crew.\""
     ]
    }
   ],
   "source": [
    "for chunk in llm.stream(\"tell me a 50 word tale\"):\n",
    "    print(chunk, end=\"\", flush=True)"
   ]
  },
  {
   "cell_type": "markdown",
   "metadata": {},
   "source": [
    "# Sambaverse\n"
   ]
  },
  {
   "cell_type": "markdown",
   "metadata": {},
   "source": [
    "## Non Streaming"
   ]
  },
  {
   "cell_type": "code",
   "execution_count": 9,
   "metadata": {},
   "outputs": [],
   "source": [
    "llm = Sambaverse(\n",
    "    sambaverse_model_name = \"Meta/llama-2-7b-chat-hf\",\n",
    "    model_kwargs={\n",
    "        \"do_sample\": True, \n",
    "        \"max_tokens_to_generate\": 256,\n",
    "        \"temperature\": 0.01,\n",
    "        \"process_prompt\": False,\n",
    "        \"select_expert\": \"llama-2-7b-chat-hf\",\n",
    "        #\"stop_sequences\": '\\\"sequence1\\\",\\\"sequence2\\\"',\n",
    "        #\"repetition_penalty\":  1.0,\n",
    "        #\"top_k\": 50,\n",
    "        #\"top_p\": 1.0\n",
    "        }\n",
    "    ) "
   ]
  },
  {
   "cell_type": "code",
   "execution_count": 10,
   "metadata": {},
   "outputs": [
    {
     "data": {
      "text/plain": [
       "'of a character who is a master of disguise\\n\\nSure! Here is a 50-word tale of a character who is a master of disguise:\\n\\n\"Araxys, the skilled disguise artist, transformed into a stunning mermaid to infiltrate a pirate\\'s lair. With a flick of her tail, she charmed the pirates and stole their treasure.\"'"
      ]
     },
     "execution_count": 10,
     "metadata": {},
     "output_type": "execute_result"
    }
   ],
   "source": [
    "llm.invoke(\"tell me a 50 word tale\")"
   ]
  },
  {
   "cell_type": "markdown",
   "metadata": {},
   "source": [
    "## Streaming"
   ]
  },
  {
   "cell_type": "code",
   "execution_count": 16,
   "metadata": {},
   "outputs": [],
   "source": [
    "llm = Sambaverse(\n",
    "    streaming=True,\n",
    "    sambaverse_model_name=\"Meta/llama-2-7b-chat-hf\",\n",
    "    model_kwargs={\n",
    "        \"do_sample\": True, \n",
    "        \"max_tokens_to_generate\": 256,\n",
    "        \"temperature\": 0.01,\n",
    "        \"process_prompt\": False,\n",
    "        \"select_expert\": \"llama-2-7b-chat-hf\",\n",
    "        #\"stop_sequences\": '\\\"sequence1\\\",\\\"sequence2\\\"',\n",
    "        #\"repetition_penalty\":  1.0,\n",
    "        #\"top_k\": 50,\n",
    "        #\"top_p\": 1.0\n",
    "        }\n",
    "    ) "
   ]
  },
  {
   "cell_type": "code",
   "execution_count": 17,
   "metadata": {},
   "outputs": [
    {
     "name": "stdout",
     "output_type": "stream",
     "text": [
      " of a character who is a master of disguise\n",
      "\n",
      "Sure! Here is a 50-word tale of a character who is a master of disguise:\n",
      "\n",
      "\"Araxys, the skilled disguise artist, transformed into a stunning mermaid to infiltrate a pirate's lair. With a flick of her tail, she charmed the pirates and stole their treasure.\""
     ]
    }
   ],
   "source": [
    "\n",
    "for chunk in llm.stream(\"tell me a 50 word tale\"):\n",
    "    print(chunk, end=\"\", flush=True)"
   ]
  },
  {
   "cell_type": "markdown",
   "metadata": {},
   "source": [
    "# FastCoe endpoint"
   ]
  },
  {
   "cell_type": "code",
   "execution_count": 18,
   "metadata": {},
   "outputs": [],
   "source": [
    "llm = SambaStudioFastCoE(model='llama3-8b')"
   ]
  },
  {
   "cell_type": "code",
   "execution_count": 19,
   "metadata": {},
   "outputs": [
    {
     "data": {
      "text/plain": [
       "\"Hello! It's nice to meet you. Is there something I can help you with, or would you like to chat?\""
      ]
     },
     "execution_count": 19,
     "metadata": {},
     "output_type": "execute_result"
    }
   ],
   "source": [
    "import json\n",
    "llm.invoke(json.dumps([{'role': 'user', 'content': 'hello'}]))"
   ]
  },
  {
   "cell_type": "code",
   "execution_count": 20,
   "metadata": {},
   "outputs": [
    {
     "data": {
      "text/plain": [
       "\"Hello! It's nice to meet you. Is there something I can help you with, or would you like to chat?\""
      ]
     },
     "execution_count": 20,
     "metadata": {},
     "output_type": "execute_result"
    }
   ],
   "source": [
    "llm.invoke('hello')"
   ]
  },
  {
   "cell_type": "code",
   "execution_count": 21,
   "metadata": {},
   "outputs": [
    {
     "name": "stdout",
     "output_type": "stream",
     "text": [
      "\n",
      "I'd be delighted to spin you a yarn! Here's a long story for you:\n",
      "\n",
      "Once upon \n",
      "a time, in a small village nestled in the rolling hills of Provence, France, there lived \n",
      "a young girl named Sophie. Sophie was a curious and adventurous soul, with a mop of curly brown \n",
      "hair and a smile that could light up the darkest of rooms. She lived with her parents, Pierre \n",
      "and Colette, in a charming stone cottage on the outskirts of the village, surrounded by fields of \n",
      "lavender and sunflowers.\n",
      "\n",
      "Sophie's parents were kind and loving, but they were also very \n",
      "traditional. They ran a small bakery in the village, where they made the most delicious bread and pastries \n",
      "in all the land. Sophie loved helping out in the bakery, learning the secrets of the trade from \n",
      "her parents and experimenting with new recipes of her own.\n",
      "\n",
      "One day, when Sophie was 12 years \n",
      "old, a strange and mysterious stranger arrived in the village. He was tall and gaunt, with \n",
      "piercing green eyes and a wild shock of white hair. He wore a long, black coat with a \n",
      "crimson scarf wrapped around his neck, and carried a worn leather satchel slung over his shoulder.\n",
      "\n",
      "\n",
      "The stranger introduced himself as Monsieur LeFleur, a traveling scholar and collector of rare and \n",
      "exotic artifacts. He had heard about the village's famous bakery and had come to sample the \n",
      "wares. Sophie's parents were wary of the stranger at first, but Monsieur LeFleur's charming \n",
      "manner and impressive knowledge of the village's history soon won them over.\n",
      "\n",
      "As Monsieur LeFleur \n",
      "spent more time in the village, Sophie found herself drawn to his stories of far-off lands and ancient \n",
      "civilizations. He regaled her with tales of lost cities, hidden temples, and mysterious artifacts, sparking \n",
      "her imagination and sense of adventure.\n",
      "\n",
      "One evening, as the sun dipped below the horizon, Monsieur \n",
      "LeFleur approached Sophie's parents with a proposal. He had discovered an ancient map, hidden away \n",
      "in the dusty recesses of his satchel, which supposedly led to a long-lost treasure \n",
      "buried deep within the nearby mountains. He asked Sophie's parents if he could take Sophie on a journey \n",
      "to find the treasure, promising that it would be a once-in-a-lifetime \n",
      "adventure.\n",
      "\n",
      "Sophie's parents were hesitant at first, but Monsieur LeFleur's enthusiasm was infectious. They eventually \n",
      "agreed, on the condition that Sophie would be accompanied by a trusted guide and that they would return to \n",
      "the village before nightfall.\n",
      "\n",
      "And so, Sophie set off on her journey with Monsieur \n",
      "LeFleur and a gruff but lovable guide named Jacques. They traveled through the mountains, following the \n",
      "winding path indicated on the ancient map. Along the way, they encountered all manner of obstacles, from \n",
      "raging rivers to treacherous cliffs, but Sophie's determination and quick thinking helped them overcome each challenge.\n",
      "\n",
      "\n",
      "As the sun began to set on the third day, they finally reached the entrance to a hidden \n",
      "cave. Monsieur LeFleur produced a small, intricately carved key and unlocked the entrance, \n",
      "revealing a vast underground chamber filled with glittering treasures.\n",
      "\n",
      "Sophie's eyes widened as she gazed \n",
      "upon the treasure trove, filled with gold coins, precious jewels, and ancient artifacts. But as \n",
      "they began to explore the chamber, they realized that they were not alone. A rival treasure hunter, \n",
      "a ruthless and cunning woman named Madame LaRue, had also discovered the map and was determined to \n",
      "claim the treasure for herself.\n",
      "\n",
      "A thrilling chase ensued, with Sophie, Monsieur LeFleur, \n",
      "and Jacques racing against Madame LaRue and her henchmen to claim the treasure. In the \n",
      "end, Sophie's quick thinking and bravery proved to be the deciding factor, as she outwitted \n",
      "Madame LaRue and her accomplices, securing the treasure for herself and her companions.\n",
      "\n",
      "As they \n",
      "made their way back to the village, Sophie realized that the journey had changed her in ways she never \n",
      "could have imagined. She had discovered a newfound sense of confidence and determination, and had formed a deep \n",
      "bond with Monsieur LeFleur and Jacques.\n",
      "\n",
      "Upon their return, Sophie's parents were \n",
      "overjoyed to see their daughter safe and sound, with a tale to tell that would be passed down for \n",
      "generations to come. Monsieur LeFleur, too, was grateful for Sophie's bravery and quick \n",
      "thinking, and he presented her with a small, intricately carved box as a token of his appreciation.\n",
      "\n",
      "\n",
      "The box, it turned out, contained a map of its own, leading to a hidden garden \n",
      "deep within the village. The garden, Sophie soon discovered, was filled with rare and exotic flowers, \n",
      "each one imbued with magical properties. As she explored the garden, Sophie began to realize that she \n",
      "had a special connection to the flowers, and that she possessed a unique gift – the ability to communicate \n",
      "with the natural world.\n",
      "\n",
      "As Sophie grew older, she used her gift to help her parents with their \n",
      "bakery, creating new and innovative recipes that incorporated the magical properties of the flowers. She also continued to \n",
      "explore the hidden garden, learning more about the secrets of the natural world and the magic that lay within.\n",
      "\n",
      "\n",
      "\n",
      "\n"
     ]
    }
   ],
   "source": [
    "for i in llm.stream('hello tell me a long story'):\n",
    "    print(i)"
   ]
  },
  {
   "cell_type": "markdown",
   "metadata": {},
   "source": [
    "# Embeddings"
   ]
  },
  {
   "cell_type": "code",
   "execution_count": null,
   "metadata": {},
   "outputs": [],
   "source": [
    "embedding = SambaStudioEmbeddings(\n",
    "    batch_size=1,\n",
    "    model_kwargs = {\n",
    "    \"select_expert\":\"e5-mistral-7b-instruct\"\n",
    "    })\n",
    "embedding.embed_documents([\"tell me a 50 word tale\",\"tell me a joke\"])\n",
    "embedding.embed_query(\"tell me a 50 word tale\")"
   ]
  },
  {
   "cell_type": "code",
   "execution_count": 6,
   "metadata": {},
   "outputs": [
    {
     "name": "stderr",
     "output_type": "stream",
     "text": [
      "/Users/jorgep/Documents/ask_public_own/fcenv/lib/python3.10/site-packages/langchain_core/_api/deprecation.py:139: LangChainDeprecationWarning: The method `BaseRetriever.get_relevant_documents` was deprecated in langchain-core 0.1.46 and will be removed in 0.3.0. Use invoke instead.\n",
      "  warn_deprecated(\n"
     ]
    },
    {
     "data": {
      "text/plain": [
       "[Document(page_content='tell me a 50 word tale'),\n",
       " Document(page_content='tell me a joke'),\n",
       " Document(page_content='give me 3 party activities'),\n",
       " Document(page_content='give me three healty dishes')]"
      ]
     },
     "execution_count": 6,
     "metadata": {},
     "output_type": "execute_result"
    }
   ],
   "source": [
    "from langchain.vectorstores import Chroma\n",
    "from langchain.schema import Document\n",
    "\n",
    "docs=[\"tell me a 50 word tale\",\"tell me a joke\",\"when was America discoverd?\", \"how to build an engine?\", \"give me 3 party activities\", \"give me three healty dishes\"]\n",
    "docs=[Document(doc) for doc in docs]\n",
    "\n",
    "query = \"prompt for generating something fun\"\n",
    "\n",
    "vectordb = Chroma.from_documents(docs, embedding)\n",
    "retriever = vectordb.as_retriever()\n",
    "\n",
    "retriever.get_relevant_documents(query)\n"
   ]
  },
  {
   "cell_type": "code",
   "execution_count": null,
   "metadata": {},
   "outputs": [],
   "source": []
  }
 ],
 "metadata": {
  "kernelspec": {
   "display_name": "peenv",
   "language": "python",
   "name": "python3"
  },
  "language_info": {
   "codemirror_mode": {
    "name": "ipython",
    "version": 3
   },
   "file_extension": ".py",
   "mimetype": "text/x-python",
   "name": "python",
   "nbconvert_exporter": "python",
   "pygments_lexer": "ipython3",
   "version": "3.10.11"
  }
 },
 "nbformat": 4,
 "nbformat_minor": 2
}
