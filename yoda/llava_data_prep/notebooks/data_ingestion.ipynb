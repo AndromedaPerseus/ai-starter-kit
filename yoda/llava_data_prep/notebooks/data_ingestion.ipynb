{
 "cells": [
  {
   "cell_type": "code",
   "execution_count": 1,
   "metadata": {},
   "outputs": [],
   "source": [
    "import os\n",
    "import sys\n",
    "\n",
    "current_dir = os.getcwd()\n",
    "kit_dir = os.path.abspath(os.path.join(current_dir, \"../..\"))\n",
    "repo_dir = os.path.abspath(os.path.join(kit_dir, \"..\"))\n",
    "\n",
    "sys.path.append(kit_dir)\n",
    "sys.path.append(repo_dir)\n",
    "\n",
    "OUTPUT_DIR = os.path.join(kit_dir, \"data\", \"HuggingFaceM4/DocumentVQA/DocumentVQA_100samples\")"
   ]
  },
  {
   "cell_type": "code",
   "execution_count": null,
   "metadata": {},
   "outputs": [],
   "source": [
    "from llava_data_prep.src.data_ingestion import LlaVaData\n",
    "data_ingester = LlaVaData()"
   ]
  },
  {
   "cell_type": "code",
   "execution_count": null,
   "metadata": {},
   "outputs": [],
   "source": [
    "data_ingester.download_hf_data_documentVQA(dataset_name=\"HuggingFaceM4/DocumentVQA\", \n",
    "                               output_dir=OUTPUT_DIR,\n",
    "                               split=\"train\")"
   ]
  },
  {
   "cell_type": "code",
   "execution_count": null,
   "metadata": {},
   "outputs": [],
   "source": [
    "data_ingester.download_hf_data_documentVQA(dataset_name=\"HuggingFaceM4/DocumentVQA\", \n",
    "                               output_dir=OUTPUT_DIR,\n",
    "                               split=\"validation\")"
   ]
  }
 ],
 "metadata": {
  "kernelspec": {
   "display_name": ".llava",
   "language": "python",
   "name": "python3"
  },
  "language_info": {
   "codemirror_mode": {
    "name": "ipython",
    "version": 3
   },
   "file_extension": ".py",
   "mimetype": "text/x-python",
   "name": "python",
   "nbconvert_exporter": "python",
   "pygments_lexer": "ipython3",
   "version": "3.11.3"
  }
 },
 "nbformat": 4,
 "nbformat_minor": 2
}
